{
  "cells": [
    {
      "cell_type": "code",
      "execution_count": 1,
      "metadata": {
        "colab": {
          "base_uri": "https://localhost:8080/"
        },
        "id": "4vjiGwCzzuxD",
        "outputId": "ff081e11-161a-49cd-cd31-3e56c5575f32"
      },
      "outputs": [],
      "source": [
        "# from google.colab import drive\n",
        "# drive.mount('/content/drive')"
      ]
    },
    {
      "cell_type": "markdown",
      "metadata": {
        "id": "b3KoNO_BzdLj"
      },
      "source": [
        "---"
      ]
    },
    {
      "cell_type": "markdown",
      "metadata": {
        "id": "Vgzxi8xazdLo"
      },
      "source": [
        "# **Milestone 1 Phase 2**"
      ]
    },
    {
      "cell_type": "markdown",
      "metadata": {
        "id": "dIIfxFfGKoM6"
      },
      "source": [
        "## 1 - Perkenalan"
      ]
    },
    {
      "cell_type": "markdown",
      "metadata": {
        "id": "TqickhQxzdLr"
      },
      "source": [
        "```\n",
        "Nama : Khalisul Akbar\n",
        "\n",
        "Batch : FTDS-Batch 10\n",
        "```\n"
      ]
    },
    {
      "cell_type": "markdown",
      "metadata": {
        "id": "tjN0vIZfzdLt"
      },
      "source": [
        "### Description\n",
        "\n"
      ]
    },
    {
      "cell_type": "markdown",
      "metadata": {
        "id": "uQoZEpbYzdLu"
      },
      "source": [
        "#### Objective :\n",
        "\n",
        "```\n",
        "Adapun objective yang ingin dicapai pada project ini adalah :\n",
        "1. Exploratory Data Analysis untuk memperoleh pemahaman dataset yang baik.\n",
        "2. Preprocessing data yang baik untuk mendapatkan model yang baik.\n",
        "3. Features Engineering untuk mendapatkan Feature yang memiliki korelasi yang baik dengan Target.\n",
        "4. Mampu mengimplementasikan ANN.\n",
        "\n",
        "\n",
        "```"
      ]
    },
    {
      "cell_type": "markdown",
      "metadata": {
        "id": "c5oUADCCzdLv"
      },
      "source": [
        "#### Problem Statement :"
      ]
    },
    {
      "cell_type": "markdown",
      "metadata": {
        "id": "6C96rc2PzdLw"
      },
      "source": [
        "```\n",
        "Beberapa tahapan-tahapan yang harus dilalui pada project ini adalah :\n",
        "1. Melakukan visualisasi dataset untuk mengetahui gambaran umum dari dataset yang digunakan.\n",
        "2. Pengecekan dan menghandle outliers dan missing value.\n",
        "3. Memilih Feature yang akan digunakan untuk membuat model dengan menghitung korelasi antara Feature dengan label/target.\n",
        "4. Memingmplementasikan ANN dan mengoptimalisasikan model.\n",
        "5. Melakukan pengetesan model yang telah dibuat dengan data inference.\n",
        "```"
      ]
    },
    {
      "cell_type": "markdown",
      "metadata": {
        "id": "7AjCZdX3zdLy"
      },
      "source": [
        "---"
      ]
    },
    {
      "cell_type": "markdown",
      "metadata": {
        "id": "fQLf2xcdzdL0"
      },
      "source": [
        "## **Working Area**\n"
      ]
    },
    {
      "cell_type": "markdown",
      "metadata": {
        "id": "fprqUishKzl6"
      },
      "source": [
        "## 2 - Import Libraries"
      ]
    },
    {
      "cell_type": "code",
      "execution_count": 2,
      "metadata": {
        "id": "kS8hO3IEzdL3"
      },
      "outputs": [],
      "source": [
        "# Import library\n",
        "\n",
        "import pandas as pd\n",
        "import numpy as np\n",
        "import matplotlib.pyplot as plt\n",
        "import seaborn as sns\n",
        "\n",
        "pd.options.mode.chained_assignment = None  # default='warn'\n",
        "%matplotlib inline"
      ]
    },
    {
      "cell_type": "markdown",
      "metadata": {
        "id": "nIF2-I5OLa_a"
      },
      "source": [
        "## 3 - Data Loading"
      ]
    },
    {
      "cell_type": "code",
      "execution_count": 3,
      "metadata": {
        "colab": {
          "base_uri": "https://localhost:8080/",
          "height": 386
        },
        "id": "qeYNqCzF0r2z",
        "outputId": "7c9a9ce0-4540-4fd6-e038-56ff09bda6e9"
      },
      "outputs": [
        {
          "data": {
            "text/html": [
              "<div>\n",
              "<style scoped>\n",
              "    .dataframe tbody tr th:only-of-type {\n",
              "        vertical-align: middle;\n",
              "    }\n",
              "\n",
              "    .dataframe tbody tr th {\n",
              "        vertical-align: top;\n",
              "    }\n",
              "\n",
              "    .dataframe thead th {\n",
              "        text-align: right;\n",
              "    }\n",
              "</style>\n",
              "<table border=\"1\" class=\"dataframe\">\n",
              "  <thead>\n",
              "    <tr style=\"text-align: right;\">\n",
              "      <th></th>\n",
              "      <th>customerID</th>\n",
              "      <th>gender</th>\n",
              "      <th>SeniorCitizen</th>\n",
              "      <th>Partner</th>\n",
              "      <th>Dependents</th>\n",
              "      <th>tenure</th>\n",
              "      <th>PhoneService</th>\n",
              "      <th>MultipleLines</th>\n",
              "      <th>InternetService</th>\n",
              "      <th>OnlineSecurity</th>\n",
              "      <th>...</th>\n",
              "      <th>DeviceProtection</th>\n",
              "      <th>TechSupport</th>\n",
              "      <th>StreamingTV</th>\n",
              "      <th>StreamingMovies</th>\n",
              "      <th>Contract</th>\n",
              "      <th>PaperlessBilling</th>\n",
              "      <th>PaymentMethod</th>\n",
              "      <th>MonthlyCharges</th>\n",
              "      <th>TotalCharges</th>\n",
              "      <th>Churn</th>\n",
              "    </tr>\n",
              "  </thead>\n",
              "  <tbody>\n",
              "    <tr>\n",
              "      <th>0</th>\n",
              "      <td>7590-VHVEG</td>\n",
              "      <td>Female</td>\n",
              "      <td>0</td>\n",
              "      <td>Yes</td>\n",
              "      <td>No</td>\n",
              "      <td>1</td>\n",
              "      <td>No</td>\n",
              "      <td>No phone service</td>\n",
              "      <td>DSL</td>\n",
              "      <td>No</td>\n",
              "      <td>...</td>\n",
              "      <td>No</td>\n",
              "      <td>No</td>\n",
              "      <td>No</td>\n",
              "      <td>No</td>\n",
              "      <td>Month-to-month</td>\n",
              "      <td>Yes</td>\n",
              "      <td>Electronic check</td>\n",
              "      <td>29.85</td>\n",
              "      <td>29.85</td>\n",
              "      <td>No</td>\n",
              "    </tr>\n",
              "    <tr>\n",
              "      <th>1</th>\n",
              "      <td>5575-GNVDE</td>\n",
              "      <td>Male</td>\n",
              "      <td>0</td>\n",
              "      <td>No</td>\n",
              "      <td>No</td>\n",
              "      <td>34</td>\n",
              "      <td>Yes</td>\n",
              "      <td>No</td>\n",
              "      <td>DSL</td>\n",
              "      <td>Yes</td>\n",
              "      <td>...</td>\n",
              "      <td>Yes</td>\n",
              "      <td>No</td>\n",
              "      <td>No</td>\n",
              "      <td>No</td>\n",
              "      <td>One year</td>\n",
              "      <td>No</td>\n",
              "      <td>Mailed check</td>\n",
              "      <td>56.95</td>\n",
              "      <td>1889.5</td>\n",
              "      <td>No</td>\n",
              "    </tr>\n",
              "    <tr>\n",
              "      <th>2</th>\n",
              "      <td>3668-QPYBK</td>\n",
              "      <td>Male</td>\n",
              "      <td>0</td>\n",
              "      <td>No</td>\n",
              "      <td>No</td>\n",
              "      <td>2</td>\n",
              "      <td>Yes</td>\n",
              "      <td>No</td>\n",
              "      <td>DSL</td>\n",
              "      <td>Yes</td>\n",
              "      <td>...</td>\n",
              "      <td>No</td>\n",
              "      <td>No</td>\n",
              "      <td>No</td>\n",
              "      <td>No</td>\n",
              "      <td>Month-to-month</td>\n",
              "      <td>Yes</td>\n",
              "      <td>Mailed check</td>\n",
              "      <td>53.85</td>\n",
              "      <td>108.15</td>\n",
              "      <td>Yes</td>\n",
              "    </tr>\n",
              "    <tr>\n",
              "      <th>3</th>\n",
              "      <td>7795-CFOCW</td>\n",
              "      <td>Male</td>\n",
              "      <td>0</td>\n",
              "      <td>No</td>\n",
              "      <td>No</td>\n",
              "      <td>45</td>\n",
              "      <td>No</td>\n",
              "      <td>No phone service</td>\n",
              "      <td>DSL</td>\n",
              "      <td>Yes</td>\n",
              "      <td>...</td>\n",
              "      <td>Yes</td>\n",
              "      <td>Yes</td>\n",
              "      <td>No</td>\n",
              "      <td>No</td>\n",
              "      <td>One year</td>\n",
              "      <td>No</td>\n",
              "      <td>Bank transfer (automatic)</td>\n",
              "      <td>42.30</td>\n",
              "      <td>1840.75</td>\n",
              "      <td>No</td>\n",
              "    </tr>\n",
              "    <tr>\n",
              "      <th>4</th>\n",
              "      <td>9237-HQITU</td>\n",
              "      <td>Female</td>\n",
              "      <td>0</td>\n",
              "      <td>No</td>\n",
              "      <td>No</td>\n",
              "      <td>2</td>\n",
              "      <td>Yes</td>\n",
              "      <td>No</td>\n",
              "      <td>Fiber optic</td>\n",
              "      <td>No</td>\n",
              "      <td>...</td>\n",
              "      <td>No</td>\n",
              "      <td>No</td>\n",
              "      <td>No</td>\n",
              "      <td>No</td>\n",
              "      <td>Month-to-month</td>\n",
              "      <td>Yes</td>\n",
              "      <td>Electronic check</td>\n",
              "      <td>70.70</td>\n",
              "      <td>151.65</td>\n",
              "      <td>Yes</td>\n",
              "    </tr>\n",
              "  </tbody>\n",
              "</table>\n",
              "<p>5 rows × 21 columns</p>\n",
              "</div>"
            ],
            "text/plain": [
              "   customerID  gender  SeniorCitizen Partner Dependents  tenure PhoneService  \\\n",
              "0  7590-VHVEG  Female              0     Yes         No       1           No   \n",
              "1  5575-GNVDE    Male              0      No         No      34          Yes   \n",
              "2  3668-QPYBK    Male              0      No         No       2          Yes   \n",
              "3  7795-CFOCW    Male              0      No         No      45           No   \n",
              "4  9237-HQITU  Female              0      No         No       2          Yes   \n",
              "\n",
              "      MultipleLines InternetService OnlineSecurity  ... DeviceProtection  \\\n",
              "0  No phone service             DSL             No  ...               No   \n",
              "1                No             DSL            Yes  ...              Yes   \n",
              "2                No             DSL            Yes  ...               No   \n",
              "3  No phone service             DSL            Yes  ...              Yes   \n",
              "4                No     Fiber optic             No  ...               No   \n",
              "\n",
              "  TechSupport StreamingTV StreamingMovies        Contract PaperlessBilling  \\\n",
              "0          No          No              No  Month-to-month              Yes   \n",
              "1          No          No              No        One year               No   \n",
              "2          No          No              No  Month-to-month              Yes   \n",
              "3         Yes          No              No        One year               No   \n",
              "4          No          No              No  Month-to-month              Yes   \n",
              "\n",
              "               PaymentMethod MonthlyCharges  TotalCharges Churn  \n",
              "0           Electronic check          29.85         29.85    No  \n",
              "1               Mailed check          56.95        1889.5    No  \n",
              "2               Mailed check          53.85        108.15   Yes  \n",
              "3  Bank transfer (automatic)          42.30       1840.75    No  \n",
              "4           Electronic check          70.70        151.65   Yes  \n",
              "\n",
              "[5 rows x 21 columns]"
            ]
          },
          "execution_count": 3,
          "metadata": {},
          "output_type": "execute_result"
        }
      ],
      "source": [
        "# Load the dataset\n",
        "\n",
        "df = pd.read_csv('WA_Fn-UseC_-Telco-Customer-Churn.csv')\n",
        "df.head()"
      ]
    },
    {
      "cell_type": "code",
      "execution_count": 4,
      "metadata": {
        "id": "Zlz6XIp_1MgP"
      },
      "outputs": [],
      "source": [
        "# Duplicate the dataset\n",
        "\n",
        "df_ori = df.copy()"
      ]
    },
    {
      "cell_type": "code",
      "execution_count": 5,
      "metadata": {
        "colab": {
          "base_uri": "https://localhost:8080/"
        },
        "id": "0kqCy2gz1RHt",
        "outputId": "840dbb6a-223e-49ce-878a-fbd99935addc"
      },
      "outputs": [
        {
          "name": "stdout",
          "output_type": "stream",
          "text": [
            "<class 'pandas.core.frame.DataFrame'>\n",
            "RangeIndex: 7043 entries, 0 to 7042\n",
            "Data columns (total 21 columns):\n",
            " #   Column            Non-Null Count  Dtype  \n",
            "---  ------            --------------  -----  \n",
            " 0   customerID        7043 non-null   object \n",
            " 1   gender            7043 non-null   object \n",
            " 2   SeniorCitizen     7043 non-null   int64  \n",
            " 3   Partner           7043 non-null   object \n",
            " 4   Dependents        7043 non-null   object \n",
            " 5   tenure            7043 non-null   int64  \n",
            " 6   PhoneService      7043 non-null   object \n",
            " 7   MultipleLines     7043 non-null   object \n",
            " 8   InternetService   7043 non-null   object \n",
            " 9   OnlineSecurity    7043 non-null   object \n",
            " 10  OnlineBackup      7043 non-null   object \n",
            " 11  DeviceProtection  7043 non-null   object \n",
            " 12  TechSupport       7043 non-null   object \n",
            " 13  StreamingTV       7043 non-null   object \n",
            " 14  StreamingMovies   7043 non-null   object \n",
            " 15  Contract          7043 non-null   object \n",
            " 16  PaperlessBilling  7043 non-null   object \n",
            " 17  PaymentMethod     7043 non-null   object \n",
            " 18  MonthlyCharges    7043 non-null   float64\n",
            " 19  TotalCharges      7043 non-null   object \n",
            " 20  Churn             7043 non-null   object \n",
            "dtypes: float64(1), int64(2), object(18)\n",
            "memory usage: 1.1+ MB\n"
          ]
        }
      ],
      "source": [
        "# Check Dataset Info\n",
        "\n",
        "df.info()"
      ]
    },
    {
      "cell_type": "markdown",
      "metadata": {
        "id": "GF4XklhM1cEe"
      },
      "source": [
        "From the info above we can see that the dataset have 7043 rows with 21 columns. At a glance it seems that there are no missing values shown."
      ]
    },
    {
      "cell_type": "code",
      "execution_count": 6,
      "metadata": {
        "colab": {
          "base_uri": "https://localhost:8080/",
          "height": 300
        },
        "id": "dYu2Aj8D2SWI",
        "outputId": "78c0b8f5-8a23-46eb-8828-9ba41ddaff15"
      },
      "outputs": [
        {
          "data": {
            "text/html": [
              "<div>\n",
              "<style scoped>\n",
              "    .dataframe tbody tr th:only-of-type {\n",
              "        vertical-align: middle;\n",
              "    }\n",
              "\n",
              "    .dataframe tbody tr th {\n",
              "        vertical-align: top;\n",
              "    }\n",
              "\n",
              "    .dataframe thead th {\n",
              "        text-align: right;\n",
              "    }\n",
              "</style>\n",
              "<table border=\"1\" class=\"dataframe\">\n",
              "  <thead>\n",
              "    <tr style=\"text-align: right;\">\n",
              "      <th></th>\n",
              "      <th>SeniorCitizen</th>\n",
              "      <th>tenure</th>\n",
              "      <th>MonthlyCharges</th>\n",
              "    </tr>\n",
              "  </thead>\n",
              "  <tbody>\n",
              "    <tr>\n",
              "      <th>count</th>\n",
              "      <td>7043.000000</td>\n",
              "      <td>7043.000000</td>\n",
              "      <td>7043.000000</td>\n",
              "    </tr>\n",
              "    <tr>\n",
              "      <th>mean</th>\n",
              "      <td>0.162147</td>\n",
              "      <td>32.371149</td>\n",
              "      <td>64.761692</td>\n",
              "    </tr>\n",
              "    <tr>\n",
              "      <th>std</th>\n",
              "      <td>0.368612</td>\n",
              "      <td>24.559481</td>\n",
              "      <td>30.090047</td>\n",
              "    </tr>\n",
              "    <tr>\n",
              "      <th>min</th>\n",
              "      <td>0.000000</td>\n",
              "      <td>0.000000</td>\n",
              "      <td>18.250000</td>\n",
              "    </tr>\n",
              "    <tr>\n",
              "      <th>25%</th>\n",
              "      <td>0.000000</td>\n",
              "      <td>9.000000</td>\n",
              "      <td>35.500000</td>\n",
              "    </tr>\n",
              "    <tr>\n",
              "      <th>50%</th>\n",
              "      <td>0.000000</td>\n",
              "      <td>29.000000</td>\n",
              "      <td>70.350000</td>\n",
              "    </tr>\n",
              "    <tr>\n",
              "      <th>75%</th>\n",
              "      <td>0.000000</td>\n",
              "      <td>55.000000</td>\n",
              "      <td>89.850000</td>\n",
              "    </tr>\n",
              "    <tr>\n",
              "      <th>max</th>\n",
              "      <td>1.000000</td>\n",
              "      <td>72.000000</td>\n",
              "      <td>118.750000</td>\n",
              "    </tr>\n",
              "  </tbody>\n",
              "</table>\n",
              "</div>"
            ],
            "text/plain": [
              "       SeniorCitizen       tenure  MonthlyCharges\n",
              "count    7043.000000  7043.000000     7043.000000\n",
              "mean        0.162147    32.371149       64.761692\n",
              "std         0.368612    24.559481       30.090047\n",
              "min         0.000000     0.000000       18.250000\n",
              "25%         0.000000     9.000000       35.500000\n",
              "50%         0.000000    29.000000       70.350000\n",
              "75%         0.000000    55.000000       89.850000\n",
              "max         1.000000    72.000000      118.750000"
            ]
          },
          "execution_count": 6,
          "metadata": {},
          "output_type": "execute_result"
        }
      ],
      "source": [
        "# Check Dataset's statistical info\n",
        "\n",
        "df.describe()"
      ]
    },
    {
      "cell_type": "code",
      "execution_count": 7,
      "metadata": {
        "colab": {
          "base_uri": "https://localhost:8080/",
          "height": 256
        },
        "id": "59r17Elm5-qp",
        "outputId": "f5b22101-b4ab-4e6c-cde1-c2ccf3b556e6"
      },
      "outputs": [
        {
          "data": {
            "text/html": [
              "<div>\n",
              "<style scoped>\n",
              "    .dataframe tbody tr th:only-of-type {\n",
              "        vertical-align: middle;\n",
              "    }\n",
              "\n",
              "    .dataframe tbody tr th {\n",
              "        vertical-align: top;\n",
              "    }\n",
              "\n",
              "    .dataframe thead th {\n",
              "        text-align: right;\n",
              "    }\n",
              "</style>\n",
              "<table border=\"1\" class=\"dataframe\">\n",
              "  <thead>\n",
              "    <tr style=\"text-align: right;\">\n",
              "      <th></th>\n",
              "      <th>customerID</th>\n",
              "      <th>gender</th>\n",
              "      <th>Partner</th>\n",
              "      <th>Dependents</th>\n",
              "      <th>PhoneService</th>\n",
              "      <th>MultipleLines</th>\n",
              "      <th>InternetService</th>\n",
              "      <th>OnlineSecurity</th>\n",
              "      <th>OnlineBackup</th>\n",
              "      <th>DeviceProtection</th>\n",
              "      <th>TechSupport</th>\n",
              "      <th>StreamingTV</th>\n",
              "      <th>StreamingMovies</th>\n",
              "      <th>Contract</th>\n",
              "      <th>PaperlessBilling</th>\n",
              "      <th>PaymentMethod</th>\n",
              "      <th>TotalCharges</th>\n",
              "      <th>Churn</th>\n",
              "    </tr>\n",
              "  </thead>\n",
              "  <tbody>\n",
              "    <tr>\n",
              "      <th>count</th>\n",
              "      <td>7043</td>\n",
              "      <td>7043</td>\n",
              "      <td>7043</td>\n",
              "      <td>7043</td>\n",
              "      <td>7043</td>\n",
              "      <td>7043</td>\n",
              "      <td>7043</td>\n",
              "      <td>7043</td>\n",
              "      <td>7043</td>\n",
              "      <td>7043</td>\n",
              "      <td>7043</td>\n",
              "      <td>7043</td>\n",
              "      <td>7043</td>\n",
              "      <td>7043</td>\n",
              "      <td>7043</td>\n",
              "      <td>7043</td>\n",
              "      <td>7043</td>\n",
              "      <td>7043</td>\n",
              "    </tr>\n",
              "    <tr>\n",
              "      <th>unique</th>\n",
              "      <td>7043</td>\n",
              "      <td>2</td>\n",
              "      <td>2</td>\n",
              "      <td>2</td>\n",
              "      <td>2</td>\n",
              "      <td>3</td>\n",
              "      <td>3</td>\n",
              "      <td>3</td>\n",
              "      <td>3</td>\n",
              "      <td>3</td>\n",
              "      <td>3</td>\n",
              "      <td>3</td>\n",
              "      <td>3</td>\n",
              "      <td>3</td>\n",
              "      <td>2</td>\n",
              "      <td>4</td>\n",
              "      <td>6531</td>\n",
              "      <td>2</td>\n",
              "    </tr>\n",
              "    <tr>\n",
              "      <th>top</th>\n",
              "      <td>7590-VHVEG</td>\n",
              "      <td>Male</td>\n",
              "      <td>No</td>\n",
              "      <td>No</td>\n",
              "      <td>Yes</td>\n",
              "      <td>No</td>\n",
              "      <td>Fiber optic</td>\n",
              "      <td>No</td>\n",
              "      <td>No</td>\n",
              "      <td>No</td>\n",
              "      <td>No</td>\n",
              "      <td>No</td>\n",
              "      <td>No</td>\n",
              "      <td>Month-to-month</td>\n",
              "      <td>Yes</td>\n",
              "      <td>Electronic check</td>\n",
              "      <td></td>\n",
              "      <td>No</td>\n",
              "    </tr>\n",
              "    <tr>\n",
              "      <th>freq</th>\n",
              "      <td>1</td>\n",
              "      <td>3555</td>\n",
              "      <td>3641</td>\n",
              "      <td>4933</td>\n",
              "      <td>6361</td>\n",
              "      <td>3390</td>\n",
              "      <td>3096</td>\n",
              "      <td>3498</td>\n",
              "      <td>3088</td>\n",
              "      <td>3095</td>\n",
              "      <td>3473</td>\n",
              "      <td>2810</td>\n",
              "      <td>2785</td>\n",
              "      <td>3875</td>\n",
              "      <td>4171</td>\n",
              "      <td>2365</td>\n",
              "      <td>11</td>\n",
              "      <td>5174</td>\n",
              "    </tr>\n",
              "  </tbody>\n",
              "</table>\n",
              "</div>"
            ],
            "text/plain": [
              "        customerID gender Partner Dependents PhoneService MultipleLines  \\\n",
              "count         7043   7043    7043       7043         7043          7043   \n",
              "unique        7043      2       2          2            2             3   \n",
              "top     7590-VHVEG   Male      No         No          Yes            No   \n",
              "freq             1   3555    3641       4933         6361          3390   \n",
              "\n",
              "       InternetService OnlineSecurity OnlineBackup DeviceProtection  \\\n",
              "count             7043           7043         7043             7043   \n",
              "unique               3              3            3                3   \n",
              "top        Fiber optic             No           No               No   \n",
              "freq              3096           3498         3088             3095   \n",
              "\n",
              "       TechSupport StreamingTV StreamingMovies        Contract  \\\n",
              "count         7043        7043            7043            7043   \n",
              "unique           3           3               3               3   \n",
              "top             No          No              No  Month-to-month   \n",
              "freq          3473        2810            2785            3875   \n",
              "\n",
              "       PaperlessBilling     PaymentMethod TotalCharges Churn  \n",
              "count              7043              7043         7043  7043  \n",
              "unique                2                 4         6531     2  \n",
              "top                 Yes  Electronic check                 No  \n",
              "freq               4171              2365           11  5174  "
            ]
          },
          "execution_count": 7,
          "metadata": {},
          "output_type": "execute_result"
        }
      ],
      "source": [
        "# Check Dataset's statistical info\n",
        "\n",
        "df.describe(include=['O'])"
      ]
    },
    {
      "cell_type": "markdown",
      "metadata": {
        "id": "vUGrO9rC_pUI"
      },
      "source": [
        "From the table above, there are two columns we have to handle first, which are :\n",
        "1. customersID which has number and string mixed in its values. However, since customersID's unique has 7043 from 7043 count, it means that we ccan drop this column since it is not essential.\n",
        "2. TotalCharges which has numerical values but labeled as object. moreover it has 6531 unique value on 7043 count an, so we will check it later."
      ]
    },
    {
      "cell_type": "code",
      "execution_count": 8,
      "metadata": {
        "id": "oqH2m5NxbMCy"
      },
      "outputs": [],
      "source": [
        "# Drop column\n",
        "\n",
        "df.drop('customerID', axis=1, inplace=True)"
      ]
    },
    {
      "cell_type": "code",
      "execution_count": 9,
      "metadata": {
        "colab": {
          "base_uri": "https://localhost:8080/"
        },
        "id": "6QTbmnfE7qwZ",
        "outputId": "238c207c-2793-4642-9505-c775b990921f"
      },
      "outputs": [
        {
          "data": {
            "text/plain": [
              "          11\n",
              "20.2      11\n",
              "19.75      9\n",
              "20.05      8\n",
              "19.9       8\n",
              "          ..\n",
              "6849.4     1\n",
              "692.35     1\n",
              "130.15     1\n",
              "3211.9     1\n",
              "6844.5     1\n",
              "Name: TotalCharges, Length: 6531, dtype: int64"
            ]
          },
          "execution_count": 9,
          "metadata": {},
          "output_type": "execute_result"
        }
      ],
      "source": [
        "df['TotalCharges'].value_counts()"
      ]
    },
    {
      "cell_type": "markdown",
      "metadata": {
        "id": "SmlEjWD_CkbL"
      },
      "source": [
        "there are 11 ' ' values, so it need to be change to np.nan first."
      ]
    },
    {
      "cell_type": "code",
      "execution_count": 10,
      "metadata": {
        "id": "0lczi-8PDHl9"
      },
      "outputs": [],
      "source": [
        "# Treat unknown as missing value\n",
        "\n",
        "df = df.replace(' ', np.nan)\n",
        "\n"
      ]
    },
    {
      "cell_type": "markdown",
      "metadata": {
        "id": "ezruWJV7eGS8"
      },
      "source": [
        "so then we can change df['TotalCharges'] to float"
      ]
    },
    {
      "cell_type": "code",
      "execution_count": 11,
      "metadata": {
        "id": "23z8cvdubuz4"
      },
      "outputs": [],
      "source": [
        "# change data type from object to float\n",
        "\n",
        "df['TotalCharges'] = df['TotalCharges'].astype(float)"
      ]
    },
    {
      "cell_type": "markdown",
      "metadata": {
        "id": "fJ65ExkfDC85"
      },
      "source": [
        "So, we can treat those ' ' values as missing values\n"
      ]
    },
    {
      "cell_type": "code",
      "execution_count": 12,
      "metadata": {
        "colab": {
          "base_uri": "https://localhost:8080/"
        },
        "id": "bOYSh5iLDj25",
        "outputId": "9a9acb6d-cfc8-46d0-f128-74dc7de5b99a"
      },
      "outputs": [
        {
          "data": {
            "text/plain": [
              "gender               0\n",
              "SeniorCitizen        0\n",
              "Partner              0\n",
              "Dependents           0\n",
              "tenure               0\n",
              "PhoneService         0\n",
              "MultipleLines        0\n",
              "InternetService      0\n",
              "OnlineSecurity       0\n",
              "OnlineBackup         0\n",
              "DeviceProtection     0\n",
              "TechSupport          0\n",
              "StreamingTV          0\n",
              "StreamingMovies      0\n",
              "Contract             0\n",
              "PaperlessBilling     0\n",
              "PaymentMethod        0\n",
              "MonthlyCharges       0\n",
              "TotalCharges        11\n",
              "Churn                0\n",
              "dtype: int64"
            ]
          },
          "execution_count": 12,
          "metadata": {},
          "output_type": "execute_result"
        }
      ],
      "source": [
        "df.isnull().sum()"
      ]
    },
    {
      "cell_type": "markdown",
      "metadata": {
        "id": "plL7gqIeNEnk"
      },
      "source": [
        "## 4 - Exploratory Data Analysis (EDA)"
      ]
    },
    {
      "cell_type": "markdown",
      "metadata": {
        "id": "FfOGX87yDsQB"
      },
      "source": [
        "### 1. Taking a look at the numerical and categorical columns"
      ]
    },
    {
      "cell_type": "code",
      "execution_count": 13,
      "metadata": {
        "id": "G734NtG6ZYpz"
      },
      "outputs": [],
      "source": [
        "# Get Numerical Columns and Categorical Columns (original)\n",
        "\n",
        "num_columns = df.select_dtypes(include=np.number).columns.tolist()\n",
        "cat_columns = df.select_dtypes(include=['object']).columns.tolist()"
      ]
    },
    {
      "cell_type": "code",
      "execution_count": 14,
      "metadata": {
        "colab": {
          "base_uri": "https://localhost:8080/"
        },
        "id": "Ac-Vr9bQao35",
        "outputId": "b9734ba4-19b5-4d00-dbf2-17d88e30b971"
      },
      "outputs": [
        {
          "name": "stdout",
          "output_type": "stream",
          "text": [
            "Numerical Columns : \n",
            " SeniorCitizen        2\n",
            "tenure              73\n",
            "MonthlyCharges    1585\n",
            "TotalCharges      6530\n",
            "dtype: int64\n"
          ]
        }
      ],
      "source": [
        "# Numerical columns\n",
        "\n",
        "print('Numerical Columns : \\n' , df[num_columns].nunique())"
      ]
    },
    {
      "cell_type": "code",
      "execution_count": 15,
      "metadata": {
        "colab": {
          "base_uri": "https://localhost:8080/",
          "height": 444
        },
        "id": "62T5Rn-cckXq",
        "outputId": "3272d9b7-a67c-4154-a99c-3f0ba0e57d86"
      },
      "outputs": [
        {
          "data": {
            "image/png": "[encoded data removed]",
            "text/plain": [
              "<Figure size 1440x504 with 4 Axes>"
            ]
          },
          "metadata": {
            "needs_background": "light"
          },
          "output_type": "display_data"
        }
      ],
      "source": [
        "# Numerical column's value histogram\n",
        "\n",
        "df.hist(bins=20, figsize=(20,7), grid=False, color='darkblue', edgecolor='c')\n",
        "plt.show()\n",
        "\n"
      ]
    },
    {
      "cell_type": "markdown",
      "metadata": {
        "id": "VMudXQxx6GFD"
      },
      "source": [
        "From histogram plot above we can conclude that :\n",
        "\n",
        "*   From SeniorCitizen graph (Indicates if the customer is 65 or older) : older customers [1] is significantly lower than younger customers [0] \n",
        "\n",
        "*   Tenure Graph (indicate how long in month the customers has been with the Telco :  Customers tenure varies between 0 month to 72 months with 3 months-old customers has the highest number followed by 70-72 months-old customers as the second highest.\n",
        "\n",
        "* Taking a look at the MonthlyCharges graph (the customer's Monthly charge) : it seems that most of the customers are getting charge at the cheapest rate at only 20 dollars monthly. However, there are also customer that getting charge at a rate of 40, 60 to 120 dollars.\n",
        "\n",
        "* TotalCharge (indicate the total amount of charge the customers have to pay) : from the graph we can see that the customer charge rate varies from the lowest 18 dollars to the highses 8000++ dollars. However, most of the customers total charge is at around below 2000 dollars.\n",
        "\n",
        "\n"
      ]
    },
    {
      "cell_type": "code",
      "execution_count": 16,
      "metadata": {
        "colab": {
          "base_uri": "https://localhost:8080/"
        },
        "id": "P2UodLxucTln",
        "outputId": "7339178b-b179-4022-b3c5-484ad1239463"
      },
      "outputs": [
        {
          "name": "stdout",
          "output_type": "stream",
          "text": [
            "Categorical Columns : \n",
            "gender (2): ['Female' 'Male']\n",
            "----------------------------------------\n",
            "Partner (2): ['Yes' 'No']\n",
            "----------------------------------------\n",
            "Dependents (2): ['No' 'Yes']\n",
            "----------------------------------------\n",
            "PhoneService (2): ['No' 'Yes']\n",
            "----------------------------------------\n",
            "MultipleLines (3): ['No phone service' 'No' 'Yes']\n",
            "----------------------------------------\n",
            "InternetService (3): ['DSL' 'Fiber optic' 'No']\n",
            "----------------------------------------\n",
            "OnlineSecurity (3): ['No' 'Yes' 'No internet service']\n",
            "----------------------------------------\n",
            "OnlineBackup (3): ['Yes' 'No' 'No internet service']\n",
            "----------------------------------------\n",
            "DeviceProtection (3): ['No' 'Yes' 'No internet service']\n",
            "----------------------------------------\n",
            "TechSupport (3): ['No' 'Yes' 'No internet service']\n",
            "----------------------------------------\n",
            "StreamingTV (3): ['No' 'Yes' 'No internet service']\n",
            "----------------------------------------\n",
            "StreamingMovies (3): ['No' 'Yes' 'No internet service']\n",
            "----------------------------------------\n",
            "Contract (3): ['Month-to-month' 'One year' 'Two year']\n",
            "----------------------------------------\n",
            "PaperlessBilling (2): ['Yes' 'No']\n",
            "----------------------------------------\n",
            "PaymentMethod (4): ['Electronic check' 'Mailed check' 'Bank transfer (automatic)'\n",
            " 'Credit card (automatic)']\n",
            "----------------------------------------\n",
            "Churn (2): ['No' 'Yes']\n",
            "----------------------------------------\n"
          ]
        }
      ],
      "source": [
        "# Categorical columns\n",
        "\n",
        "print('Categorical Columns : ')\n",
        "for i in cat_columns:\n",
        "    cat = df_ori[i].unique()\n",
        "    print(f'{i} ({len(cat)}):',cat)\n",
        "    print('----------------------------------------')\n",
        "\n"
      ]
    },
    {
      "cell_type": "markdown",
      "metadata": {
        "id": "1VK4GIpX__2E"
      },
      "source": [
        "### 2. Plot the target column to see its value proportion "
      ]
    },
    {
      "cell_type": "code",
      "execution_count": 17,
      "metadata": {
        "colab": {
          "base_uri": "https://localhost:8080/",
          "height": 373
        },
        "id": "VrNZ59dohkSk",
        "outputId": "703379b6-ef5a-4d12-a1fe-e21d26cc5e67"
      },
      "outputs": [
        {
          "data": {
            "image/png": "[encoded data removed]",
            "text/plain": [
              "<Figure size 1440x432 with 1 Axes>"
            ]
          },
          "metadata": {},
          "output_type": "display_data"
        }
      ],
      "source": [
        "# Plot the target\n",
        "\n",
        "explode = (0, 0.1)\n",
        "plt.figure(figsize=(20,6))\n",
        "df.groupby(\"Churn\")['Churn'].count().sort_values().plot(kind='pie', autopct='%.0f%%' , ylabel='' , startangle=90, cmap= 'summer_r', explode=explode).set_title('Customers Churn')\n",
        "plt.show()"
      ]
    },
    {
      "cell_type": "markdown",
      "metadata": {
        "id": "JQIuhf0nhE06"
      },
      "source": [
        "From the pie chart above, we can see that the proportion between churn/Yes (27%) and No (73%) is not balanced. So we will have to balance it later using oversampling or undersasmpling method in order to improve model performance."
      ]
    },
    {
      "cell_type": "markdown",
      "metadata": {},
      "source": [
        "### 3. Churn Proportion by Gender, Partner, and Dependent"
      ]
    },
    {
      "cell_type": "code",
      "execution_count": 18,
      "metadata": {
        "id": "JeGWEruQ3t9T"
      },
      "outputs": [],
      "source": [
        "def stacked_plot(df, x, y, orient='h'):\n",
        "      crosstab = pd.crosstab(index=df[x], columns=df[y])\n",
        "\n",
        "      if orient == 'h':\n",
        "            \n",
        "          plt.figure(figsize=(16,10))\n",
        "          crosstab.plot(kind='barh', stacked=True, color=['darkblue', 'cyan']).set_title(f'{y} by {x}')\n",
        "          plt.legend(loc='upper right')\n",
        "          plt.show()\n",
        "      \n",
        "      else :\n",
        "          plt.figure(figsize=(16,10))\n",
        "          crosstab.plot(kind='bar', stacked=True, color=['darkblue', 'cyan']).set_title(f'{y} by {x}')\n",
        "          plt.legend(loc='upper right')\n",
        "          plt.show()"
      ]
    },
    {
      "cell_type": "markdown",
      "metadata": {},
      "source": [
        "1. by gender"
      ]
    },
    {
      "cell_type": "code",
      "execution_count": 19,
      "metadata": {
        "colab": {
          "base_uri": "https://localhost:8080/",
          "height": 281
        },
        "id": "zcNGQZhF4tO5",
        "outputId": "43f82d5f-d39b-4aba-f0fc-ae823a52f409"
      },
      "outputs": [
        {
          "data": {
            "text/plain": [
              "<Figure size 1152x720 with 0 Axes>"
            ]
          },
          "metadata": {},
          "output_type": "display_data"
        },
        {
          "data": {
            "image/png": "[encoded data removed]",
            "text/plain": [
              "<Figure size 432x288 with 1 Axes>"
            ]
          },
          "metadata": {
            "needs_background": "light"
          },
          "output_type": "display_data"
        }
      ],
      "source": [
        "stacked_plot(df, 'gender', 'Churn')"
      ]
    },
    {
      "cell_type": "markdown",
      "metadata": {},
      "source": [
        "`According to its gender, the number of male and female who terminated the Telco(Churn) is quite similar.`"
      ]
    },
    {
      "cell_type": "markdown",
      "metadata": {},
      "source": [
        "2. by Partner"
      ]
    },
    {
      "cell_type": "code",
      "execution_count": 20,
      "metadata": {},
      "outputs": [
        {
          "data": {
            "text/plain": [
              "<Figure size 1152x720 with 0 Axes>"
            ]
          },
          "metadata": {},
          "output_type": "display_data"
        },
        {
          "data": {
            "image/png": "[encoded data removed]",
            "text/plain": [
              "<Figure size 432x288 with 1 Axes>"
            ]
          },
          "metadata": {
            "needs_background": "light"
          },
          "output_type": "display_data"
        }
      ],
      "source": [
        "stacked_plot(df, 'Partner', 'Churn')"
      ]
    },
    {
      "cell_type": "markdown",
      "metadata": {},
      "source": [
        "`according to the graph above, the customers with NO partner have higher probability to stop the Telco service(Churn) than the customers with Partners.`  "
      ]
    },
    {
      "cell_type": "markdown",
      "metadata": {},
      "source": [
        "3. by Dependents"
      ]
    },
    {
      "cell_type": "code",
      "execution_count": 21,
      "metadata": {},
      "outputs": [
        {
          "data": {
            "text/plain": [
              "<Figure size 1152x720 with 0 Axes>"
            ]
          },
          "metadata": {},
          "output_type": "display_data"
        },
        {
          "data": {
            "image/png": "[encoded data removed]",
            "text/plain": [
              "<Figure size 432x288 with 1 Axes>"
            ]
          },
          "metadata": {
            "needs_background": "light"
          },
          "output_type": "display_data"
        }
      ],
      "source": [
        "stacked_plot(df, 'Dependents', 'Churn')"
      ]
    },
    {
      "cell_type": "markdown",
      "metadata": {},
      "source": [
        "`If we take a look at whether the customer has dependents or not, we can see that people who have Dependents are smaller in number than people who dont have dependents. Furthermore, the customers with No dependents have higher probability to churn.`"
      ]
    },
    {
      "cell_type": "markdown",
      "metadata": {},
      "source": [
        "### 4. Churn by Telco Services"
      ]
    },
    {
      "cell_type": "code",
      "execution_count": 22,
      "metadata": {},
      "outputs": [],
      "source": [
        "def countplot(df, variable1, variable2, hue = None , rotate=False):\n",
        "    fig, ax = plt.subplots(ncols= 2, figsize=(20,6))\n",
        "    sns.countplot(data=df , x=variable1, palette='magma' , hue= hue , ax=ax[0]).set_title(f'{variable1}')\n",
        "    ax[0].tick_params(axis='x', rotation=45) if rotate == True else False\n",
        "    sns.countplot(data=df , x=variable2, palette='magma' ,hue= hue , ax=ax[1]).set_title(f'{variable2}')\n",
        "    ax[1].tick_params(axis='x', rotation=45) if rotate == True else False\n",
        "    plt.show"
      ]
    },
    {
      "cell_type": "code",
      "execution_count": 23,
      "metadata": {},
      "outputs": [
        {
          "data": {
            "image/png": "[encoded data removed]",
            "text/plain": [
              "<Figure size 1440x432 with 2 Axes>"
            ]
          },
          "metadata": {
            "needs_background": "light"
          },
          "output_type": "display_data"
        }
      ],
      "source": [
        "countplot(df, 'PhoneService', 'InternetService', hue='Churn')"
      ]
    },
    {
      "cell_type": "markdown",
      "metadata": {},
      "source": [
        "- Customers who subscribed to Phone service is higher in number than customers who dont. This means that Phone service is one of the most popular service in Telco.\n",
        "- From the InternetService, both DSL and FIber Optic are popular since the number of people who subscribed to these two service than peoplo who dont. However if take a look at which service has more people to Churn, it is Fiber Optic service. This might be a good insight so that the Telco company can address to this problem and solve it so that they can reduce customer from leaving."
      ]
    },
    {
      "cell_type": "code",
      "execution_count": 24,
      "metadata": {},
      "outputs": [
        {
          "data": {
            "image/png": "[encoded data removed]",
            "text/plain": [
              "<Figure size 1440x432 with 2 Axes>"
            ]
          },
          "metadata": {
            "needs_background": "light"
          },
          "output_type": "display_data"
        }
      ],
      "source": [
        "countplot(df, 'StreamingTV', 'StreamingMovies', hue='Churn')"
      ]
    },
    {
      "cell_type": "code",
      "execution_count": 25,
      "metadata": {},
      "outputs": [
        {
          "data": {
            "image/png": "[encoded data removed]",
            "text/plain": [
              "<Figure size 1440x432 with 2 Axes>"
            ]
          },
          "metadata": {
            "needs_background": "light"
          },
          "output_type": "display_data"
        }
      ],
      "source": [
        "countplot(df, 'TechSupport', 'Contract', hue='Churn')"
      ]
    },
    {
      "cell_type": "code",
      "execution_count": 26,
      "metadata": {},
      "outputs": [
        {
          "data": {
            "image/png": "[encoded data removed]",
            "text/plain": [
              "<Figure size 1440x432 with 2 Axes>"
            ]
          },
          "metadata": {
            "needs_background": "light"
          },
          "output_type": "display_data"
        }
      ],
      "source": [
        "countplot(df, 'PaperlessBilling', 'PaymentMethod', hue='Churn')"
      ]
    },
    {
      "cell_type": "markdown",
      "metadata": {
        "id": "MWR9w_kfOxPY"
      },
      "source": [
        "---\n",
        "## 5 - Data Preprocessing"
      ]
    },
    {
      "cell_type": "markdown",
      "metadata": {
        "id": "gtbR0g48O2_F"
      },
      "source": [
        "> Bagian ini berisi proses penyiapan data untuk proses pelatihan model, seperti pembagian data menjadi train-dev-test, transformasi data (normalisasi, encoding, dll.), dan proses-proses lain yang dibutuhkan."
      ]
    },
    {
      "cell_type": "markdown",
      "metadata": {
        "id": "-U_e25ZNzdL8"
      },
      "source": [
        "### 1. Data Inference"
      ]
    },
    {
      "cell_type": "code",
      "execution_count": 27,
      "metadata": {},
      "outputs": [
        {
          "data": {
            "text/html": [
              "<div>\n",
              "<style scoped>\n",
              "    .dataframe tbody tr th:only-of-type {\n",
              "        vertical-align: middle;\n",
              "    }\n",
              "\n",
              "    .dataframe tbody tr th {\n",
              "        vertical-align: top;\n",
              "    }\n",
              "\n",
              "    .dataframe thead th {\n",
              "        text-align: right;\n",
              "    }\n",
              "</style>\n",
              "<table border=\"1\" class=\"dataframe\">\n",
              "  <thead>\n",
              "    <tr style=\"text-align: right;\">\n",
              "      <th></th>\n",
              "      <th>gender</th>\n",
              "      <th>SeniorCitizen</th>\n",
              "      <th>Partner</th>\n",
              "      <th>Dependents</th>\n",
              "      <th>tenure</th>\n",
              "      <th>PhoneService</th>\n",
              "      <th>MultipleLines</th>\n",
              "      <th>InternetService</th>\n",
              "      <th>OnlineSecurity</th>\n",
              "      <th>OnlineBackup</th>\n",
              "      <th>DeviceProtection</th>\n",
              "      <th>TechSupport</th>\n",
              "      <th>StreamingTV</th>\n",
              "      <th>StreamingMovies</th>\n",
              "      <th>Contract</th>\n",
              "      <th>PaperlessBilling</th>\n",
              "      <th>PaymentMethod</th>\n",
              "      <th>MonthlyCharges</th>\n",
              "      <th>TotalCharges</th>\n",
              "      <th>Churn</th>\n",
              "    </tr>\n",
              "  </thead>\n",
              "  <tbody>\n",
              "    <tr>\n",
              "      <th>3616</th>\n",
              "      <td>Female</td>\n",
              "      <td>1</td>\n",
              "      <td>Yes</td>\n",
              "      <td>No</td>\n",
              "      <td>69</td>\n",
              "      <td>Yes</td>\n",
              "      <td>No</td>\n",
              "      <td>Fiber optic</td>\n",
              "      <td>Yes</td>\n",
              "      <td>Yes</td>\n",
              "      <td>No</td>\n",
              "      <td>No</td>\n",
              "      <td>No</td>\n",
              "      <td>Yes</td>\n",
              "      <td>One year</td>\n",
              "      <td>No</td>\n",
              "      <td>Credit card (automatic)</td>\n",
              "      <td>87.30</td>\n",
              "      <td>6055.55</td>\n",
              "      <td>No</td>\n",
              "    </tr>\n",
              "    <tr>\n",
              "      <th>2055</th>\n",
              "      <td>Male</td>\n",
              "      <td>0</td>\n",
              "      <td>No</td>\n",
              "      <td>No</td>\n",
              "      <td>45</td>\n",
              "      <td>Yes</td>\n",
              "      <td>Yes</td>\n",
              "      <td>Fiber optic</td>\n",
              "      <td>Yes</td>\n",
              "      <td>No</td>\n",
              "      <td>Yes</td>\n",
              "      <td>Yes</td>\n",
              "      <td>Yes</td>\n",
              "      <td>Yes</td>\n",
              "      <td>Month-to-month</td>\n",
              "      <td>Yes</td>\n",
              "      <td>Credit card (automatic)</td>\n",
              "      <td>108.45</td>\n",
              "      <td>4964.70</td>\n",
              "      <td>No</td>\n",
              "    </tr>\n",
              "    <tr>\n",
              "      <th>5394</th>\n",
              "      <td>Female</td>\n",
              "      <td>0</td>\n",
              "      <td>Yes</td>\n",
              "      <td>No</td>\n",
              "      <td>48</td>\n",
              "      <td>Yes</td>\n",
              "      <td>Yes</td>\n",
              "      <td>Fiber optic</td>\n",
              "      <td>No</td>\n",
              "      <td>Yes</td>\n",
              "      <td>No</td>\n",
              "      <td>Yes</td>\n",
              "      <td>Yes</td>\n",
              "      <td>Yes</td>\n",
              "      <td>Month-to-month</td>\n",
              "      <td>Yes</td>\n",
              "      <td>Credit card (automatic)</td>\n",
              "      <td>105.10</td>\n",
              "      <td>5083.55</td>\n",
              "      <td>No</td>\n",
              "    </tr>\n",
              "    <tr>\n",
              "      <th>3697</th>\n",
              "      <td>Female</td>\n",
              "      <td>0</td>\n",
              "      <td>Yes</td>\n",
              "      <td>Yes</td>\n",
              "      <td>32</td>\n",
              "      <td>Yes</td>\n",
              "      <td>Yes</td>\n",
              "      <td>Fiber optic</td>\n",
              "      <td>Yes</td>\n",
              "      <td>No</td>\n",
              "      <td>No</td>\n",
              "      <td>No</td>\n",
              "      <td>Yes</td>\n",
              "      <td>No</td>\n",
              "      <td>Month-to-month</td>\n",
              "      <td>No</td>\n",
              "      <td>Electronic check</td>\n",
              "      <td>89.60</td>\n",
              "      <td>2901.80</td>\n",
              "      <td>No</td>\n",
              "    </tr>\n",
              "    <tr>\n",
              "      <th>2516</th>\n",
              "      <td>Female</td>\n",
              "      <td>1</td>\n",
              "      <td>No</td>\n",
              "      <td>No</td>\n",
              "      <td>16</td>\n",
              "      <td>Yes</td>\n",
              "      <td>Yes</td>\n",
              "      <td>Fiber optic</td>\n",
              "      <td>No</td>\n",
              "      <td>No</td>\n",
              "      <td>No</td>\n",
              "      <td>No</td>\n",
              "      <td>Yes</td>\n",
              "      <td>Yes</td>\n",
              "      <td>Month-to-month</td>\n",
              "      <td>Yes</td>\n",
              "      <td>Electronic check</td>\n",
              "      <td>96.40</td>\n",
              "      <td>1581.20</td>\n",
              "      <td>Yes</td>\n",
              "    </tr>\n",
              "  </tbody>\n",
              "</table>\n",
              "</div>"
            ],
            "text/plain": [
              "      gender  SeniorCitizen Partner Dependents  tenure PhoneService  \\\n",
              "3616  Female              1     Yes         No      69          Yes   \n",
              "2055    Male              0      No         No      45          Yes   \n",
              "5394  Female              0     Yes         No      48          Yes   \n",
              "3697  Female              0     Yes        Yes      32          Yes   \n",
              "2516  Female              1      No         No      16          Yes   \n",
              "\n",
              "     MultipleLines InternetService OnlineSecurity OnlineBackup  \\\n",
              "3616            No     Fiber optic            Yes          Yes   \n",
              "2055           Yes     Fiber optic            Yes           No   \n",
              "5394           Yes     Fiber optic             No          Yes   \n",
              "3697           Yes     Fiber optic            Yes           No   \n",
              "2516           Yes     Fiber optic             No           No   \n",
              "\n",
              "     DeviceProtection TechSupport StreamingTV StreamingMovies        Contract  \\\n",
              "3616               No          No          No             Yes        One year   \n",
              "2055              Yes         Yes         Yes             Yes  Month-to-month   \n",
              "5394               No         Yes         Yes             Yes  Month-to-month   \n",
              "3697               No          No         Yes              No  Month-to-month   \n",
              "2516               No          No         Yes             Yes  Month-to-month   \n",
              "\n",
              "     PaperlessBilling            PaymentMethod  MonthlyCharges  TotalCharges  \\\n",
              "3616               No  Credit card (automatic)           87.30       6055.55   \n",
              "2055              Yes  Credit card (automatic)          108.45       4964.70   \n",
              "5394              Yes  Credit card (automatic)          105.10       5083.55   \n",
              "3697               No         Electronic check           89.60       2901.80   \n",
              "2516              Yes         Electronic check           96.40       1581.20   \n",
              "\n",
              "     Churn  \n",
              "3616    No  \n",
              "2055    No  \n",
              "5394    No  \n",
              "3697    No  \n",
              "2516   Yes  "
            ]
          },
          "execution_count": 27,
          "metadata": {},
          "output_type": "execute_result"
        }
      ],
      "source": [
        "# Get Data for Model Inference\n",
        "\n",
        "data_inf = df.sample(43, random_state=17)\n",
        "data_inf.head()"
      ]
    },
    {
      "cell_type": "code",
      "execution_count": 28,
      "metadata": {},
      "outputs": [
        {
          "data": {
            "text/html": [
              "<div>\n",
              "<style scoped>\n",
              "    .dataframe tbody tr th:only-of-type {\n",
              "        vertical-align: middle;\n",
              "    }\n",
              "\n",
              "    .dataframe tbody tr th {\n",
              "        vertical-align: top;\n",
              "    }\n",
              "\n",
              "    .dataframe thead th {\n",
              "        text-align: right;\n",
              "    }\n",
              "</style>\n",
              "<table border=\"1\" class=\"dataframe\">\n",
              "  <thead>\n",
              "    <tr style=\"text-align: right;\">\n",
              "      <th></th>\n",
              "      <th>gender</th>\n",
              "      <th>SeniorCitizen</th>\n",
              "      <th>Partner</th>\n",
              "      <th>Dependents</th>\n",
              "      <th>tenure</th>\n",
              "      <th>PhoneService</th>\n",
              "      <th>MultipleLines</th>\n",
              "      <th>InternetService</th>\n",
              "      <th>OnlineSecurity</th>\n",
              "      <th>OnlineBackup</th>\n",
              "      <th>DeviceProtection</th>\n",
              "      <th>TechSupport</th>\n",
              "      <th>StreamingTV</th>\n",
              "      <th>StreamingMovies</th>\n",
              "      <th>Contract</th>\n",
              "      <th>PaperlessBilling</th>\n",
              "      <th>PaymentMethod</th>\n",
              "      <th>MonthlyCharges</th>\n",
              "      <th>TotalCharges</th>\n",
              "      <th>Churn</th>\n",
              "    </tr>\n",
              "  </thead>\n",
              "  <tbody>\n",
              "    <tr>\n",
              "      <th>0</th>\n",
              "      <td>Female</td>\n",
              "      <td>0</td>\n",
              "      <td>Yes</td>\n",
              "      <td>No</td>\n",
              "      <td>1</td>\n",
              "      <td>No</td>\n",
              "      <td>No phone service</td>\n",
              "      <td>DSL</td>\n",
              "      <td>No</td>\n",
              "      <td>Yes</td>\n",
              "      <td>No</td>\n",
              "      <td>No</td>\n",
              "      <td>No</td>\n",
              "      <td>No</td>\n",
              "      <td>Month-to-month</td>\n",
              "      <td>Yes</td>\n",
              "      <td>Electronic check</td>\n",
              "      <td>29.85</td>\n",
              "      <td>29.85</td>\n",
              "      <td>No</td>\n",
              "    </tr>\n",
              "    <tr>\n",
              "      <th>1</th>\n",
              "      <td>Male</td>\n",
              "      <td>0</td>\n",
              "      <td>No</td>\n",
              "      <td>No</td>\n",
              "      <td>34</td>\n",
              "      <td>Yes</td>\n",
              "      <td>No</td>\n",
              "      <td>DSL</td>\n",
              "      <td>Yes</td>\n",
              "      <td>No</td>\n",
              "      <td>Yes</td>\n",
              "      <td>No</td>\n",
              "      <td>No</td>\n",
              "      <td>No</td>\n",
              "      <td>One year</td>\n",
              "      <td>No</td>\n",
              "      <td>Mailed check</td>\n",
              "      <td>56.95</td>\n",
              "      <td>1889.50</td>\n",
              "      <td>No</td>\n",
              "    </tr>\n",
              "    <tr>\n",
              "      <th>2</th>\n",
              "      <td>Male</td>\n",
              "      <td>0</td>\n",
              "      <td>No</td>\n",
              "      <td>No</td>\n",
              "      <td>2</td>\n",
              "      <td>Yes</td>\n",
              "      <td>No</td>\n",
              "      <td>DSL</td>\n",
              "      <td>Yes</td>\n",
              "      <td>Yes</td>\n",
              "      <td>No</td>\n",
              "      <td>No</td>\n",
              "      <td>No</td>\n",
              "      <td>No</td>\n",
              "      <td>Month-to-month</td>\n",
              "      <td>Yes</td>\n",
              "      <td>Mailed check</td>\n",
              "      <td>53.85</td>\n",
              "      <td>108.15</td>\n",
              "      <td>Yes</td>\n",
              "    </tr>\n",
              "    <tr>\n",
              "      <th>3</th>\n",
              "      <td>Male</td>\n",
              "      <td>0</td>\n",
              "      <td>No</td>\n",
              "      <td>No</td>\n",
              "      <td>45</td>\n",
              "      <td>No</td>\n",
              "      <td>No phone service</td>\n",
              "      <td>DSL</td>\n",
              "      <td>Yes</td>\n",
              "      <td>No</td>\n",
              "      <td>Yes</td>\n",
              "      <td>Yes</td>\n",
              "      <td>No</td>\n",
              "      <td>No</td>\n",
              "      <td>One year</td>\n",
              "      <td>No</td>\n",
              "      <td>Bank transfer (automatic)</td>\n",
              "      <td>42.30</td>\n",
              "      <td>1840.75</td>\n",
              "      <td>No</td>\n",
              "    </tr>\n",
              "    <tr>\n",
              "      <th>4</th>\n",
              "      <td>Female</td>\n",
              "      <td>0</td>\n",
              "      <td>No</td>\n",
              "      <td>No</td>\n",
              "      <td>2</td>\n",
              "      <td>Yes</td>\n",
              "      <td>No</td>\n",
              "      <td>Fiber optic</td>\n",
              "      <td>No</td>\n",
              "      <td>No</td>\n",
              "      <td>No</td>\n",
              "      <td>No</td>\n",
              "      <td>No</td>\n",
              "      <td>No</td>\n",
              "      <td>Month-to-month</td>\n",
              "      <td>Yes</td>\n",
              "      <td>Electronic check</td>\n",
              "      <td>70.70</td>\n",
              "      <td>151.65</td>\n",
              "      <td>Yes</td>\n",
              "    </tr>\n",
              "  </tbody>\n",
              "</table>\n",
              "</div>"
            ],
            "text/plain": [
              "   gender  SeniorCitizen Partner Dependents  tenure PhoneService  \\\n",
              "0  Female              0     Yes         No       1           No   \n",
              "1    Male              0      No         No      34          Yes   \n",
              "2    Male              0      No         No       2          Yes   \n",
              "3    Male              0      No         No      45           No   \n",
              "4  Female              0      No         No       2          Yes   \n",
              "\n",
              "      MultipleLines InternetService OnlineSecurity OnlineBackup  \\\n",
              "0  No phone service             DSL             No          Yes   \n",
              "1                No             DSL            Yes           No   \n",
              "2                No             DSL            Yes          Yes   \n",
              "3  No phone service             DSL            Yes           No   \n",
              "4                No     Fiber optic             No           No   \n",
              "\n",
              "  DeviceProtection TechSupport StreamingTV StreamingMovies        Contract  \\\n",
              "0               No          No          No              No  Month-to-month   \n",
              "1              Yes          No          No              No        One year   \n",
              "2               No          No          No              No  Month-to-month   \n",
              "3              Yes         Yes          No              No        One year   \n",
              "4               No          No          No              No  Month-to-month   \n",
              "\n",
              "  PaperlessBilling              PaymentMethod  MonthlyCharges  TotalCharges  \\\n",
              "0              Yes           Electronic check           29.85         29.85   \n",
              "1               No               Mailed check           56.95       1889.50   \n",
              "2              Yes               Mailed check           53.85        108.15   \n",
              "3               No  Bank transfer (automatic)           42.30       1840.75   \n",
              "4              Yes           Electronic check           70.70        151.65   \n",
              "\n",
              "  Churn  \n",
              "0    No  \n",
              "1    No  \n",
              "2   Yes  \n",
              "3    No  \n",
              "4   Yes  "
            ]
          },
          "execution_count": 28,
          "metadata": {},
          "output_type": "execute_result"
        }
      ],
      "source": [
        "# Remove Inference-Set from Dataset\n",
        "\n",
        "data_train_test = df.drop(data_inf.index)\n",
        "data_train_test.head()"
      ]
    },
    {
      "cell_type": "code",
      "execution_count": 29,
      "metadata": {},
      "outputs": [
        {
          "data": {
            "text/html": [
              "<div>\n",
              "<style scoped>\n",
              "    .dataframe tbody tr th:only-of-type {\n",
              "        vertical-align: middle;\n",
              "    }\n",
              "\n",
              "    .dataframe tbody tr th {\n",
              "        vertical-align: top;\n",
              "    }\n",
              "\n",
              "    .dataframe thead th {\n",
              "        text-align: right;\n",
              "    }\n",
              "</style>\n",
              "<table border=\"1\" class=\"dataframe\">\n",
              "  <thead>\n",
              "    <tr style=\"text-align: right;\">\n",
              "      <th></th>\n",
              "      <th>gender</th>\n",
              "      <th>SeniorCitizen</th>\n",
              "      <th>Partner</th>\n",
              "      <th>Dependents</th>\n",
              "      <th>tenure</th>\n",
              "      <th>PhoneService</th>\n",
              "      <th>MultipleLines</th>\n",
              "      <th>InternetService</th>\n",
              "      <th>OnlineSecurity</th>\n",
              "      <th>OnlineBackup</th>\n",
              "      <th>DeviceProtection</th>\n",
              "      <th>TechSupport</th>\n",
              "      <th>StreamingTV</th>\n",
              "      <th>StreamingMovies</th>\n",
              "      <th>Contract</th>\n",
              "      <th>PaperlessBilling</th>\n",
              "      <th>PaymentMethod</th>\n",
              "      <th>MonthlyCharges</th>\n",
              "      <th>TotalCharges</th>\n",
              "      <th>Churn</th>\n",
              "    </tr>\n",
              "  </thead>\n",
              "  <tbody>\n",
              "    <tr>\n",
              "      <th>0</th>\n",
              "      <td>Female</td>\n",
              "      <td>1</td>\n",
              "      <td>Yes</td>\n",
              "      <td>No</td>\n",
              "      <td>69</td>\n",
              "      <td>Yes</td>\n",
              "      <td>No</td>\n",
              "      <td>Fiber optic</td>\n",
              "      <td>Yes</td>\n",
              "      <td>Yes</td>\n",
              "      <td>No</td>\n",
              "      <td>No</td>\n",
              "      <td>No</td>\n",
              "      <td>Yes</td>\n",
              "      <td>One year</td>\n",
              "      <td>No</td>\n",
              "      <td>Credit card (automatic)</td>\n",
              "      <td>87.30</td>\n",
              "      <td>6055.55</td>\n",
              "      <td>No</td>\n",
              "    </tr>\n",
              "    <tr>\n",
              "      <th>1</th>\n",
              "      <td>Male</td>\n",
              "      <td>0</td>\n",
              "      <td>No</td>\n",
              "      <td>No</td>\n",
              "      <td>45</td>\n",
              "      <td>Yes</td>\n",
              "      <td>Yes</td>\n",
              "      <td>Fiber optic</td>\n",
              "      <td>Yes</td>\n",
              "      <td>No</td>\n",
              "      <td>Yes</td>\n",
              "      <td>Yes</td>\n",
              "      <td>Yes</td>\n",
              "      <td>Yes</td>\n",
              "      <td>Month-to-month</td>\n",
              "      <td>Yes</td>\n",
              "      <td>Credit card (automatic)</td>\n",
              "      <td>108.45</td>\n",
              "      <td>4964.70</td>\n",
              "      <td>No</td>\n",
              "    </tr>\n",
              "    <tr>\n",
              "      <th>2</th>\n",
              "      <td>Female</td>\n",
              "      <td>0</td>\n",
              "      <td>Yes</td>\n",
              "      <td>No</td>\n",
              "      <td>48</td>\n",
              "      <td>Yes</td>\n",
              "      <td>Yes</td>\n",
              "      <td>Fiber optic</td>\n",
              "      <td>No</td>\n",
              "      <td>Yes</td>\n",
              "      <td>No</td>\n",
              "      <td>Yes</td>\n",
              "      <td>Yes</td>\n",
              "      <td>Yes</td>\n",
              "      <td>Month-to-month</td>\n",
              "      <td>Yes</td>\n",
              "      <td>Credit card (automatic)</td>\n",
              "      <td>105.10</td>\n",
              "      <td>5083.55</td>\n",
              "      <td>No</td>\n",
              "    </tr>\n",
              "    <tr>\n",
              "      <th>3</th>\n",
              "      <td>Female</td>\n",
              "      <td>0</td>\n",
              "      <td>Yes</td>\n",
              "      <td>Yes</td>\n",
              "      <td>32</td>\n",
              "      <td>Yes</td>\n",
              "      <td>Yes</td>\n",
              "      <td>Fiber optic</td>\n",
              "      <td>Yes</td>\n",
              "      <td>No</td>\n",
              "      <td>No</td>\n",
              "      <td>No</td>\n",
              "      <td>Yes</td>\n",
              "      <td>No</td>\n",
              "      <td>Month-to-month</td>\n",
              "      <td>No</td>\n",
              "      <td>Electronic check</td>\n",
              "      <td>89.60</td>\n",
              "      <td>2901.80</td>\n",
              "      <td>No</td>\n",
              "    </tr>\n",
              "    <tr>\n",
              "      <th>4</th>\n",
              "      <td>Female</td>\n",
              "      <td>1</td>\n",
              "      <td>No</td>\n",
              "      <td>No</td>\n",
              "      <td>16</td>\n",
              "      <td>Yes</td>\n",
              "      <td>Yes</td>\n",
              "      <td>Fiber optic</td>\n",
              "      <td>No</td>\n",
              "      <td>No</td>\n",
              "      <td>No</td>\n",
              "      <td>No</td>\n",
              "      <td>Yes</td>\n",
              "      <td>Yes</td>\n",
              "      <td>Month-to-month</td>\n",
              "      <td>Yes</td>\n",
              "      <td>Electronic check</td>\n",
              "      <td>96.40</td>\n",
              "      <td>1581.20</td>\n",
              "      <td>Yes</td>\n",
              "    </tr>\n",
              "  </tbody>\n",
              "</table>\n",
              "</div>"
            ],
            "text/plain": [
              "   gender  SeniorCitizen Partner Dependents  tenure PhoneService  \\\n",
              "0  Female              1     Yes         No      69          Yes   \n",
              "1    Male              0      No         No      45          Yes   \n",
              "2  Female              0     Yes         No      48          Yes   \n",
              "3  Female              0     Yes        Yes      32          Yes   \n",
              "4  Female              1      No         No      16          Yes   \n",
              "\n",
              "  MultipleLines InternetService OnlineSecurity OnlineBackup DeviceProtection  \\\n",
              "0            No     Fiber optic            Yes          Yes               No   \n",
              "1           Yes     Fiber optic            Yes           No              Yes   \n",
              "2           Yes     Fiber optic             No          Yes               No   \n",
              "3           Yes     Fiber optic            Yes           No               No   \n",
              "4           Yes     Fiber optic             No           No               No   \n",
              "\n",
              "  TechSupport StreamingTV StreamingMovies        Contract PaperlessBilling  \\\n",
              "0          No          No             Yes        One year               No   \n",
              "1         Yes         Yes             Yes  Month-to-month              Yes   \n",
              "2         Yes         Yes             Yes  Month-to-month              Yes   \n",
              "3          No         Yes              No  Month-to-month               No   \n",
              "4          No         Yes             Yes  Month-to-month              Yes   \n",
              "\n",
              "             PaymentMethod  MonthlyCharges  TotalCharges Churn  \n",
              "0  Credit card (automatic)           87.30       6055.55    No  \n",
              "1  Credit card (automatic)          108.45       4964.70    No  \n",
              "2  Credit card (automatic)          105.10       5083.55    No  \n",
              "3         Electronic check           89.60       2901.80    No  \n",
              "4         Electronic check           96.40       1581.20   Yes  "
            ]
          },
          "execution_count": 29,
          "metadata": {},
          "output_type": "execute_result"
        }
      ],
      "source": [
        "# Reset Index\n",
        "\n",
        "data_train_test.reset_index(drop=True, inplace=True)\n",
        "data_inf.reset_index(drop=True, inplace=True)\n",
        "data_inf.head()"
      ]
    },
    {
      "cell_type": "markdown",
      "metadata": {
        "id": "uM0NHiW6R7_n"
      },
      "source": [
        "### 2. Splitting Dataset"
      ]
    },
    {
      "cell_type": "code",
      "execution_count": 30,
      "metadata": {},
      "outputs": [
        {
          "data": {
            "text/html": [
              "<div>\n",
              "<style scoped>\n",
              "    .dataframe tbody tr th:only-of-type {\n",
              "        vertical-align: middle;\n",
              "    }\n",
              "\n",
              "    .dataframe tbody tr th {\n",
              "        vertical-align: top;\n",
              "    }\n",
              "\n",
              "    .dataframe thead th {\n",
              "        text-align: right;\n",
              "    }\n",
              "</style>\n",
              "<table border=\"1\" class=\"dataframe\">\n",
              "  <thead>\n",
              "    <tr style=\"text-align: right;\">\n",
              "      <th></th>\n",
              "      <th>gender</th>\n",
              "      <th>SeniorCitizen</th>\n",
              "      <th>Partner</th>\n",
              "      <th>Dependents</th>\n",
              "      <th>tenure</th>\n",
              "      <th>PhoneService</th>\n",
              "      <th>MultipleLines</th>\n",
              "      <th>InternetService</th>\n",
              "      <th>OnlineSecurity</th>\n",
              "      <th>OnlineBackup</th>\n",
              "      <th>DeviceProtection</th>\n",
              "      <th>TechSupport</th>\n",
              "      <th>StreamingTV</th>\n",
              "      <th>StreamingMovies</th>\n",
              "      <th>Contract</th>\n",
              "      <th>PaperlessBilling</th>\n",
              "      <th>PaymentMethod</th>\n",
              "      <th>MonthlyCharges</th>\n",
              "      <th>TotalCharges</th>\n",
              "    </tr>\n",
              "  </thead>\n",
              "  <tbody>\n",
              "    <tr>\n",
              "      <th>0</th>\n",
              "      <td>Female</td>\n",
              "      <td>0</td>\n",
              "      <td>Yes</td>\n",
              "      <td>No</td>\n",
              "      <td>1</td>\n",
              "      <td>No</td>\n",
              "      <td>No phone service</td>\n",
              "      <td>DSL</td>\n",
              "      <td>No</td>\n",
              "      <td>Yes</td>\n",
              "      <td>No</td>\n",
              "      <td>No</td>\n",
              "      <td>No</td>\n",
              "      <td>No</td>\n",
              "      <td>Month-to-month</td>\n",
              "      <td>Yes</td>\n",
              "      <td>Electronic check</td>\n",
              "      <td>29.85</td>\n",
              "      <td>29.85</td>\n",
              "    </tr>\n",
              "    <tr>\n",
              "      <th>1</th>\n",
              "      <td>Male</td>\n",
              "      <td>0</td>\n",
              "      <td>No</td>\n",
              "      <td>No</td>\n",
              "      <td>34</td>\n",
              "      <td>Yes</td>\n",
              "      <td>No</td>\n",
              "      <td>DSL</td>\n",
              "      <td>Yes</td>\n",
              "      <td>No</td>\n",
              "      <td>Yes</td>\n",
              "      <td>No</td>\n",
              "      <td>No</td>\n",
              "      <td>No</td>\n",
              "      <td>One year</td>\n",
              "      <td>No</td>\n",
              "      <td>Mailed check</td>\n",
              "      <td>56.95</td>\n",
              "      <td>1889.50</td>\n",
              "    </tr>\n",
              "    <tr>\n",
              "      <th>2</th>\n",
              "      <td>Male</td>\n",
              "      <td>0</td>\n",
              "      <td>No</td>\n",
              "      <td>No</td>\n",
              "      <td>2</td>\n",
              "      <td>Yes</td>\n",
              "      <td>No</td>\n",
              "      <td>DSL</td>\n",
              "      <td>Yes</td>\n",
              "      <td>Yes</td>\n",
              "      <td>No</td>\n",
              "      <td>No</td>\n",
              "      <td>No</td>\n",
              "      <td>No</td>\n",
              "      <td>Month-to-month</td>\n",
              "      <td>Yes</td>\n",
              "      <td>Mailed check</td>\n",
              "      <td>53.85</td>\n",
              "      <td>108.15</td>\n",
              "    </tr>\n",
              "    <tr>\n",
              "      <th>3</th>\n",
              "      <td>Male</td>\n",
              "      <td>0</td>\n",
              "      <td>No</td>\n",
              "      <td>No</td>\n",
              "      <td>45</td>\n",
              "      <td>No</td>\n",
              "      <td>No phone service</td>\n",
              "      <td>DSL</td>\n",
              "      <td>Yes</td>\n",
              "      <td>No</td>\n",
              "      <td>Yes</td>\n",
              "      <td>Yes</td>\n",
              "      <td>No</td>\n",
              "      <td>No</td>\n",
              "      <td>One year</td>\n",
              "      <td>No</td>\n",
              "      <td>Bank transfer (automatic)</td>\n",
              "      <td>42.30</td>\n",
              "      <td>1840.75</td>\n",
              "    </tr>\n",
              "    <tr>\n",
              "      <th>4</th>\n",
              "      <td>Female</td>\n",
              "      <td>0</td>\n",
              "      <td>No</td>\n",
              "      <td>No</td>\n",
              "      <td>2</td>\n",
              "      <td>Yes</td>\n",
              "      <td>No</td>\n",
              "      <td>Fiber optic</td>\n",
              "      <td>No</td>\n",
              "      <td>No</td>\n",
              "      <td>No</td>\n",
              "      <td>No</td>\n",
              "      <td>No</td>\n",
              "      <td>No</td>\n",
              "      <td>Month-to-month</td>\n",
              "      <td>Yes</td>\n",
              "      <td>Electronic check</td>\n",
              "      <td>70.70</td>\n",
              "      <td>151.65</td>\n",
              "    </tr>\n",
              "    <tr>\n",
              "      <th>...</th>\n",
              "      <td>...</td>\n",
              "      <td>...</td>\n",
              "      <td>...</td>\n",
              "      <td>...</td>\n",
              "      <td>...</td>\n",
              "      <td>...</td>\n",
              "      <td>...</td>\n",
              "      <td>...</td>\n",
              "      <td>...</td>\n",
              "      <td>...</td>\n",
              "      <td>...</td>\n",
              "      <td>...</td>\n",
              "      <td>...</td>\n",
              "      <td>...</td>\n",
              "      <td>...</td>\n",
              "      <td>...</td>\n",
              "      <td>...</td>\n",
              "      <td>...</td>\n",
              "      <td>...</td>\n",
              "    </tr>\n",
              "    <tr>\n",
              "      <th>6995</th>\n",
              "      <td>Male</td>\n",
              "      <td>0</td>\n",
              "      <td>Yes</td>\n",
              "      <td>Yes</td>\n",
              "      <td>24</td>\n",
              "      <td>Yes</td>\n",
              "      <td>Yes</td>\n",
              "      <td>DSL</td>\n",
              "      <td>Yes</td>\n",
              "      <td>No</td>\n",
              "      <td>Yes</td>\n",
              "      <td>Yes</td>\n",
              "      <td>Yes</td>\n",
              "      <td>Yes</td>\n",
              "      <td>One year</td>\n",
              "      <td>Yes</td>\n",
              "      <td>Mailed check</td>\n",
              "      <td>84.80</td>\n",
              "      <td>1990.50</td>\n",
              "    </tr>\n",
              "    <tr>\n",
              "      <th>6996</th>\n",
              "      <td>Female</td>\n",
              "      <td>0</td>\n",
              "      <td>Yes</td>\n",
              "      <td>Yes</td>\n",
              "      <td>72</td>\n",
              "      <td>Yes</td>\n",
              "      <td>Yes</td>\n",
              "      <td>Fiber optic</td>\n",
              "      <td>No</td>\n",
              "      <td>Yes</td>\n",
              "      <td>Yes</td>\n",
              "      <td>No</td>\n",
              "      <td>Yes</td>\n",
              "      <td>Yes</td>\n",
              "      <td>One year</td>\n",
              "      <td>Yes</td>\n",
              "      <td>Credit card (automatic)</td>\n",
              "      <td>103.20</td>\n",
              "      <td>7362.90</td>\n",
              "    </tr>\n",
              "    <tr>\n",
              "      <th>6997</th>\n",
              "      <td>Female</td>\n",
              "      <td>0</td>\n",
              "      <td>Yes</td>\n",
              "      <td>Yes</td>\n",
              "      <td>11</td>\n",
              "      <td>No</td>\n",
              "      <td>No phone service</td>\n",
              "      <td>DSL</td>\n",
              "      <td>Yes</td>\n",
              "      <td>No</td>\n",
              "      <td>No</td>\n",
              "      <td>No</td>\n",
              "      <td>No</td>\n",
              "      <td>No</td>\n",
              "      <td>Month-to-month</td>\n",
              "      <td>Yes</td>\n",
              "      <td>Electronic check</td>\n",
              "      <td>29.60</td>\n",
              "      <td>346.45</td>\n",
              "    </tr>\n",
              "    <tr>\n",
              "      <th>6998</th>\n",
              "      <td>Male</td>\n",
              "      <td>1</td>\n",
              "      <td>Yes</td>\n",
              "      <td>No</td>\n",
              "      <td>4</td>\n",
              "      <td>Yes</td>\n",
              "      <td>Yes</td>\n",
              "      <td>Fiber optic</td>\n",
              "      <td>No</td>\n",
              "      <td>No</td>\n",
              "      <td>No</td>\n",
              "      <td>No</td>\n",
              "      <td>No</td>\n",
              "      <td>No</td>\n",
              "      <td>Month-to-month</td>\n",
              "      <td>Yes</td>\n",
              "      <td>Mailed check</td>\n",
              "      <td>74.40</td>\n",
              "      <td>306.60</td>\n",
              "    </tr>\n",
              "    <tr>\n",
              "      <th>6999</th>\n",
              "      <td>Male</td>\n",
              "      <td>0</td>\n",
              "      <td>No</td>\n",
              "      <td>No</td>\n",
              "      <td>66</td>\n",
              "      <td>Yes</td>\n",
              "      <td>No</td>\n",
              "      <td>Fiber optic</td>\n",
              "      <td>Yes</td>\n",
              "      <td>No</td>\n",
              "      <td>Yes</td>\n",
              "      <td>Yes</td>\n",
              "      <td>Yes</td>\n",
              "      <td>Yes</td>\n",
              "      <td>Two year</td>\n",
              "      <td>Yes</td>\n",
              "      <td>Bank transfer (automatic)</td>\n",
              "      <td>105.65</td>\n",
              "      <td>6844.50</td>\n",
              "    </tr>\n",
              "  </tbody>\n",
              "</table>\n",
              "<p>7000 rows × 19 columns</p>\n",
              "</div>"
            ],
            "text/plain": [
              "      gender  SeniorCitizen Partner Dependents  tenure PhoneService  \\\n",
              "0     Female              0     Yes         No       1           No   \n",
              "1       Male              0      No         No      34          Yes   \n",
              "2       Male              0      No         No       2          Yes   \n",
              "3       Male              0      No         No      45           No   \n",
              "4     Female              0      No         No       2          Yes   \n",
              "...      ...            ...     ...        ...     ...          ...   \n",
              "6995    Male              0     Yes        Yes      24          Yes   \n",
              "6996  Female              0     Yes        Yes      72          Yes   \n",
              "6997  Female              0     Yes        Yes      11           No   \n",
              "6998    Male              1     Yes         No       4          Yes   \n",
              "6999    Male              0      No         No      66          Yes   \n",
              "\n",
              "         MultipleLines InternetService OnlineSecurity OnlineBackup  \\\n",
              "0     No phone service             DSL             No          Yes   \n",
              "1                   No             DSL            Yes           No   \n",
              "2                   No             DSL            Yes          Yes   \n",
              "3     No phone service             DSL            Yes           No   \n",
              "4                   No     Fiber optic             No           No   \n",
              "...                ...             ...            ...          ...   \n",
              "6995               Yes             DSL            Yes           No   \n",
              "6996               Yes     Fiber optic             No          Yes   \n",
              "6997  No phone service             DSL            Yes           No   \n",
              "6998               Yes     Fiber optic             No           No   \n",
              "6999                No     Fiber optic            Yes           No   \n",
              "\n",
              "     DeviceProtection TechSupport StreamingTV StreamingMovies        Contract  \\\n",
              "0                  No          No          No              No  Month-to-month   \n",
              "1                 Yes          No          No              No        One year   \n",
              "2                  No          No          No              No  Month-to-month   \n",
              "3                 Yes         Yes          No              No        One year   \n",
              "4                  No          No          No              No  Month-to-month   \n",
              "...               ...         ...         ...             ...             ...   \n",
              "6995              Yes         Yes         Yes             Yes        One year   \n",
              "6996              Yes          No         Yes             Yes        One year   \n",
              "6997               No          No          No              No  Month-to-month   \n",
              "6998               No          No          No              No  Month-to-month   \n",
              "6999              Yes         Yes         Yes             Yes        Two year   \n",
              "\n",
              "     PaperlessBilling              PaymentMethod  MonthlyCharges  TotalCharges  \n",
              "0                 Yes           Electronic check           29.85         29.85  \n",
              "1                  No               Mailed check           56.95       1889.50  \n",
              "2                 Yes               Mailed check           53.85        108.15  \n",
              "3                  No  Bank transfer (automatic)           42.30       1840.75  \n",
              "4                 Yes           Electronic check           70.70        151.65  \n",
              "...               ...                        ...             ...           ...  \n",
              "6995              Yes               Mailed check           84.80       1990.50  \n",
              "6996              Yes    Credit card (automatic)          103.20       7362.90  \n",
              "6997              Yes           Electronic check           29.60        346.45  \n",
              "6998              Yes               Mailed check           74.40        306.60  \n",
              "6999              Yes  Bank transfer (automatic)          105.65       6844.50  \n",
              "\n",
              "[7000 rows x 19 columns]"
            ]
          },
          "execution_count": 30,
          "metadata": {},
          "output_type": "execute_result"
        }
      ],
      "source": [
        "# Split between X (features) and y (target)\n",
        "\n",
        "X = data_train_test.drop('Churn', axis=1)\n",
        "y = data_train_test['Churn']\n",
        "X"
      ]
    },
    {
      "cell_type": "code",
      "execution_count": 31,
      "metadata": {},
      "outputs": [
        {
          "name": "stdout",
          "output_type": "stream",
          "text": [
            "X_Train Size :  (5600, 19)\n",
            "X_Test Size  :  (1400, 19)\n",
            "y_train : (5600,)\n",
            "y_test : (1400,)\n"
          ]
        }
      ],
      "source": [
        "# Split between Train-Set and Test-Set\n",
        "\n",
        "from sklearn.model_selection import train_test_split\n",
        "\n",
        "X_train, X_test, y_train, y_test = train_test_split(X, y, test_size=0.2, stratify=y, random_state=17)\n",
        "\n",
        "print('X_Train Size : ', X_train.shape)\n",
        "print('X_Test Size  : ', X_test.shape)\n",
        "print('y_train :' , y_train.shape)\n",
        "print('y_test :', y_test.shape)"
      ]
    },
    {
      "cell_type": "code",
      "execution_count": 32,
      "metadata": {},
      "outputs": [
        {
          "name": "stdout",
          "output_type": "stream",
          "text": [
            "X_Train Size :  (5040, 19)\n",
            "X_val Size  :  (560, 19)\n",
            "y_train : (5040,)\n",
            "y_val : (560,)\n"
          ]
        }
      ],
      "source": [
        "# Split X_train, y_train into X_val and y_val for validation purpose\n",
        "\n",
        "X_train, X_val, y_train, y_val = train_test_split(X_train, y_train, test_size=0.1, stratify=y_train, random_state=17)\n",
        "\n",
        "print('X_Train Size : ', X_train.shape)\n",
        "print('X_val Size  : ', X_val.shape)\n",
        "print('y_train :' , y_train.shape)\n",
        "print('y_val :', y_val.shape)"
      ]
    },
    {
      "cell_type": "markdown",
      "metadata": {
        "id": "aYKlxTPcUxQF"
      },
      "source": [
        "### 3. Handling Outlier"
      ]
    },
    {
      "cell_type": "code",
      "execution_count": 33,
      "metadata": {},
      "outputs": [],
      "source": [
        "# Function to create histogram and cecking outlier.\n",
        "\n",
        "def cek_outlier(df, variable):\n",
        "    # Define figure size\n",
        "    plt.figure(figsize=(16, 4))\n",
        "\n",
        "    # Histogram\n",
        "    plt.subplot(1, 2, 1)\n",
        "    sns.histplot(df[variable], bins=30, kde=True, color='grey', edgecolor='black')\n",
        "    plt.title(f'{variable} Histogram')\n",
        "\n",
        "    cek_skew0 = df[variable].skew()\n",
        "    print (f'{variable} Skewness :', cek_skew0)\n",
        "\n",
        "    #normal distirbution\n",
        "    upper = df[variable].mean() + 3*df[variable].std()\n",
        "    lower = df[variable].mean() - 3*df[variable].std()\n",
        "    outlier_upper = df[df[variable] > upper]\n",
        "    outlier_lower = df[df[variable] < lower]\n",
        "    total_normal = pd.concat([outlier_upper, outlier_lower])\n",
        "\n",
        "    #skewed distribution\n",
        "    IQR = df[variable].quantile(0.75) - df[variable].quantile(0.25)\n",
        "\n",
        "    lower_skew = df[variable].quantile(0.25) - (IQR * 3)\n",
        "    upper_skew = df[variable].quantile(0.75) + (IQR * 3)\n",
        "    outlier_upper_skew = df[df[variable] > upper_skew]\n",
        "    outlier_lower_skew = df[df[variable] < lower_skew]\n",
        "    total_skew = pd.concat([outlier_upper_skew + outlier_lower_skew])\n",
        "\n",
        "    if cek_skew0 < 0.5 and cek_skew0 > -0.5:\n",
        "        # Boxplot normal distribution\n",
        "        plt.subplot(1, 2, 2)\n",
        "        sns.boxplot(y=df[variable], whis=3, palette= 'Greys')\n",
        "        plt.title('Boxplot normal dist.')\n",
        "        plt.show()\n",
        "        \n",
        "        print(f'normal distribution - Jumlah {variable} outlier : ', len(total_normal))\n",
        "        print('jumlah data : ' , len(df[variable]))\n",
        "        print('% upper outliers : ' , np.round((len(outlier_upper)/len(df[variable]) * 100),3))\n",
        "        print('% lower outliers : ' , np.round((len(outlier_lower)/len(df[variable]) * 100),3))\n",
        "        print('% Total outliers : ', np.round(((len(outlier_upper)/len(df[variable]) * 100) + (len(outlier_lower)/len(df[variable]) * 100)),3))\n",
        "        print('--------------------------------------------------------------------------------------------------------\\n')\n",
        "    else :\n",
        "        # Boxplot skewed distribution\n",
        "        plt.subplot(1, 2, 2)\n",
        "        sns.boxplot(y=df[variable], whis=3, palette= 'Greys', showmeans=True)\n",
        "        plt.title('Boxplot skewed dist.')\n",
        "        plt.show()\n",
        "\n",
        "        # Mean, median, modus\n",
        "        mean = df[variable].mean()\n",
        "        median = df[variable].median()\n",
        "        mode = df[variable].mode()[0]\n",
        "\n",
        "        if  mean > median and median > mode :\n",
        "            print (f'Right skewed distribution, Jumlah {variable} outlier : ', len(total_skew))\n",
        "        elif mean < median and median < mode :\n",
        "            print (f'Left skewed distribution, Jumlah {variable} outlier : ', len(total_skew))\n",
        "        else:\n",
        "            print(f'skewed distribution, Jumlah {variable} outlier : ', len(total_skew))\n",
        "            \n",
        "        # print(f'Jumlah {variable} outlier : ', len(total_skew))\n",
        "        print('jumlah data : ' , len(df[variable]))\n",
        "        print('% upper outliers : ' , np.round((len(outlier_upper_skew)/len(df[variable]) * 100),3))\n",
        "        print('% lower outliers : ' , np.round((len(outlier_lower_skew)/len(df[variable]) * 100),3))\n",
        "        print('% Total outliers : ', np.round(((len(outlier_upper_skew)/len(df[variable]) * 100) + (len(outlier_lower_skew)/len(df[variable]) * 100)),3))\n",
        "        print('--------------------------------------------------------------------------------------------------------\\n')\n",
        "\n",
        "# Function to see precentage of every outlier  \n",
        "def rank_normal(df, variable):\n",
        "    #normal distirbution\n",
        "    upper = df[variable].mean() + 3*df[variable].std()\n",
        "    lower = df[variable].mean() - 3*df[variable].std()\n",
        "    outlier_upper = df[df[variable] > upper]\n",
        "    outlier_lower = df[df[variable] < lower]\n",
        "    total_normal = pd.concat([outlier_upper, outlier_lower])\n",
        "    pctg = (len(total_normal)/len(df[variable])* 100)\n",
        "    print(f'{variable} : {len(total_normal)}  ({round(pctg,2)})%')\n",
        "\n",
        "def rank_skew(df, variable):\n",
        "    #skewed distribution\n",
        "    IQR = df[variable].quantile(0.75) - df[variable].quantile(0.25)\n",
        "\n",
        "    lower_skew = df[variable].quantile(0.25) - (IQR * 3)\n",
        "    upper_skew = df[variable].quantile(0.75) + (IQR * 3)\n",
        "    outlier_upper_skew = df[df[variable] > upper_skew]\n",
        "    outlier_lower_skew = df[df[variable] < lower_skew]\n",
        "    total_skew = pd.concat([outlier_upper_skew + outlier_lower_skew])\n",
        "    pctg = (len(total_skew)/len(df[variable])* 100)\n",
        "    print(f'{variable} : {len(total_skew)}  ({round(pctg,2)})%')"
      ]
    },
    {
      "cell_type": "markdown",
      "metadata": {
        "id": "LUhCAT3QzdL_"
      },
      "source": [
        "- ##### X_train :"
      ]
    },
    {
      "cell_type": "code",
      "execution_count": 34,
      "metadata": {},
      "outputs": [
        {
          "name": "stdout",
          "output_type": "stream",
          "text": [
            "['SeniorCitizen', 'tenure', 'MonthlyCharges', 'TotalCharges']\n"
          ]
        }
      ],
      "source": [
        "num_col = X_train.select_dtypes(include=np.number).columns.tolist()\n",
        "print(num_col)"
      ]
    },
    {
      "cell_type": "code",
      "execution_count": 35,
      "metadata": {},
      "outputs": [
        {
          "name": "stdout",
          "output_type": "stream",
          "text": [
            "SeniorCitizen Skewness : 1.7893869816826768\n"
          ]
        },
        {
          "data": {
            "image/png": "[encoded data removed]",
            "text/plain": [
              "<Figure size 1152x288 with 2 Axes>"
            ]
          },
          "metadata": {
            "needs_background": "light"
          },
          "output_type": "display_data"
        },
        {
          "name": "stdout",
          "output_type": "stream",
          "text": [
            "skewed distribution, Jumlah SeniorCitizen outlier :  840\n",
            "jumlah data :  5040\n",
            "% upper outliers :  16.667\n",
            "% lower outliers :  0.0\n",
            "% Total outliers :  16.667\n",
            "--------------------------------------------------------------------------------------------------------\n",
            "\n",
            "tenure Skewness : 0.2367521104344726\n"
          ]
        },
        {
          "data": {
            "image/png": "[encoded data removed]",
            "text/plain": [
              "<Figure size 1152x288 with 2 Axes>"
            ]
          },
          "metadata": {
            "needs_background": "light"
          },
          "output_type": "display_data"
        },
        {
          "name": "stdout",
          "output_type": "stream",
          "text": [
            "normal distribution - Jumlah tenure outlier :  0\n",
            "jumlah data :  5040\n",
            "% upper outliers :  0.0\n",
            "% lower outliers :  0.0\n",
            "% Total outliers :  0.0\n",
            "--------------------------------------------------------------------------------------------------------\n",
            "\n",
            "MonthlyCharges Skewness : -0.2476867709918359\n"
          ]
        },
        {
          "data": {
            "image/png": "[encoded data removed]",
            "text/plain": [
              "<Figure size 1152x288 with 2 Axes>"
            ]
          },
          "metadata": {
            "needs_background": "light"
          },
          "output_type": "display_data"
        },
        {
          "name": "stdout",
          "output_type": "stream",
          "text": [
            "normal distribution - Jumlah MonthlyCharges outlier :  0\n",
            "jumlah data :  5040\n",
            "% upper outliers :  0.0\n",
            "% lower outliers :  0.0\n",
            "% Total outliers :  0.0\n",
            "--------------------------------------------------------------------------------------------------------\n",
            "\n",
            "TotalCharges Skewness : 0.9419388280144597\n"
          ]
        },
        {
          "data": {
            "image/png": "[encoded data removed]",
            "text/plain": [
              "<Figure size 1152x288 with 2 Axes>"
            ]
          },
          "metadata": {
            "needs_background": "light"
          },
          "output_type": "display_data"
        },
        {
          "name": "stdout",
          "output_type": "stream",
          "text": [
            "Right skewed distribution, Jumlah TotalCharges outlier :  0\n",
            "jumlah data :  5040\n",
            "% upper outliers :  0.0\n",
            "% lower outliers :  0.0\n",
            "% Total outliers :  0.0\n",
            "--------------------------------------------------------------------------------------------------------\n",
            "\n"
          ]
        }
      ],
      "source": [
        "for i in num_col:\n",
        "    cek_outlier(X_train, i)"
      ]
    },
    {
      "cell_type": "code",
      "execution_count": 36,
      "metadata": {},
      "outputs": [
        {
          "name": "stdout",
          "output_type": "stream",
          "text": [
            "Normal :\n",
            "----------------------\n",
            "tenure : 0  (0.0)%\n",
            "MonthlyCharges : 0  (0.0)%\n",
            "\n",
            "Skewed : \n",
            "--------------------------\n",
            "SeniorCitizen : 840  (16.67)%\n",
            "TotalCharges : 0  (0.0)%\n"
          ]
        }
      ],
      "source": [
        "# looping untuk membagi data normal distribution dan skewed distribution\n",
        "normal = []\n",
        "skew = []\n",
        "for i in num_col:\n",
        "    if X_train[i].skew() > - 0.5 and X_train[i].skew() < 0.5 :\n",
        "        normal.append(i)\n",
        "    else :\n",
        "        skew.append(i)\n",
        "\n",
        "print('Normal :\\n----------------------')\n",
        "for i in normal:\n",
        "    rank_normal(X_train, i)\n",
        "print('\\nSkewed : \\n--------------------------')\n",
        "for i in skew:\n",
        "    rank_skew(X_train, i)"
      ]
    },
    {
      "cell_type": "markdown",
      "metadata": {},
      "source": [
        "`From the result above, we can see that the only outliers we have is from SeniorCitizen. However, if we take a closer look at its value, i think it is not an outlier that need to be handled. Its value is how it is collected from customers.`"
      ]
    },
    {
      "cell_type": "markdown",
      "metadata": {
        "id": "P0CEP7MszdL_"
      },
      "source": [
        "- ##### y_train :"
      ]
    },
    {
      "cell_type": "markdown",
      "metadata": {},
      "source": [
        "`No outliers.`"
      ]
    },
    {
      "cell_type": "markdown",
      "metadata": {
        "id": "Jbj7zYHMU44K"
      },
      "source": [
        "\n",
        "###  4. Handling Missing Values"
      ]
    },
    {
      "cell_type": "markdown",
      "metadata": {
        "id": "Sw59wyYNzdMA"
      },
      "source": [
        "#### TRAIN SET"
      ]
    },
    {
      "cell_type": "markdown",
      "metadata": {
        "id": "GgbN21gjzdMB"
      },
      "source": [
        "* X_train :"
      ]
    },
    {
      "cell_type": "code",
      "execution_count": 37,
      "metadata": {},
      "outputs": [
        {
          "data": {
            "text/html": [
              "<div>\n",
              "<style scoped>\n",
              "    .dataframe tbody tr th:only-of-type {\n",
              "        vertical-align: middle;\n",
              "    }\n",
              "\n",
              "    .dataframe tbody tr th {\n",
              "        vertical-align: top;\n",
              "    }\n",
              "\n",
              "    .dataframe thead th {\n",
              "        text-align: right;\n",
              "    }\n",
              "</style>\n",
              "<table border=\"1\" class=\"dataframe\">\n",
              "  <thead>\n",
              "    <tr style=\"text-align: right;\">\n",
              "      <th></th>\n",
              "      <th>missing value</th>\n",
              "      <th>%pctg</th>\n",
              "    </tr>\n",
              "  </thead>\n",
              "  <tbody>\n",
              "    <tr>\n",
              "      <th>TotalCharges</th>\n",
              "      <td>9</td>\n",
              "      <td>0.2</td>\n",
              "    </tr>\n",
              "  </tbody>\n",
              "</table>\n",
              "</div>"
            ],
            "text/plain": [
              "              missing value  %pctg\n",
              "TotalCharges              9    0.2"
            ]
          },
          "execution_count": 37,
          "metadata": {},
          "output_type": "execute_result"
        }
      ],
      "source": [
        "# Checking missing values\n",
        "\n",
        "missing = pd.DataFrame(X_train.isnull().sum(), columns = ['missing value'])\n",
        "missing['%pctg'] = (missing/len(X_train)).round(3) * 100\n",
        "missing[missing['missing value'] > 0].sort_values(by='%pctg')"
      ]
    },
    {
      "cell_type": "markdown",
      "metadata": {},
      "source": [
        "`a small number of missing values that we can handle by simply dropping the rows.`"
      ]
    },
    {
      "cell_type": "code",
      "execution_count": 38,
      "metadata": {},
      "outputs": [],
      "source": [
        "# Drop missing values\n",
        "\n",
        "X_train.dropna(axis=0, subset=['TotalCharges'], inplace=True)"
      ]
    },
    {
      "cell_type": "markdown",
      "metadata": {
        "id": "Vs1yhxdvzdMB"
      },
      "source": [
        "* y_train :"
      ]
    },
    {
      "cell_type": "code",
      "execution_count": 39,
      "metadata": {},
      "outputs": [
        {
          "data": {
            "text/plain": [
              "(5031, 19)"
            ]
          },
          "execution_count": 39,
          "metadata": {},
          "output_type": "execute_result"
        }
      ],
      "source": [
        "X_train.shape"
      ]
    },
    {
      "cell_type": "code",
      "execution_count": 40,
      "metadata": {},
      "outputs": [
        {
          "data": {
            "text/plain": [
              "(5040,)"
            ]
          },
          "execution_count": 40,
          "metadata": {},
          "output_type": "execute_result"
        }
      ],
      "source": [
        "y_train.shape"
      ]
    },
    {
      "cell_type": "code",
      "execution_count": 41,
      "metadata": {},
      "outputs": [],
      "source": [
        "# make the dimensions of y_train similar to X_train\n",
        "\n",
        "y_train = y_train.loc[X_train.index]"
      ]
    },
    {
      "cell_type": "code",
      "execution_count": 42,
      "metadata": {},
      "outputs": [
        {
          "data": {
            "text/plain": [
              "(5031,)"
            ]
          },
          "execution_count": 42,
          "metadata": {},
          "output_type": "execute_result"
        }
      ],
      "source": [
        "# check the rsult \n",
        "\n",
        "y_train.shape"
      ]
    },
    {
      "cell_type": "markdown",
      "metadata": {
        "id": "RfjDYYSYzdMB"
      },
      "source": [
        "#### TEST SET"
      ]
    },
    {
      "cell_type": "markdown",
      "metadata": {
        "id": "tpkkiGALzdMC"
      },
      "source": [
        "* X_test :"
      ]
    },
    {
      "cell_type": "code",
      "execution_count": 43,
      "metadata": {},
      "outputs": [
        {
          "data": {
            "text/plain": [
              "gender              0\n",
              "SeniorCitizen       0\n",
              "Partner             0\n",
              "Dependents          0\n",
              "tenure              0\n",
              "PhoneService        0\n",
              "MultipleLines       0\n",
              "InternetService     0\n",
              "OnlineSecurity      0\n",
              "OnlineBackup        0\n",
              "DeviceProtection    0\n",
              "TechSupport         0\n",
              "StreamingTV         0\n",
              "StreamingMovies     0\n",
              "Contract            0\n",
              "PaperlessBilling    0\n",
              "PaymentMethod       0\n",
              "MonthlyCharges      0\n",
              "TotalCharges        1\n",
              "dtype: int64"
            ]
          },
          "execution_count": 43,
          "metadata": {},
          "output_type": "execute_result"
        }
      ],
      "source": [
        "X_test.isnull().sum()"
      ]
    },
    {
      "cell_type": "code",
      "execution_count": 44,
      "metadata": {},
      "outputs": [],
      "source": [
        "# Drop missing values\n",
        "\n",
        "X_test.dropna(axis=0, subset=['TotalCharges'], inplace=True)"
      ]
    },
    {
      "cell_type": "markdown",
      "metadata": {
        "id": "1Ji1hNPGzdMC"
      },
      "source": [
        "* y_test :"
      ]
    },
    {
      "cell_type": "code",
      "execution_count": 45,
      "metadata": {},
      "outputs": [],
      "source": [
        "# make the dimensions of y_train similar to X_train\n",
        "\n",
        "y_test = y_test.loc[X_test.index]"
      ]
    },
    {
      "cell_type": "markdown",
      "metadata": {
        "id": "RfjDYYSYzdMB"
      },
      "source": [
        "#### Validation SET"
      ]
    },
    {
      "cell_type": "markdown",
      "metadata": {},
      "source": [
        "* X_val"
      ]
    },
    {
      "cell_type": "code",
      "execution_count": 46,
      "metadata": {},
      "outputs": [
        {
          "data": {
            "text/plain": [
              "gender              0\n",
              "SeniorCitizen       0\n",
              "Partner             0\n",
              "Dependents          0\n",
              "tenure              0\n",
              "PhoneService        0\n",
              "MultipleLines       0\n",
              "InternetService     0\n",
              "OnlineSecurity      0\n",
              "OnlineBackup        0\n",
              "DeviceProtection    0\n",
              "TechSupport         0\n",
              "StreamingTV         0\n",
              "StreamingMovies     0\n",
              "Contract            0\n",
              "PaperlessBilling    0\n",
              "PaymentMethod       0\n",
              "MonthlyCharges      0\n",
              "TotalCharges        1\n",
              "dtype: int64"
            ]
          },
          "execution_count": 46,
          "metadata": {},
          "output_type": "execute_result"
        }
      ],
      "source": [
        "X_val.isnull().sum()"
      ]
    },
    {
      "cell_type": "code",
      "execution_count": 47,
      "metadata": {},
      "outputs": [],
      "source": [
        "# Drop missing values\n",
        "\n",
        "X_val.dropna(axis=0, subset=['TotalCharges'], inplace=True)"
      ]
    },
    {
      "cell_type": "markdown",
      "metadata": {},
      "source": [
        "* y_val"
      ]
    },
    {
      "cell_type": "code",
      "execution_count": 48,
      "metadata": {},
      "outputs": [],
      "source": [
        "# make the dimensions of y_train similar to X_train\n",
        "\n",
        "y_val = y_val.loc[X_val.index]"
      ]
    },
    {
      "cell_type": "markdown",
      "metadata": {},
      "source": [
        "Let's take a look at the data shape after handling outliers and missing values :"
      ]
    },
    {
      "cell_type": "code",
      "execution_count": 49,
      "metadata": {},
      "outputs": [
        {
          "name": "stdout",
          "output_type": "stream",
          "text": [
            "X_train : (5031, 19)\n",
            "X_test : (1399, 19)\n",
            "X_val : (559, 19)\n"
          ]
        }
      ],
      "source": [
        "print('X_train :' ,X_train.shape)\n",
        "print('X_test :' ,X_test.shape)\n",
        "print('X_val :' ,X_val.shape)"
      ]
    },
    {
      "cell_type": "markdown",
      "metadata": {
        "id": "Cvp33WdhVZS5"
      },
      "source": [
        "### 5. Feature Selection"
      ]
    },
    {
      "cell_type": "markdown",
      "metadata": {},
      "source": [
        "##### 1. Label Encoding"
      ]
    },
    {
      "cell_type": "code",
      "execution_count": 50,
      "metadata": {},
      "outputs": [],
      "source": [
        "from sklearn.preprocessing import LabelEncoder\n",
        "\n",
        "le = LabelEncoder()\n",
        "le.fit(y_train)\n",
        "\n",
        "# Encode\n",
        "y_train = le.transform(y_train)\n",
        "y_test = le.transform(y_test)\n",
        "y_val = le.transform(y_val)"
      ]
    },
    {
      "cell_type": "code",
      "execution_count": 51,
      "metadata": {},
      "outputs": [
        {
          "data": {
            "text/plain": [
              "array([0, 1, 0, ..., 0, 0, 0])"
            ]
          },
          "execution_count": 51,
          "metadata": {},
          "output_type": "execute_result"
        }
      ],
      "source": [
        "# check the encoding result\n",
        "y_train"
      ]
    },
    {
      "cell_type": "markdown",
      "metadata": {},
      "source": [
        "---"
      ]
    },
    {
      "cell_type": "code",
      "execution_count": 52,
      "metadata": {},
      "outputs": [],
      "source": [
        "y_train_ori = y_train.copy()\n",
        "y_test_ori = y_test.copy()\n",
        "y_val_ori = y_val.copy()"
      ]
    },
    {
      "cell_type": "markdown",
      "metadata": {},
      "source": [
        "---"
      ]
    },
    {
      "cell_type": "markdown",
      "metadata": {},
      "source": [
        "##### 2. Handling confusing value by mapping"
      ]
    },
    {
      "cell_type": "markdown",
      "metadata": {},
      "source": [
        "There are several columns that have confusing value in it so we have to handle it by mapping/replacing its value manually. The aforementioned columns are :\n",
        "\n",
        "        * MultipleLines (3): ['No phone service' 'No' 'Yes']\n",
        "\n",
        "        * OnlineSecurity (3): ['No' 'Yes' 'No internet service']\n",
        "\n",
        "        * OnlineBackup (3): ['Yes' 'No' 'No internet service']\n",
        "\n",
        "        * DeviceProtection (3): ['No' 'Yes' 'No internet service']\n",
        "\n",
        "        * TechSupport (3): ['No' 'Yes' 'No internet service']\n",
        "\n",
        "        * StreamingTV (3): ['No' 'Yes' 'No internet service']\n",
        "\n",
        "        * StreamingMovies (3): ['No' 'Yes' 'No internet service']\n",
        "\n",
        "In this case i would like to use replace method to change Both 'No phone service' and 'No internet service' to No."
      ]
    },
    {
      "cell_type": "code",
      "execution_count": 53,
      "metadata": {},
      "outputs": [],
      "source": [
        "# Replace value \n",
        "\n",
        "X_train = X_train.replace('No phone service', 'No')\n",
        "X_train = X_train.replace('No internet service', 'No')\n",
        "\n",
        "X_test = X_test.replace('No phone service', 'No')\n",
        "X_test = X_test.replace('No internet service', 'No')\n",
        "\n",
        "X_val = X_val.replace('No phone service', 'No')\n",
        "X_val = X_val.replace('No internet service', 'No')"
      ]
    },
    {
      "cell_type": "code",
      "execution_count": 54,
      "metadata": {},
      "outputs": [
        {
          "name": "stdout",
          "output_type": "stream",
          "text": [
            "Categorical Columns : \n",
            "MultipleLines (2): ['No' 'Yes']\n",
            "----------------------------------------\n",
            "OnlineSecurity (2): ['No' 'Yes']\n",
            "----------------------------------------\n",
            "OnlineBackup (2): ['No' 'Yes']\n",
            "----------------------------------------\n",
            "DeviceProtection (2): ['No' 'Yes']\n",
            "----------------------------------------\n",
            "TechSupport (2): ['No' 'Yes']\n",
            "----------------------------------------\n",
            "StreamingTV (2): ['No' 'Yes']\n",
            "----------------------------------------\n",
            "StreamingMovies (2): ['No' 'Yes']\n",
            "----------------------------------------\n"
          ]
        }
      ],
      "source": [
        "# Checking the result\n",
        "\n",
        "X_col = ['MultipleLines', 'OnlineSecurity', 'OnlineBackup', 'DeviceProtection', 'TechSupport', 'StreamingTV', 'StreamingMovies']\n",
        "\n",
        "print('Categorical Columns : ')\n",
        "for i in X_col:\n",
        "    cat = X_train[i].unique()\n",
        "    print(f'{i} ({len(cat)}):',cat)\n",
        "    print('----------------------------------------')\n"
      ]
    },
    {
      "cell_type": "markdown",
      "metadata": {},
      "source": [
        "##### 3. Features coorelation to the target"
      ]
    },
    {
      "cell_type": "markdown",
      "metadata": {},
      "source": [
        "---"
      ]
    },
    {
      "cell_type": "markdown",
      "metadata": {},
      "source": [
        "`saya akan menggabungkan X_train dan y_train untuk melihat kolom-kolom X_train yang memiliki correlation yang baik dengan y_train.`"
      ]
    },
    {
      "cell_type": "code",
      "execution_count": 55,
      "metadata": {},
      "outputs": [
        {
          "data": {
            "text/html": [
              "<div>\n",
              "<style scoped>\n",
              "    .dataframe tbody tr th:only-of-type {\n",
              "        vertical-align: middle;\n",
              "    }\n",
              "\n",
              "    .dataframe tbody tr th {\n",
              "        vertical-align: top;\n",
              "    }\n",
              "\n",
              "    .dataframe thead th {\n",
              "        text-align: right;\n",
              "    }\n",
              "</style>\n",
              "<table border=\"1\" class=\"dataframe\">\n",
              "  <thead>\n",
              "    <tr style=\"text-align: right;\">\n",
              "      <th></th>\n",
              "      <th>index</th>\n",
              "      <th>gender</th>\n",
              "      <th>SeniorCitizen</th>\n",
              "      <th>Partner</th>\n",
              "      <th>Dependents</th>\n",
              "      <th>tenure</th>\n",
              "      <th>PhoneService</th>\n",
              "      <th>MultipleLines</th>\n",
              "      <th>InternetService</th>\n",
              "      <th>OnlineSecurity</th>\n",
              "      <th>...</th>\n",
              "      <th>DeviceProtection</th>\n",
              "      <th>TechSupport</th>\n",
              "      <th>StreamingTV</th>\n",
              "      <th>StreamingMovies</th>\n",
              "      <th>Contract</th>\n",
              "      <th>PaperlessBilling</th>\n",
              "      <th>PaymentMethod</th>\n",
              "      <th>MonthlyCharges</th>\n",
              "      <th>TotalCharges</th>\n",
              "      <th>Target</th>\n",
              "    </tr>\n",
              "  </thead>\n",
              "  <tbody>\n",
              "    <tr>\n",
              "      <th>0</th>\n",
              "      <td>5415</td>\n",
              "      <td>Female</td>\n",
              "      <td>0</td>\n",
              "      <td>No</td>\n",
              "      <td>No</td>\n",
              "      <td>3</td>\n",
              "      <td>Yes</td>\n",
              "      <td>No</td>\n",
              "      <td>DSL</td>\n",
              "      <td>No</td>\n",
              "      <td>...</td>\n",
              "      <td>No</td>\n",
              "      <td>No</td>\n",
              "      <td>No</td>\n",
              "      <td>No</td>\n",
              "      <td>Month-to-month</td>\n",
              "      <td>No</td>\n",
              "      <td>Mailed check</td>\n",
              "      <td>44.75</td>\n",
              "      <td>148.05</td>\n",
              "      <td>0</td>\n",
              "    </tr>\n",
              "    <tr>\n",
              "      <th>1</th>\n",
              "      <td>3454</td>\n",
              "      <td>Male</td>\n",
              "      <td>0</td>\n",
              "      <td>Yes</td>\n",
              "      <td>No</td>\n",
              "      <td>42</td>\n",
              "      <td>Yes</td>\n",
              "      <td>Yes</td>\n",
              "      <td>Fiber optic</td>\n",
              "      <td>No</td>\n",
              "      <td>...</td>\n",
              "      <td>Yes</td>\n",
              "      <td>Yes</td>\n",
              "      <td>Yes</td>\n",
              "      <td>Yes</td>\n",
              "      <td>Month-to-month</td>\n",
              "      <td>Yes</td>\n",
              "      <td>Bank transfer (automatic)</td>\n",
              "      <td>106.15</td>\n",
              "      <td>4512.70</td>\n",
              "      <td>1</td>\n",
              "    </tr>\n",
              "    <tr>\n",
              "      <th>2</th>\n",
              "      <td>4218</td>\n",
              "      <td>Male</td>\n",
              "      <td>0</td>\n",
              "      <td>Yes</td>\n",
              "      <td>Yes</td>\n",
              "      <td>46</td>\n",
              "      <td>Yes</td>\n",
              "      <td>No</td>\n",
              "      <td>No</td>\n",
              "      <td>No</td>\n",
              "      <td>...</td>\n",
              "      <td>No</td>\n",
              "      <td>No</td>\n",
              "      <td>No</td>\n",
              "      <td>No</td>\n",
              "      <td>Two year</td>\n",
              "      <td>No</td>\n",
              "      <td>Credit card (automatic)</td>\n",
              "      <td>19.75</td>\n",
              "      <td>856.50</td>\n",
              "      <td>0</td>\n",
              "    </tr>\n",
              "    <tr>\n",
              "      <th>3</th>\n",
              "      <td>5790</td>\n",
              "      <td>Female</td>\n",
              "      <td>0</td>\n",
              "      <td>No</td>\n",
              "      <td>No</td>\n",
              "      <td>22</td>\n",
              "      <td>Yes</td>\n",
              "      <td>No</td>\n",
              "      <td>No</td>\n",
              "      <td>No</td>\n",
              "      <td>...</td>\n",
              "      <td>No</td>\n",
              "      <td>No</td>\n",
              "      <td>No</td>\n",
              "      <td>No</td>\n",
              "      <td>Month-to-month</td>\n",
              "      <td>Yes</td>\n",
              "      <td>Mailed check</td>\n",
              "      <td>20.05</td>\n",
              "      <td>470.20</td>\n",
              "      <td>0</td>\n",
              "    </tr>\n",
              "    <tr>\n",
              "      <th>4</th>\n",
              "      <td>3611</td>\n",
              "      <td>Female</td>\n",
              "      <td>0</td>\n",
              "      <td>Yes</td>\n",
              "      <td>No</td>\n",
              "      <td>24</td>\n",
              "      <td>Yes</td>\n",
              "      <td>Yes</td>\n",
              "      <td>Fiber optic</td>\n",
              "      <td>No</td>\n",
              "      <td>...</td>\n",
              "      <td>Yes</td>\n",
              "      <td>No</td>\n",
              "      <td>No</td>\n",
              "      <td>No</td>\n",
              "      <td>Month-to-month</td>\n",
              "      <td>Yes</td>\n",
              "      <td>Mailed check</td>\n",
              "      <td>79.65</td>\n",
              "      <td>1928.70</td>\n",
              "      <td>0</td>\n",
              "    </tr>\n",
              "    <tr>\n",
              "      <th>...</th>\n",
              "      <td>...</td>\n",
              "      <td>...</td>\n",
              "      <td>...</td>\n",
              "      <td>...</td>\n",
              "      <td>...</td>\n",
              "      <td>...</td>\n",
              "      <td>...</td>\n",
              "      <td>...</td>\n",
              "      <td>...</td>\n",
              "      <td>...</td>\n",
              "      <td>...</td>\n",
              "      <td>...</td>\n",
              "      <td>...</td>\n",
              "      <td>...</td>\n",
              "      <td>...</td>\n",
              "      <td>...</td>\n",
              "      <td>...</td>\n",
              "      <td>...</td>\n",
              "      <td>...</td>\n",
              "      <td>...</td>\n",
              "      <td>...</td>\n",
              "    </tr>\n",
              "    <tr>\n",
              "      <th>5026</th>\n",
              "      <td>154</td>\n",
              "      <td>Female</td>\n",
              "      <td>0</td>\n",
              "      <td>Yes</td>\n",
              "      <td>Yes</td>\n",
              "      <td>14</td>\n",
              "      <td>Yes</td>\n",
              "      <td>No</td>\n",
              "      <td>Fiber optic</td>\n",
              "      <td>No</td>\n",
              "      <td>...</td>\n",
              "      <td>No</td>\n",
              "      <td>No</td>\n",
              "      <td>No</td>\n",
              "      <td>Yes</td>\n",
              "      <td>Month-to-month</td>\n",
              "      <td>Yes</td>\n",
              "      <td>Bank transfer (automatic)</td>\n",
              "      <td>80.90</td>\n",
              "      <td>1152.80</td>\n",
              "      <td>0</td>\n",
              "    </tr>\n",
              "    <tr>\n",
              "      <th>5027</th>\n",
              "      <td>4456</td>\n",
              "      <td>Female</td>\n",
              "      <td>0</td>\n",
              "      <td>No</td>\n",
              "      <td>No</td>\n",
              "      <td>7</td>\n",
              "      <td>Yes</td>\n",
              "      <td>Yes</td>\n",
              "      <td>Fiber optic</td>\n",
              "      <td>No</td>\n",
              "      <td>...</td>\n",
              "      <td>No</td>\n",
              "      <td>No</td>\n",
              "      <td>No</td>\n",
              "      <td>No</td>\n",
              "      <td>Month-to-month</td>\n",
              "      <td>Yes</td>\n",
              "      <td>Electronic check</td>\n",
              "      <td>74.90</td>\n",
              "      <td>541.15</td>\n",
              "      <td>1</td>\n",
              "    </tr>\n",
              "    <tr>\n",
              "      <th>5028</th>\n",
              "      <td>323</td>\n",
              "      <td>Female</td>\n",
              "      <td>0</td>\n",
              "      <td>Yes</td>\n",
              "      <td>No</td>\n",
              "      <td>52</td>\n",
              "      <td>Yes</td>\n",
              "      <td>Yes</td>\n",
              "      <td>Fiber optic</td>\n",
              "      <td>No</td>\n",
              "      <td>...</td>\n",
              "      <td>No</td>\n",
              "      <td>Yes</td>\n",
              "      <td>Yes</td>\n",
              "      <td>Yes</td>\n",
              "      <td>Month-to-month</td>\n",
              "      <td>Yes</td>\n",
              "      <td>Credit card (automatic)</td>\n",
              "      <td>102.70</td>\n",
              "      <td>5138.10</td>\n",
              "      <td>0</td>\n",
              "    </tr>\n",
              "    <tr>\n",
              "      <th>5029</th>\n",
              "      <td>1630</td>\n",
              "      <td>Male</td>\n",
              "      <td>0</td>\n",
              "      <td>No</td>\n",
              "      <td>No</td>\n",
              "      <td>66</td>\n",
              "      <td>No</td>\n",
              "      <td>No</td>\n",
              "      <td>DSL</td>\n",
              "      <td>No</td>\n",
              "      <td>...</td>\n",
              "      <td>No</td>\n",
              "      <td>Yes</td>\n",
              "      <td>No</td>\n",
              "      <td>No</td>\n",
              "      <td>One year</td>\n",
              "      <td>No</td>\n",
              "      <td>Credit card (automatic)</td>\n",
              "      <td>29.45</td>\n",
              "      <td>1983.15</td>\n",
              "      <td>0</td>\n",
              "    </tr>\n",
              "    <tr>\n",
              "      <th>5030</th>\n",
              "      <td>4606</td>\n",
              "      <td>Female</td>\n",
              "      <td>0</td>\n",
              "      <td>Yes</td>\n",
              "      <td>Yes</td>\n",
              "      <td>72</td>\n",
              "      <td>Yes</td>\n",
              "      <td>Yes</td>\n",
              "      <td>No</td>\n",
              "      <td>No</td>\n",
              "      <td>...</td>\n",
              "      <td>No</td>\n",
              "      <td>No</td>\n",
              "      <td>No</td>\n",
              "      <td>No</td>\n",
              "      <td>Two year</td>\n",
              "      <td>Yes</td>\n",
              "      <td>Bank transfer (automatic)</td>\n",
              "      <td>24.05</td>\n",
              "      <td>1709.15</td>\n",
              "      <td>0</td>\n",
              "    </tr>\n",
              "  </tbody>\n",
              "</table>\n",
              "<p>5031 rows × 21 columns</p>\n",
              "</div>"
            ],
            "text/plain": [
              "      index  gender  SeniorCitizen Partner Dependents  tenure PhoneService  \\\n",
              "0      5415  Female              0      No         No       3          Yes   \n",
              "1      3454    Male              0     Yes         No      42          Yes   \n",
              "2      4218    Male              0     Yes        Yes      46          Yes   \n",
              "3      5790  Female              0      No         No      22          Yes   \n",
              "4      3611  Female              0     Yes         No      24          Yes   \n",
              "...     ...     ...            ...     ...        ...     ...          ...   \n",
              "5026    154  Female              0     Yes        Yes      14          Yes   \n",
              "5027   4456  Female              0      No         No       7          Yes   \n",
              "5028    323  Female              0     Yes         No      52          Yes   \n",
              "5029   1630    Male              0      No         No      66           No   \n",
              "5030   4606  Female              0     Yes        Yes      72          Yes   \n",
              "\n",
              "     MultipleLines InternetService OnlineSecurity  ... DeviceProtection  \\\n",
              "0               No             DSL             No  ...               No   \n",
              "1              Yes     Fiber optic             No  ...              Yes   \n",
              "2               No              No             No  ...               No   \n",
              "3               No              No             No  ...               No   \n",
              "4              Yes     Fiber optic             No  ...              Yes   \n",
              "...            ...             ...            ...  ...              ...   \n",
              "5026            No     Fiber optic             No  ...               No   \n",
              "5027           Yes     Fiber optic             No  ...               No   \n",
              "5028           Yes     Fiber optic             No  ...               No   \n",
              "5029            No             DSL             No  ...               No   \n",
              "5030           Yes              No             No  ...               No   \n",
              "\n",
              "     TechSupport StreamingTV StreamingMovies        Contract PaperlessBilling  \\\n",
              "0             No          No              No  Month-to-month               No   \n",
              "1            Yes         Yes             Yes  Month-to-month              Yes   \n",
              "2             No          No              No        Two year               No   \n",
              "3             No          No              No  Month-to-month              Yes   \n",
              "4             No          No              No  Month-to-month              Yes   \n",
              "...          ...         ...             ...             ...              ...   \n",
              "5026          No          No             Yes  Month-to-month              Yes   \n",
              "5027          No          No              No  Month-to-month              Yes   \n",
              "5028         Yes         Yes             Yes  Month-to-month              Yes   \n",
              "5029         Yes          No              No        One year               No   \n",
              "5030          No          No              No        Two year              Yes   \n",
              "\n",
              "                  PaymentMethod MonthlyCharges  TotalCharges  Target  \n",
              "0                  Mailed check          44.75        148.05       0  \n",
              "1     Bank transfer (automatic)         106.15       4512.70       1  \n",
              "2       Credit card (automatic)          19.75        856.50       0  \n",
              "3                  Mailed check          20.05        470.20       0  \n",
              "4                  Mailed check          79.65       1928.70       0  \n",
              "...                         ...            ...           ...     ...  \n",
              "5026  Bank transfer (automatic)          80.90       1152.80       0  \n",
              "5027           Electronic check          74.90        541.15       1  \n",
              "5028    Credit card (automatic)         102.70       5138.10       0  \n",
              "5029    Credit card (automatic)          29.45       1983.15       0  \n",
              "5030  Bank transfer (automatic)          24.05       1709.15       0  \n",
              "\n",
              "[5031 rows x 21 columns]"
            ]
          },
          "execution_count": 55,
          "metadata": {},
          "output_type": "execute_result"
        }
      ],
      "source": [
        "corr_purpose = pd.concat([X_train.reset_index(), pd.DataFrame(data= y_train, columns=['Target'])], axis=1)\n",
        "corr_purpose"
      ]
    },
    {
      "cell_type": "markdown",
      "metadata": {},
      "source": [
        "* numerical columns to Target "
      ]
    },
    {
      "cell_type": "code",
      "execution_count": 56,
      "metadata": {},
      "outputs": [],
      "source": [
        "num = ['SeniorCitizen', 'tenure', 'MonthlyCharges', 'TotalCharges', 'Target']"
      ]
    },
    {
      "cell_type": "code",
      "execution_count": 57,
      "metadata": {},
      "outputs": [
        {
          "data": {
            "image/png": "[encoded data removed]",
            "text/plain": [
              "<Figure size 1440x504 with 2 Axes>"
            ]
          },
          "metadata": {
            "needs_background": "light"
          },
          "output_type": "display_data"
        }
      ],
      "source": [
        "# plot the correlation heatmap\n",
        "plt.figure(figsize=(20, 7))\n",
        "mask=np.triu(np.ones_like(corr_purpose[num].corr()))\n",
        "sns.heatmap(corr_purpose[num].corr(), annot=True, mask=mask ,cmap='Greens')\n",
        "plt.show()"
      ]
    },
    {
      "cell_type": "code",
      "execution_count": 58,
      "metadata": {},
      "outputs": [],
      "source": [
        "cat_col = corr_purpose[['gender','Partner',\n",
        " 'Dependents',\n",
        " 'PhoneService',\n",
        " 'MultipleLines',\n",
        " 'InternetService',\n",
        " 'OnlineSecurity',\n",
        " 'OnlineBackup',\n",
        " 'DeviceProtection',\n",
        " 'TechSupport',\n",
        " 'StreamingTV',\n",
        " 'StreamingMovies',\n",
        " 'Contract',\n",
        " 'PaperlessBilling',\n",
        " 'PaymentMethod', 'Target']]"
      ]
    },
    {
      "cell_type": "code",
      "execution_count": 59,
      "metadata": {},
      "outputs": [],
      "source": [
        "# Feature Encoding using Label encoder\n",
        "from sklearn.preprocessing import LabelEncoder\n",
        "cat = cat_col.columns\n",
        "lab_encoder = LabelEncoder()\n",
        "\n",
        "# encoding the categorical column\n",
        "for i in cat:\n",
        "    cat_col[i] = lab_encoder.fit_transform(cat_col[i])"
      ]
    },
    {
      "cell_type": "code",
      "execution_count": 60,
      "metadata": {},
      "outputs": [
        {
          "data": {
            "image/png": "[encoded data removed]",
            "text/plain": [
              "<Figure size 1440x504 with 2 Axes>"
            ]
          },
          "metadata": {
            "needs_background": "light"
          },
          "output_type": "display_data"
        }
      ],
      "source": [
        "# plot the correlation heatmap\n",
        "plt.figure(figsize=(20, 7))\n",
        "mask=np.triu(np.ones_like(cat_col.corr()))\n",
        "sns.heatmap(cat_col.corr(), annot=True, mask=mask ,cmap='Greens')\n",
        "plt.show()"
      ]
    },
    {
      "cell_type": "code",
      "execution_count": 61,
      "metadata": {},
      "outputs": [],
      "source": [
        "# Dropping columns with low correlation to the target\n",
        "\n",
        "X_train = X_train.drop(['gender','PhoneService','MultipleLines', 'OnlineBackup','DeviceProtection','InternetService','StreamingTV','StreamingMovies'], axis=1)\n",
        "X_test = X_test.drop(['gender','PhoneService','MultipleLines', 'OnlineBackup','DeviceProtection','InternetService','StreamingTV','StreamingMovies'], axis=1)\n",
        "X_val = X_val.drop(['gender','PhoneService','MultipleLines', 'OnlineBackup','DeviceProtection','InternetService','StreamingTV','StreamingMovies'], axis=1)"
      ]
    },
    {
      "cell_type": "markdown",
      "metadata": {},
      "source": [
        "---"
      ]
    },
    {
      "cell_type": "markdown",
      "metadata": {
        "id": "N5TTpAjrXwDt"
      },
      "source": [
        "### 6. Split between numerical and categorical columns\n"
      ]
    },
    {
      "cell_type": "code",
      "execution_count": 62,
      "metadata": {},
      "outputs": [
        {
          "name": "stdout",
          "output_type": "stream",
          "text": [
            "Numerical Columns :  ['SeniorCitizen', 'tenure', 'MonthlyCharges', 'TotalCharges']\n",
            "------------------------------------------------------------------------------------\n",
            "Categorical Columns :  ['Partner', 'Dependents', 'OnlineSecurity', 'TechSupport', 'Contract', 'PaperlessBilling', 'PaymentMethod']\n"
          ]
        }
      ],
      "source": [
        "# Get Numerical Columns and Categorical Columns\n",
        "\n",
        "num_columns = X_train.select_dtypes(include=np.number).columns.tolist()\n",
        "cat_columns = X_train.select_dtypes(include=['object']).columns.tolist()\n",
        "\n",
        "print('Numerical Columns : ', num_columns)\n",
        "print('------------------------------------------------------------------------------------')\n",
        "print('Categorical Columns : ', cat_columns)"
      ]
    },
    {
      "cell_type": "code",
      "execution_count": 63,
      "metadata": {},
      "outputs": [],
      "source": [
        "# Split Train-Set and Test-Set based on Column Type (Numerical/Categorical)\n",
        "\n",
        "X_train_num = X_train[num_columns]\n",
        "X_train_cat = X_train[cat_columns]\n",
        "\n",
        "X_test_num = X_test[num_columns]\n",
        "X_test_cat = X_test[cat_columns]\n",
        "\n",
        "X_val_num = X_val[num_columns]\n",
        "X_val_cat = X_val[cat_columns]"
      ]
    },
    {
      "cell_type": "markdown",
      "metadata": {
        "id": "t15ve41sZULO"
      },
      "source": [
        "### 7. Feature Scaling"
      ]
    },
    {
      "cell_type": "code",
      "execution_count": 64,
      "metadata": {},
      "outputs": [
        {
          "data": {
            "text/html": [
              "<div>\n",
              "<style scoped>\n",
              "    .dataframe tbody tr th:only-of-type {\n",
              "        vertical-align: middle;\n",
              "    }\n",
              "\n",
              "    .dataframe tbody tr th {\n",
              "        vertical-align: top;\n",
              "    }\n",
              "\n",
              "    .dataframe thead th {\n",
              "        text-align: right;\n",
              "    }\n",
              "</style>\n",
              "<table border=\"1\" class=\"dataframe\">\n",
              "  <thead>\n",
              "    <tr style=\"text-align: right;\">\n",
              "      <th></th>\n",
              "      <th>SeniorCitizen</th>\n",
              "      <th>tenure</th>\n",
              "      <th>MonthlyCharges</th>\n",
              "      <th>TotalCharges</th>\n",
              "    </tr>\n",
              "  </thead>\n",
              "  <tbody>\n",
              "    <tr>\n",
              "      <th>5415</th>\n",
              "      <td>0</td>\n",
              "      <td>3</td>\n",
              "      <td>44.75</td>\n",
              "      <td>148.05</td>\n",
              "    </tr>\n",
              "    <tr>\n",
              "      <th>3454</th>\n",
              "      <td>0</td>\n",
              "      <td>42</td>\n",
              "      <td>106.15</td>\n",
              "      <td>4512.70</td>\n",
              "    </tr>\n",
              "    <tr>\n",
              "      <th>4218</th>\n",
              "      <td>0</td>\n",
              "      <td>46</td>\n",
              "      <td>19.75</td>\n",
              "      <td>856.50</td>\n",
              "    </tr>\n",
              "    <tr>\n",
              "      <th>5790</th>\n",
              "      <td>0</td>\n",
              "      <td>22</td>\n",
              "      <td>20.05</td>\n",
              "      <td>470.20</td>\n",
              "    </tr>\n",
              "    <tr>\n",
              "      <th>3611</th>\n",
              "      <td>0</td>\n",
              "      <td>24</td>\n",
              "      <td>79.65</td>\n",
              "      <td>1928.70</td>\n",
              "    </tr>\n",
              "    <tr>\n",
              "      <th>...</th>\n",
              "      <td>...</td>\n",
              "      <td>...</td>\n",
              "      <td>...</td>\n",
              "      <td>...</td>\n",
              "    </tr>\n",
              "    <tr>\n",
              "      <th>154</th>\n",
              "      <td>0</td>\n",
              "      <td>14</td>\n",
              "      <td>80.90</td>\n",
              "      <td>1152.80</td>\n",
              "    </tr>\n",
              "    <tr>\n",
              "      <th>4456</th>\n",
              "      <td>0</td>\n",
              "      <td>7</td>\n",
              "      <td>74.90</td>\n",
              "      <td>541.15</td>\n",
              "    </tr>\n",
              "    <tr>\n",
              "      <th>323</th>\n",
              "      <td>0</td>\n",
              "      <td>52</td>\n",
              "      <td>102.70</td>\n",
              "      <td>5138.10</td>\n",
              "    </tr>\n",
              "    <tr>\n",
              "      <th>1630</th>\n",
              "      <td>0</td>\n",
              "      <td>66</td>\n",
              "      <td>29.45</td>\n",
              "      <td>1983.15</td>\n",
              "    </tr>\n",
              "    <tr>\n",
              "      <th>4606</th>\n",
              "      <td>0</td>\n",
              "      <td>72</td>\n",
              "      <td>24.05</td>\n",
              "      <td>1709.15</td>\n",
              "    </tr>\n",
              "  </tbody>\n",
              "</table>\n",
              "<p>5031 rows × 4 columns</p>\n",
              "</div>"
            ],
            "text/plain": [
              "      SeniorCitizen  tenure  MonthlyCharges  TotalCharges\n",
              "5415              0       3           44.75        148.05\n",
              "3454              0      42          106.15       4512.70\n",
              "4218              0      46           19.75        856.50\n",
              "5790              0      22           20.05        470.20\n",
              "3611              0      24           79.65       1928.70\n",
              "...             ...     ...             ...           ...\n",
              "154               0      14           80.90       1152.80\n",
              "4456              0       7           74.90        541.15\n",
              "323               0      52          102.70       5138.10\n",
              "1630              0      66           29.45       1983.15\n",
              "4606              0      72           24.05       1709.15\n",
              "\n",
              "[5031 rows x 4 columns]"
            ]
          },
          "execution_count": 64,
          "metadata": {},
          "output_type": "execute_result"
        }
      ],
      "source": [
        "# Display X_train_num\n",
        "\n",
        "X_train_num"
      ]
    },
    {
      "cell_type": "code",
      "execution_count": 65,
      "metadata": {},
      "outputs": [],
      "source": [
        "from sklearn.preprocessing import StandardScaler\n",
        "\n",
        "scaler = StandardScaler()\n",
        "scaler.fit(X_train_num)\n",
        "\n",
        "X_train_num = scaler.transform(X_train_num)\n",
        "X_test_num = scaler.transform(X_test_num)\n",
        "X_val_num = scaler.transform(X_val_num)"
      ]
    },
    {
      "cell_type": "code",
      "execution_count": 66,
      "metadata": {},
      "outputs": [
        {
          "data": {
            "text/plain": [
              "array([[-0.44769352, -1.20129077, -0.68644312, -0.94816298],\n",
              "       [-0.44769352,  0.39226252,  1.36887612,  0.98365238],\n",
              "       [-0.44769352,  0.55570388, -1.52329949, -0.63459956],\n",
              "       ...,\n",
              "       [-0.44769352,  0.80086593,  1.25338994,  1.26045746],\n",
              "       [-0.44769352,  1.3729107 , -1.19859922, -0.13593878],\n",
              "       [-0.44769352,  1.61807274, -1.3793602 , -0.25721252]])"
            ]
          },
          "execution_count": 66,
          "metadata": {},
          "output_type": "execute_result"
        }
      ],
      "source": [
        "X_train_num"
      ]
    },
    {
      "cell_type": "code",
      "execution_count": 67,
      "metadata": {},
      "outputs": [
        {
          "data": {
            "text/plain": [
              "array([[ 2.23367091,  0.31054184,  0.880152  ,  0.61226263],\n",
              "       [-0.44769352,  0.76000559,  0.60231569,  0.79631986],\n",
              "       [-0.44769352, -0.87440804, -1.19357808, -0.86035018],\n",
              "       ...,\n",
              "       [ 2.23367091,  0.22882116, -1.50823608, -0.68797771],\n",
              "       [-0.44769352,  1.29119001, -1.36764421, -0.30499171],\n",
              "       [-0.44769352, -1.24215111, -1.53166805, -1.00149687]])"
            ]
          },
          "execution_count": 67,
          "metadata": {},
          "output_type": "execute_result"
        }
      ],
      "source": [
        "X_val_num"
      ]
    },
    {
      "cell_type": "markdown",
      "metadata": {
        "id": "rOQSfNZdbpZf"
      },
      "source": [
        "### 8. Feature Encoding"
      ]
    },
    {
      "cell_type": "code",
      "execution_count": 68,
      "metadata": {},
      "outputs": [
        {
          "data": {
            "text/html": [
              "<div>\n",
              "<style scoped>\n",
              "    .dataframe tbody tr th:only-of-type {\n",
              "        vertical-align: middle;\n",
              "    }\n",
              "\n",
              "    .dataframe tbody tr th {\n",
              "        vertical-align: top;\n",
              "    }\n",
              "\n",
              "    .dataframe thead th {\n",
              "        text-align: right;\n",
              "    }\n",
              "</style>\n",
              "<table border=\"1\" class=\"dataframe\">\n",
              "  <thead>\n",
              "    <tr style=\"text-align: right;\">\n",
              "      <th></th>\n",
              "      <th>Partner</th>\n",
              "      <th>Dependents</th>\n",
              "      <th>OnlineSecurity</th>\n",
              "      <th>TechSupport</th>\n",
              "      <th>Contract</th>\n",
              "      <th>PaperlessBilling</th>\n",
              "      <th>PaymentMethod</th>\n",
              "    </tr>\n",
              "  </thead>\n",
              "  <tbody>\n",
              "    <tr>\n",
              "      <th>5415</th>\n",
              "      <td>No</td>\n",
              "      <td>No</td>\n",
              "      <td>No</td>\n",
              "      <td>No</td>\n",
              "      <td>Month-to-month</td>\n",
              "      <td>No</td>\n",
              "      <td>Mailed check</td>\n",
              "    </tr>\n",
              "    <tr>\n",
              "      <th>3454</th>\n",
              "      <td>Yes</td>\n",
              "      <td>No</td>\n",
              "      <td>No</td>\n",
              "      <td>Yes</td>\n",
              "      <td>Month-to-month</td>\n",
              "      <td>Yes</td>\n",
              "      <td>Bank transfer (automatic)</td>\n",
              "    </tr>\n",
              "    <tr>\n",
              "      <th>4218</th>\n",
              "      <td>Yes</td>\n",
              "      <td>Yes</td>\n",
              "      <td>No</td>\n",
              "      <td>No</td>\n",
              "      <td>Two year</td>\n",
              "      <td>No</td>\n",
              "      <td>Credit card (automatic)</td>\n",
              "    </tr>\n",
              "    <tr>\n",
              "      <th>5790</th>\n",
              "      <td>No</td>\n",
              "      <td>No</td>\n",
              "      <td>No</td>\n",
              "      <td>No</td>\n",
              "      <td>Month-to-month</td>\n",
              "      <td>Yes</td>\n",
              "      <td>Mailed check</td>\n",
              "    </tr>\n",
              "    <tr>\n",
              "      <th>3611</th>\n",
              "      <td>Yes</td>\n",
              "      <td>No</td>\n",
              "      <td>No</td>\n",
              "      <td>No</td>\n",
              "      <td>Month-to-month</td>\n",
              "      <td>Yes</td>\n",
              "      <td>Mailed check</td>\n",
              "    </tr>\n",
              "    <tr>\n",
              "      <th>...</th>\n",
              "      <td>...</td>\n",
              "      <td>...</td>\n",
              "      <td>...</td>\n",
              "      <td>...</td>\n",
              "      <td>...</td>\n",
              "      <td>...</td>\n",
              "      <td>...</td>\n",
              "    </tr>\n",
              "    <tr>\n",
              "      <th>154</th>\n",
              "      <td>Yes</td>\n",
              "      <td>Yes</td>\n",
              "      <td>No</td>\n",
              "      <td>No</td>\n",
              "      <td>Month-to-month</td>\n",
              "      <td>Yes</td>\n",
              "      <td>Bank transfer (automatic)</td>\n",
              "    </tr>\n",
              "    <tr>\n",
              "      <th>4456</th>\n",
              "      <td>No</td>\n",
              "      <td>No</td>\n",
              "      <td>No</td>\n",
              "      <td>No</td>\n",
              "      <td>Month-to-month</td>\n",
              "      <td>Yes</td>\n",
              "      <td>Electronic check</td>\n",
              "    </tr>\n",
              "    <tr>\n",
              "      <th>323</th>\n",
              "      <td>Yes</td>\n",
              "      <td>No</td>\n",
              "      <td>No</td>\n",
              "      <td>Yes</td>\n",
              "      <td>Month-to-month</td>\n",
              "      <td>Yes</td>\n",
              "      <td>Credit card (automatic)</td>\n",
              "    </tr>\n",
              "    <tr>\n",
              "      <th>1630</th>\n",
              "      <td>No</td>\n",
              "      <td>No</td>\n",
              "      <td>No</td>\n",
              "      <td>Yes</td>\n",
              "      <td>One year</td>\n",
              "      <td>No</td>\n",
              "      <td>Credit card (automatic)</td>\n",
              "    </tr>\n",
              "    <tr>\n",
              "      <th>4606</th>\n",
              "      <td>Yes</td>\n",
              "      <td>Yes</td>\n",
              "      <td>No</td>\n",
              "      <td>No</td>\n",
              "      <td>Two year</td>\n",
              "      <td>Yes</td>\n",
              "      <td>Bank transfer (automatic)</td>\n",
              "    </tr>\n",
              "  </tbody>\n",
              "</table>\n",
              "<p>5031 rows × 7 columns</p>\n",
              "</div>"
            ],
            "text/plain": [
              "     Partner Dependents OnlineSecurity TechSupport        Contract  \\\n",
              "5415      No         No             No          No  Month-to-month   \n",
              "3454     Yes         No             No         Yes  Month-to-month   \n",
              "4218     Yes        Yes             No          No        Two year   \n",
              "5790      No         No             No          No  Month-to-month   \n",
              "3611     Yes         No             No          No  Month-to-month   \n",
              "...      ...        ...            ...         ...             ...   \n",
              "154      Yes        Yes             No          No  Month-to-month   \n",
              "4456      No         No             No          No  Month-to-month   \n",
              "323      Yes         No             No         Yes  Month-to-month   \n",
              "1630      No         No             No         Yes        One year   \n",
              "4606     Yes        Yes             No          No        Two year   \n",
              "\n",
              "     PaperlessBilling              PaymentMethod  \n",
              "5415               No               Mailed check  \n",
              "3454              Yes  Bank transfer (automatic)  \n",
              "4218               No    Credit card (automatic)  \n",
              "5790              Yes               Mailed check  \n",
              "3611              Yes               Mailed check  \n",
              "...               ...                        ...  \n",
              "154               Yes  Bank transfer (automatic)  \n",
              "4456              Yes           Electronic check  \n",
              "323               Yes    Credit card (automatic)  \n",
              "1630               No    Credit card (automatic)  \n",
              "4606              Yes  Bank transfer (automatic)  \n",
              "\n",
              "[5031 rows x 7 columns]"
            ]
          },
          "execution_count": 68,
          "metadata": {},
          "output_type": "execute_result"
        }
      ],
      "source": [
        "# Display X_train_cat\n",
        "\n",
        "X_train_cat"
      ]
    },
    {
      "cell_type": "code",
      "execution_count": 69,
      "metadata": {},
      "outputs": [],
      "source": [
        "# Feature Encoding using One Hot Encoding\n",
        "from sklearn.preprocessing import OneHotEncoder\n",
        "\n",
        "encoder =  OneHotEncoder(sparse=False)\n",
        "encoder.fit(X_train_cat)\n",
        "\n",
        "X_train_cat_enc = encoder.transform(X_train_cat)\n",
        "X_test_cat_enc = encoder.transform(X_test_cat)\n",
        "X_val_cat_enc = encoder.transform(X_val_cat)"
      ]
    },
    {
      "cell_type": "code",
      "execution_count": 70,
      "metadata": {},
      "outputs": [
        {
          "data": {
            "text/plain": [
              "array([[1., 0., 1., ..., 0., 0., 1.],\n",
              "       [0., 1., 1., ..., 0., 0., 0.],\n",
              "       [0., 1., 0., ..., 1., 0., 0.],\n",
              "       ...,\n",
              "       [0., 1., 1., ..., 1., 0., 0.],\n",
              "       [1., 0., 1., ..., 1., 0., 0.],\n",
              "       [0., 1., 0., ..., 0., 0., 0.]])"
            ]
          },
          "execution_count": 70,
          "metadata": {},
          "output_type": "execute_result"
        }
      ],
      "source": [
        "X_train_cat_enc"
      ]
    },
    {
      "cell_type": "code",
      "execution_count": 71,
      "metadata": {},
      "outputs": [
        {
          "data": {
            "text/plain": [
              "['Partner_No',\n",
              " 'Partner_Yes',\n",
              " 'Dependents_No',\n",
              " 'Dependents_Yes',\n",
              " 'OnlineSecurity_No',\n",
              " 'OnlineSecurity_Yes',\n",
              " 'TechSupport_No',\n",
              " 'TechSupport_Yes',\n",
              " 'Contract_Month-to-month',\n",
              " 'Contract_One year',\n",
              " 'Contract_Two year',\n",
              " 'PaperlessBilling_No',\n",
              " 'PaperlessBilling_Yes',\n",
              " 'PaymentMethod_Bank transfer (automatic)',\n",
              " 'PaymentMethod_Credit card (automatic)',\n",
              " 'PaymentMethod_Electronic check',\n",
              " 'PaymentMethod_Mailed check']"
            ]
          },
          "execution_count": 71,
          "metadata": {},
          "output_type": "execute_result"
        }
      ],
      "source": [
        "# make columns name\n",
        "test = encoder.get_feature_names_out(X_train_cat.columns.tolist())\n",
        "column_cat = test.tolist()\n",
        "column_cat"
      ]
    },
    {
      "cell_type": "markdown",
      "metadata": {
        "id": "C0PP-0spdeee"
      },
      "source": [
        "### 9. Concat between Numerical Columns and Categorical Columns"
      ]
    },
    {
      "cell_type": "code",
      "execution_count": 72,
      "metadata": {},
      "outputs": [
        {
          "data": {
            "text/plain": [
              "array([[-0.44769352, -1.20129077, -0.68644312, ...,  0.        ,\n",
              "         0.        ,  1.        ],\n",
              "       [-0.44769352,  0.39226252,  1.36887612, ...,  0.        ,\n",
              "         0.        ,  0.        ],\n",
              "       [-0.44769352,  0.55570388, -1.52329949, ...,  1.        ,\n",
              "         0.        ,  0.        ],\n",
              "       ...,\n",
              "       [-0.44769352,  0.80086593,  1.25338994, ...,  1.        ,\n",
              "         0.        ,  0.        ],\n",
              "       [-0.44769352,  1.3729107 , -1.19859922, ...,  1.        ,\n",
              "         0.        ,  0.        ],\n",
              "       [-0.44769352,  1.61807274, -1.3793602 , ...,  0.        ,\n",
              "         0.        ,  0.        ]])"
            ]
          },
          "execution_count": 72,
          "metadata": {},
          "output_type": "execute_result"
        }
      ],
      "source": [
        "# Merge Numerical Features with Categorical Column\n",
        "\n",
        "X_train_final = np.concatenate([X_train_num, X_train_cat_enc], axis=1)          # X_train final in array form\n",
        "X_test_final = np.concatenate([X_test_num, X_test_cat_enc], axis=1)\n",
        "X_val_final = np.concatenate([X_val_num, X_val_cat_enc], axis=1)\n",
        "X_train_final"
      ]
    },
    {
      "cell_type": "code",
      "execution_count": 73,
      "metadata": {},
      "outputs": [],
      "source": [
        "# Or we can turn it into dataframes\n",
        "\n",
        "X_train_final_df = pd.DataFrame(X_train_final, columns=[num_columns + column_cat])\n",
        "X_test_final_df = pd.DataFrame(X_test_final, columns=[num_columns + column_cat])\n",
        "X_val_final_df = pd.DataFrame(X_val_final, columns=[num_columns + column_cat])"
      ]
    },
    {
      "cell_type": "code",
      "execution_count": 74,
      "metadata": {},
      "outputs": [
        {
          "data": {
            "text/html": [
              "<div>\n",
              "<style scoped>\n",
              "    .dataframe tbody tr th:only-of-type {\n",
              "        vertical-align: middle;\n",
              "    }\n",
              "\n",
              "    .dataframe tbody tr th {\n",
              "        vertical-align: top;\n",
              "    }\n",
              "\n",
              "    .dataframe thead tr th {\n",
              "        text-align: left;\n",
              "    }\n",
              "</style>\n",
              "<table border=\"1\" class=\"dataframe\">\n",
              "  <thead>\n",
              "    <tr>\n",
              "      <th></th>\n",
              "      <th>SeniorCitizen</th>\n",
              "      <th>tenure</th>\n",
              "      <th>MonthlyCharges</th>\n",
              "      <th>TotalCharges</th>\n",
              "      <th>Partner_No</th>\n",
              "      <th>Partner_Yes</th>\n",
              "      <th>Dependents_No</th>\n",
              "      <th>Dependents_Yes</th>\n",
              "      <th>OnlineSecurity_No</th>\n",
              "      <th>OnlineSecurity_Yes</th>\n",
              "      <th>...</th>\n",
              "      <th>TechSupport_Yes</th>\n",
              "      <th>Contract_Month-to-month</th>\n",
              "      <th>Contract_One year</th>\n",
              "      <th>Contract_Two year</th>\n",
              "      <th>PaperlessBilling_No</th>\n",
              "      <th>PaperlessBilling_Yes</th>\n",
              "      <th>PaymentMethod_Bank transfer (automatic)</th>\n",
              "      <th>PaymentMethod_Credit card (automatic)</th>\n",
              "      <th>PaymentMethod_Electronic check</th>\n",
              "      <th>PaymentMethod_Mailed check</th>\n",
              "    </tr>\n",
              "  </thead>\n",
              "  <tbody>\n",
              "    <tr>\n",
              "      <th>0</th>\n",
              "      <td>-0.447694</td>\n",
              "      <td>-1.201291</td>\n",
              "      <td>-0.686443</td>\n",
              "      <td>-0.948163</td>\n",
              "      <td>1.0</td>\n",
              "      <td>0.0</td>\n",
              "      <td>1.0</td>\n",
              "      <td>0.0</td>\n",
              "      <td>1.0</td>\n",
              "      <td>0.0</td>\n",
              "      <td>...</td>\n",
              "      <td>0.0</td>\n",
              "      <td>1.0</td>\n",
              "      <td>0.0</td>\n",
              "      <td>0.0</td>\n",
              "      <td>1.0</td>\n",
              "      <td>0.0</td>\n",
              "      <td>0.0</td>\n",
              "      <td>0.0</td>\n",
              "      <td>0.0</td>\n",
              "      <td>1.0</td>\n",
              "    </tr>\n",
              "    <tr>\n",
              "      <th>1</th>\n",
              "      <td>-0.447694</td>\n",
              "      <td>0.392263</td>\n",
              "      <td>1.368876</td>\n",
              "      <td>0.983652</td>\n",
              "      <td>0.0</td>\n",
              "      <td>1.0</td>\n",
              "      <td>1.0</td>\n",
              "      <td>0.0</td>\n",
              "      <td>1.0</td>\n",
              "      <td>0.0</td>\n",
              "      <td>...</td>\n",
              "      <td>1.0</td>\n",
              "      <td>1.0</td>\n",
              "      <td>0.0</td>\n",
              "      <td>0.0</td>\n",
              "      <td>0.0</td>\n",
              "      <td>1.0</td>\n",
              "      <td>1.0</td>\n",
              "      <td>0.0</td>\n",
              "      <td>0.0</td>\n",
              "      <td>0.0</td>\n",
              "    </tr>\n",
              "    <tr>\n",
              "      <th>2</th>\n",
              "      <td>-0.447694</td>\n",
              "      <td>0.555704</td>\n",
              "      <td>-1.523299</td>\n",
              "      <td>-0.634600</td>\n",
              "      <td>0.0</td>\n",
              "      <td>1.0</td>\n",
              "      <td>0.0</td>\n",
              "      <td>1.0</td>\n",
              "      <td>1.0</td>\n",
              "      <td>0.0</td>\n",
              "      <td>...</td>\n",
              "      <td>0.0</td>\n",
              "      <td>0.0</td>\n",
              "      <td>0.0</td>\n",
              "      <td>1.0</td>\n",
              "      <td>1.0</td>\n",
              "      <td>0.0</td>\n",
              "      <td>0.0</td>\n",
              "      <td>1.0</td>\n",
              "      <td>0.0</td>\n",
              "      <td>0.0</td>\n",
              "    </tr>\n",
              "    <tr>\n",
              "      <th>3</th>\n",
              "      <td>-0.447694</td>\n",
              "      <td>-0.424944</td>\n",
              "      <td>-1.513257</td>\n",
              "      <td>-0.805578</td>\n",
              "      <td>1.0</td>\n",
              "      <td>0.0</td>\n",
              "      <td>1.0</td>\n",
              "      <td>0.0</td>\n",
              "      <td>1.0</td>\n",
              "      <td>0.0</td>\n",
              "      <td>...</td>\n",
              "      <td>0.0</td>\n",
              "      <td>1.0</td>\n",
              "      <td>0.0</td>\n",
              "      <td>0.0</td>\n",
              "      <td>0.0</td>\n",
              "      <td>1.0</td>\n",
              "      <td>0.0</td>\n",
              "      <td>0.0</td>\n",
              "      <td>0.0</td>\n",
              "      <td>1.0</td>\n",
              "    </tr>\n",
              "    <tr>\n",
              "      <th>4</th>\n",
              "      <td>-0.447694</td>\n",
              "      <td>-0.343224</td>\n",
              "      <td>0.481808</td>\n",
              "      <td>-0.160039</td>\n",
              "      <td>0.0</td>\n",
              "      <td>1.0</td>\n",
              "      <td>1.0</td>\n",
              "      <td>0.0</td>\n",
              "      <td>1.0</td>\n",
              "      <td>0.0</td>\n",
              "      <td>...</td>\n",
              "      <td>0.0</td>\n",
              "      <td>1.0</td>\n",
              "      <td>0.0</td>\n",
              "      <td>0.0</td>\n",
              "      <td>0.0</td>\n",
              "      <td>1.0</td>\n",
              "      <td>0.0</td>\n",
              "      <td>0.0</td>\n",
              "      <td>0.0</td>\n",
              "      <td>1.0</td>\n",
              "    </tr>\n",
              "    <tr>\n",
              "      <th>...</th>\n",
              "      <td>...</td>\n",
              "      <td>...</td>\n",
              "      <td>...</td>\n",
              "      <td>...</td>\n",
              "      <td>...</td>\n",
              "      <td>...</td>\n",
              "      <td>...</td>\n",
              "      <td>...</td>\n",
              "      <td>...</td>\n",
              "      <td>...</td>\n",
              "      <td>...</td>\n",
              "      <td>...</td>\n",
              "      <td>...</td>\n",
              "      <td>...</td>\n",
              "      <td>...</td>\n",
              "      <td>...</td>\n",
              "      <td>...</td>\n",
              "      <td>...</td>\n",
              "      <td>...</td>\n",
              "      <td>...</td>\n",
              "      <td>...</td>\n",
              "    </tr>\n",
              "    <tr>\n",
              "      <th>5026</th>\n",
              "      <td>-0.447694</td>\n",
              "      <td>-0.751827</td>\n",
              "      <td>0.523651</td>\n",
              "      <td>-0.503456</td>\n",
              "      <td>0.0</td>\n",
              "      <td>1.0</td>\n",
              "      <td>0.0</td>\n",
              "      <td>1.0</td>\n",
              "      <td>1.0</td>\n",
              "      <td>0.0</td>\n",
              "      <td>...</td>\n",
              "      <td>0.0</td>\n",
              "      <td>1.0</td>\n",
              "      <td>0.0</td>\n",
              "      <td>0.0</td>\n",
              "      <td>0.0</td>\n",
              "      <td>1.0</td>\n",
              "      <td>1.0</td>\n",
              "      <td>0.0</td>\n",
              "      <td>0.0</td>\n",
              "      <td>0.0</td>\n",
              "    </tr>\n",
              "    <tr>\n",
              "      <th>5027</th>\n",
              "      <td>-0.447694</td>\n",
              "      <td>-1.037849</td>\n",
              "      <td>0.322806</td>\n",
              "      <td>-0.774175</td>\n",
              "      <td>1.0</td>\n",
              "      <td>0.0</td>\n",
              "      <td>1.0</td>\n",
              "      <td>0.0</td>\n",
              "      <td>1.0</td>\n",
              "      <td>0.0</td>\n",
              "      <td>...</td>\n",
              "      <td>0.0</td>\n",
              "      <td>1.0</td>\n",
              "      <td>0.0</td>\n",
              "      <td>0.0</td>\n",
              "      <td>0.0</td>\n",
              "      <td>1.0</td>\n",
              "      <td>0.0</td>\n",
              "      <td>0.0</td>\n",
              "      <td>1.0</td>\n",
              "      <td>0.0</td>\n",
              "    </tr>\n",
              "    <tr>\n",
              "      <th>5028</th>\n",
              "      <td>-0.447694</td>\n",
              "      <td>0.800866</td>\n",
              "      <td>1.253390</td>\n",
              "      <td>1.260457</td>\n",
              "      <td>0.0</td>\n",
              "      <td>1.0</td>\n",
              "      <td>1.0</td>\n",
              "      <td>0.0</td>\n",
              "      <td>1.0</td>\n",
              "      <td>0.0</td>\n",
              "      <td>...</td>\n",
              "      <td>1.0</td>\n",
              "      <td>1.0</td>\n",
              "      <td>0.0</td>\n",
              "      <td>0.0</td>\n",
              "      <td>0.0</td>\n",
              "      <td>1.0</td>\n",
              "      <td>0.0</td>\n",
              "      <td>1.0</td>\n",
              "      <td>0.0</td>\n",
              "      <td>0.0</td>\n",
              "    </tr>\n",
              "    <tr>\n",
              "      <th>5029</th>\n",
              "      <td>-0.447694</td>\n",
              "      <td>1.372911</td>\n",
              "      <td>-1.198599</td>\n",
              "      <td>-0.135939</td>\n",
              "      <td>1.0</td>\n",
              "      <td>0.0</td>\n",
              "      <td>1.0</td>\n",
              "      <td>0.0</td>\n",
              "      <td>1.0</td>\n",
              "      <td>0.0</td>\n",
              "      <td>...</td>\n",
              "      <td>1.0</td>\n",
              "      <td>0.0</td>\n",
              "      <td>1.0</td>\n",
              "      <td>0.0</td>\n",
              "      <td>1.0</td>\n",
              "      <td>0.0</td>\n",
              "      <td>0.0</td>\n",
              "      <td>1.0</td>\n",
              "      <td>0.0</td>\n",
              "      <td>0.0</td>\n",
              "    </tr>\n",
              "    <tr>\n",
              "      <th>5030</th>\n",
              "      <td>-0.447694</td>\n",
              "      <td>1.618073</td>\n",
              "      <td>-1.379360</td>\n",
              "      <td>-0.257213</td>\n",
              "      <td>0.0</td>\n",
              "      <td>1.0</td>\n",
              "      <td>0.0</td>\n",
              "      <td>1.0</td>\n",
              "      <td>1.0</td>\n",
              "      <td>0.0</td>\n",
              "      <td>...</td>\n",
              "      <td>0.0</td>\n",
              "      <td>0.0</td>\n",
              "      <td>0.0</td>\n",
              "      <td>1.0</td>\n",
              "      <td>0.0</td>\n",
              "      <td>1.0</td>\n",
              "      <td>1.0</td>\n",
              "      <td>0.0</td>\n",
              "      <td>0.0</td>\n",
              "      <td>0.0</td>\n",
              "    </tr>\n",
              "  </tbody>\n",
              "</table>\n",
              "<p>5031 rows × 21 columns</p>\n",
              "</div>"
            ],
            "text/plain": [
              "     SeniorCitizen    tenure MonthlyCharges TotalCharges Partner_No  \\\n",
              "0        -0.447694 -1.201291      -0.686443    -0.948163        1.0   \n",
              "1        -0.447694  0.392263       1.368876     0.983652        0.0   \n",
              "2        -0.447694  0.555704      -1.523299    -0.634600        0.0   \n",
              "3        -0.447694 -0.424944      -1.513257    -0.805578        1.0   \n",
              "4        -0.447694 -0.343224       0.481808    -0.160039        0.0   \n",
              "...            ...       ...            ...          ...        ...   \n",
              "5026     -0.447694 -0.751827       0.523651    -0.503456        0.0   \n",
              "5027     -0.447694 -1.037849       0.322806    -0.774175        1.0   \n",
              "5028     -0.447694  0.800866       1.253390     1.260457        0.0   \n",
              "5029     -0.447694  1.372911      -1.198599    -0.135939        1.0   \n",
              "5030     -0.447694  1.618073      -1.379360    -0.257213        0.0   \n",
              "\n",
              "     Partner_Yes Dependents_No Dependents_Yes OnlineSecurity_No  \\\n",
              "0            0.0           1.0            0.0               1.0   \n",
              "1            1.0           1.0            0.0               1.0   \n",
              "2            1.0           0.0            1.0               1.0   \n",
              "3            0.0           1.0            0.0               1.0   \n",
              "4            1.0           1.0            0.0               1.0   \n",
              "...          ...           ...            ...               ...   \n",
              "5026         1.0           0.0            1.0               1.0   \n",
              "5027         0.0           1.0            0.0               1.0   \n",
              "5028         1.0           1.0            0.0               1.0   \n",
              "5029         0.0           1.0            0.0               1.0   \n",
              "5030         1.0           0.0            1.0               1.0   \n",
              "\n",
              "     OnlineSecurity_Yes  ... TechSupport_Yes Contract_Month-to-month  \\\n",
              "0                   0.0  ...             0.0                     1.0   \n",
              "1                   0.0  ...             1.0                     1.0   \n",
              "2                   0.0  ...             0.0                     0.0   \n",
              "3                   0.0  ...             0.0                     1.0   \n",
              "4                   0.0  ...             0.0                     1.0   \n",
              "...                 ...  ...             ...                     ...   \n",
              "5026                0.0  ...             0.0                     1.0   \n",
              "5027                0.0  ...             0.0                     1.0   \n",
              "5028                0.0  ...             1.0                     1.0   \n",
              "5029                0.0  ...             1.0                     0.0   \n",
              "5030                0.0  ...             0.0                     0.0   \n",
              "\n",
              "     Contract_One year Contract_Two year PaperlessBilling_No  \\\n",
              "0                  0.0               0.0                 1.0   \n",
              "1                  0.0               0.0                 0.0   \n",
              "2                  0.0               1.0                 1.0   \n",
              "3                  0.0               0.0                 0.0   \n",
              "4                  0.0               0.0                 0.0   \n",
              "...                ...               ...                 ...   \n",
              "5026               0.0               0.0                 0.0   \n",
              "5027               0.0               0.0                 0.0   \n",
              "5028               0.0               0.0                 0.0   \n",
              "5029               1.0               0.0                 1.0   \n",
              "5030               0.0               1.0                 0.0   \n",
              "\n",
              "     PaperlessBilling_Yes PaymentMethod_Bank transfer (automatic)  \\\n",
              "0                     0.0                                     0.0   \n",
              "1                     1.0                                     1.0   \n",
              "2                     0.0                                     0.0   \n",
              "3                     1.0                                     0.0   \n",
              "4                     1.0                                     0.0   \n",
              "...                   ...                                     ...   \n",
              "5026                  1.0                                     1.0   \n",
              "5027                  1.0                                     0.0   \n",
              "5028                  1.0                                     0.0   \n",
              "5029                  0.0                                     0.0   \n",
              "5030                  1.0                                     1.0   \n",
              "\n",
              "     PaymentMethod_Credit card (automatic) PaymentMethod_Electronic check  \\\n",
              "0                                      0.0                            0.0   \n",
              "1                                      0.0                            0.0   \n",
              "2                                      1.0                            0.0   \n",
              "3                                      0.0                            0.0   \n",
              "4                                      0.0                            0.0   \n",
              "...                                    ...                            ...   \n",
              "5026                                   0.0                            0.0   \n",
              "5027                                   0.0                            1.0   \n",
              "5028                                   1.0                            0.0   \n",
              "5029                                   1.0                            0.0   \n",
              "5030                                   0.0                            0.0   \n",
              "\n",
              "     PaymentMethod_Mailed check  \n",
              "0                           1.0  \n",
              "1                           0.0  \n",
              "2                           0.0  \n",
              "3                           1.0  \n",
              "4                           1.0  \n",
              "...                         ...  \n",
              "5026                        0.0  \n",
              "5027                        0.0  \n",
              "5028                        0.0  \n",
              "5029                        0.0  \n",
              "5030                        0.0  \n",
              "\n",
              "[5031 rows x 21 columns]"
            ]
          },
          "execution_count": 74,
          "metadata": {},
          "output_type": "execute_result"
        }
      ],
      "source": [
        "X_train_final_df"
      ]
    },
    {
      "cell_type": "markdown",
      "metadata": {},
      "source": [
        "Let's take a look at the final dimensions of the data:"
      ]
    },
    {
      "cell_type": "code",
      "execution_count": 75,
      "metadata": {},
      "outputs": [
        {
          "name": "stdout",
          "output_type": "stream",
          "text": [
            "X_train_final : (5031, 21)\n",
            "X_test_final : (1399, 21)\n",
            "X_val_final : (559, 21)\n"
          ]
        }
      ],
      "source": [
        "print('X_train_final :' ,X_train_final.shape)\n",
        "print('X_test_final :' ,X_test_final.shape)\n",
        "print('X_val_final :' ,X_val_final.shape)"
      ]
    },
    {
      "cell_type": "markdown",
      "metadata": {},
      "source": [
        "### 5. Handling Imbalance"
      ]
    },
    {
      "cell_type": "markdown",
      "metadata": {},
      "source": [
        "From the Target label, we know that the proportions value between **YES** and **NO** is not balanced since the value count for No value is significantly higher than Yes value. If we see the percentage as shown below,"
      ]
    },
    {
      "cell_type": "code",
      "execution_count": 76,
      "metadata": {},
      "outputs": [
        {
          "name": "stdout",
          "output_type": "stream",
          "text": [
            "Percentage of each value in column Target :\n",
            "----------------------------------------------\n",
            "Yes[1] percentage : 26.537 %\n",
            "No[0] percentage : 73.463 %\n"
          ]
        }
      ],
      "source": [
        "print('Percentage of each value in column Target :')\n",
        "print('----------------------------------------------')\n",
        "print('Yes[1] percentage :', round((df['Churn'].value_counts()[1])/(df['Churn'].value_counts()[0] + df['Churn'].value_counts()[1]) * 100,3), '%')\n",
        "print('No[0] percentage :', round((df['Churn'].value_counts()[0])/(df['Churn'].value_counts()[0] + df['Churn'].value_counts()[1]) * 100,3), '%')"
      ]
    },
    {
      "cell_type": "markdown",
      "metadata": {},
      "source": [
        "From the result above, considering the Yes value percentage from the dataset is at around 26.537 %, we can classify this case as 'MILD DEGREE of imbalanced'. Since this is not an extreme case of imbalanced, we can choose whether we want to handling it or nor. However, in this case i would like to try handling it by using over-sampling method SMOTENC in the next step below."
      ]
    },
    {
      "cell_type": "markdown",
      "metadata": {},
      "source": [
        "* SMOTENC"
      ]
    },
    {
      "cell_type": "code",
      "execution_count": 77,
      "metadata": {},
      "outputs": [],
      "source": [
        "# SMOTE-NC\n",
        "\n",
        "from imblearn.over_sampling import SMOTENC\n",
        "\n",
        "smotenc = SMOTENC([4, 5, 6, 7, 8, 9, 10, 11, 12, 13, 14, 15, 16, 17, 18, 19, 20], random_state = 42)\n",
        "X_train_final_df, y_train = smotenc.fit_resample(X_train_final_df, y_train)\n"
      ]
    },
    {
      "cell_type": "markdown",
      "metadata": {},
      "source": [
        "Let's see what is the result from using SMOTE NC:"
      ]
    },
    {
      "cell_type": "code",
      "execution_count": 78,
      "metadata": {},
      "outputs": [
        {
          "name": "stdout",
          "output_type": "stream",
          "text": [
            "SMOTENC Oversampling method\n",
            "-----------------------------\n",
            "Yes value : 3695\n",
            "No value : 3695\n"
          ]
        }
      ],
      "source": [
        "count = (y_train == 0).sum()\n",
        "print('SMOTENC Oversampling method')\n",
        "print('-----------------------------')\n",
        "print('Yes value :', (y_train == 1).sum())\n",
        "print('No value :', (y_train == 0).sum())\n"
      ]
    },
    {
      "cell_type": "markdown",
      "metadata": {},
      "source": [
        "We can see that the new dimension of each dataset is :"
      ]
    },
    {
      "cell_type": "code",
      "execution_count": 79,
      "metadata": {},
      "outputs": [
        {
          "name": "stdout",
          "output_type": "stream",
          "text": [
            "X_train_final_df : (7390, 21)\n",
            "X_test_final_df : (1399, 21)\n",
            "X_val_final_df : (559, 21)\n"
          ]
        }
      ],
      "source": [
        "print('X_train_final_df :' , X_train_final_df.shape)\n",
        "print('X_test_final_df :' , X_test_final_df.shape)\n",
        "print('X_val_final_df :' , X_val_final_df.shape)"
      ]
    },
    {
      "cell_type": "markdown",
      "metadata": {},
      "source": [
        "`Now that the column target Churn is balanced by using oversampling SMOTENC method.`"
      ]
    },
    {
      "cell_type": "markdown",
      "metadata": {
        "id": "J-bRMz1teacx"
      },
      "source": [
        "---\n",
        "## 6 - Model Definition : ANN"
      ]
    },
    {
      "cell_type": "code",
      "execution_count": 80,
      "metadata": {},
      "outputs": [],
      "source": [
        "# Sequential API\n",
        "import tensorflow as tf\n",
        "from tensorflow.keras.models import Sequential, Model\n",
        "from tensorflow.keras.layers import Input, Dense, Dropout"
      ]
    },
    {
      "cell_type": "markdown",
      "metadata": {},
      "source": [
        "In Defining the model for Neural Network we have to determine the model architecture first. The architecture in this case can be define as the structure and the function of the neural network that consists of connections between one neuron to another. There three main components in neural network, which are :\n",
        "\n",
        "* Input layer : We in put how many set of Features from the dataset.\n",
        "* Hidden layer : an intermediate layers that do all the computational and extract the features from the dataset.\n",
        "* Output layer : the extracted features by hidden layer then took by Output layer as an input then predict the final outcome based on model's learning with the help of activation function such as 'sigmoid' in this case."
      ]
    },
    {
      "cell_type": "markdown",
      "metadata": {},
      "source": [
        "source : \n",
        "- https://www.investopedia.com/terms/n/neuralnetwork.asp\n",
        "- https://www.v7labs.com/blog/neural-network-architectures-guide"
      ]
    },
    {
      "cell_type": "markdown",
      "metadata": {},
      "source": [
        "### 1. Base Model"
      ]
    },
    {
      "cell_type": "markdown",
      "metadata": {},
      "source": [
        "There are two ways to build neural network architecture(in Keras)."
      ]
    },
    {
      "cell_type": "markdown",
      "metadata": {},
      "source": [
        "- Sequential API"
      ]
    },
    {
      "cell_type": "code",
      "execution_count": 81,
      "metadata": {},
      "outputs": [],
      "source": [
        "# Squential Base Model Architecture\n",
        "model_sequential = Sequential()\n",
        "model_sequential.add(Dense(100, activation='relu', input_shape=(21,))) # HIDDEN LAYER 1\n",
        "model_sequential.add(Dense(50, activation='relu')) # HIDDEN LAYER 2\n",
        "model_sequential.add(Dense(25, activation='relu')) # HIDDEN LAYER 3\n",
        "model_sequential.add(Dense(5, activation='relu')) # HIDDEN LAYER 4\n",
        "model_sequential.add(Dense(1, activation='sigmoid')) # OUTPUT LAYER\n",
        "\n",
        "# Compile\n",
        "model_sequential.compile(loss = 'binary_crossentropy',\n",
        "              optimizer = 'adam', # Paling modern\n",
        "              metrics=['accuracy'])"
      ]
    },
    {
      "cell_type": "code",
      "execution_count": 82,
      "metadata": {},
      "outputs": [
        {
          "name": "stdout",
          "output_type": "stream",
          "text": [
            "Model: \"sequential\"\n",
            "_________________________________________________________________\n",
            " Layer (type)                Output Shape              Param #   \n",
            "=================================================================\n",
            " dense (Dense)               (None, 100)               2200      \n",
            "                                                                 \n",
            " dense_1 (Dense)             (None, 50)                5050      \n",
            "                                                                 \n",
            " dense_2 (Dense)             (None, 25)                1275      \n",
            "                                                                 \n",
            " dense_3 (Dense)             (None, 5)                 130       \n",
            "                                                                 \n",
            " dense_4 (Dense)             (None, 1)                 6         \n",
            "                                                                 \n",
            "=================================================================\n",
            "Total params: 8,661\n",
            "Trainable params: 8,661\n",
            "Non-trainable params: 0\n",
            "_________________________________________________________________\n"
          ]
        }
      ],
      "source": [
        "model_sequential.summary()"
      ]
    },
    {
      "cell_type": "code",
      "execution_count": 83,
      "metadata": {},
      "outputs": [
        {
          "name": "stdout",
          "output_type": "stream",
          "text": [
            "Epoch 1/25\n",
            "231/231 [==============================] - 3s 6ms/step - loss: 0.4921 - accuracy: 0.7698 - val_loss: 0.5372 - val_accuracy: 0.7120\n",
            "Epoch 2/25\n",
            "231/231 [==============================] - 1s 3ms/step - loss: 0.4564 - accuracy: 0.7853 - val_loss: 0.4639 - val_accuracy: 0.7800\n",
            "Epoch 3/25\n",
            "231/231 [==============================] - 1s 3ms/step - loss: 0.4485 - accuracy: 0.7889 - val_loss: 0.4759 - val_accuracy: 0.7603\n",
            "Epoch 4/25\n",
            "231/231 [==============================] - 1s 4ms/step - loss: 0.4377 - accuracy: 0.7962 - val_loss: 0.4577 - val_accuracy: 0.7746\n",
            "Epoch 5/25\n",
            "231/231 [==============================] - 1s 3ms/step - loss: 0.4335 - accuracy: 0.7986 - val_loss: 0.4631 - val_accuracy: 0.7531\n",
            "Epoch 6/25\n",
            "231/231 [==============================] - 1s 4ms/step - loss: 0.4251 - accuracy: 0.8015 - val_loss: 0.4825 - val_accuracy: 0.7513\n",
            "Epoch 7/25\n",
            "231/231 [==============================] - 1s 4ms/step - loss: 0.4186 - accuracy: 0.8069 - val_loss: 0.5245 - val_accuracy: 0.7370\n",
            "Epoch 8/25\n",
            "231/231 [==============================] - 1s 4ms/step - loss: 0.4154 - accuracy: 0.8161 - val_loss: 0.4918 - val_accuracy: 0.7227\n",
            "Epoch 9/25\n",
            "231/231 [==============================] - 1s 3ms/step - loss: 0.4106 - accuracy: 0.8177 - val_loss: 0.4953 - val_accuracy: 0.7496\n",
            "Epoch 10/25\n",
            "231/231 [==============================] - 1s 4ms/step - loss: 0.4028 - accuracy: 0.8229 - val_loss: 0.4766 - val_accuracy: 0.7764\n",
            "Epoch 11/25\n",
            "231/231 [==============================] - 1s 3ms/step - loss: 0.4018 - accuracy: 0.8189 - val_loss: 0.5024 - val_accuracy: 0.7370\n",
            "Epoch 12/25\n",
            "231/231 [==============================] - 1s 4ms/step - loss: 0.3937 - accuracy: 0.8250 - val_loss: 0.5217 - val_accuracy: 0.7299\n",
            "Epoch 13/25\n",
            "231/231 [==============================] - 1s 3ms/step - loss: 0.3894 - accuracy: 0.8271 - val_loss: 0.5109 - val_accuracy: 0.7281\n",
            "Epoch 14/25\n",
            "231/231 [==============================] - 1s 3ms/step - loss: 0.3854 - accuracy: 0.8298 - val_loss: 0.4984 - val_accuracy: 0.7549\n",
            "Epoch 15/25\n",
            "231/231 [==============================] - 1s 4ms/step - loss: 0.3808 - accuracy: 0.8313 - val_loss: 0.4856 - val_accuracy: 0.7692\n",
            "Epoch 16/25\n",
            "231/231 [==============================] - 1s 5ms/step - loss: 0.3797 - accuracy: 0.8313 - val_loss: 0.4926 - val_accuracy: 0.7442\n",
            "Epoch 17/25\n",
            "231/231 [==============================] - 1s 4ms/step - loss: 0.3717 - accuracy: 0.8353 - val_loss: 0.5709 - val_accuracy: 0.7138\n",
            "Epoch 18/25\n",
            "231/231 [==============================] - 1s 3ms/step - loss: 0.3726 - accuracy: 0.8365 - val_loss: 0.5150 - val_accuracy: 0.7424\n",
            "Epoch 19/25\n",
            "231/231 [==============================] - 1s 3ms/step - loss: 0.3703 - accuracy: 0.8371 - val_loss: 0.5184 - val_accuracy: 0.7317\n",
            "Epoch 20/25\n",
            "231/231 [==============================] - 1s 3ms/step - loss: 0.3614 - accuracy: 0.8453 - val_loss: 0.5481 - val_accuracy: 0.7299\n",
            "Epoch 21/25\n",
            "231/231 [==============================] - 1s 3ms/step - loss: 0.3590 - accuracy: 0.8413 - val_loss: 0.5619 - val_accuracy: 0.7281\n",
            "Epoch 22/25\n",
            "231/231 [==============================] - 1s 2ms/step - loss: 0.3560 - accuracy: 0.8456 - val_loss: 0.5538 - val_accuracy: 0.7174\n",
            "Epoch 23/25\n",
            "231/231 [==============================] - 1s 3ms/step - loss: 0.3504 - accuracy: 0.8464 - val_loss: 0.5666 - val_accuracy: 0.7156\n",
            "Epoch 24/25\n",
            "231/231 [==============================] - 1s 2ms/step - loss: 0.3525 - accuracy: 0.8475 - val_loss: 0.5542 - val_accuracy: 0.7335\n",
            "Epoch 25/25\n",
            "231/231 [==============================] - 1s 3ms/step - loss: 0.3476 - accuracy: 0.8491 - val_loss: 0.5464 - val_accuracy: 0.7317\n"
          ]
        }
      ],
      "source": [
        "# Train\n",
        "\n",
        "hist_sequential = model_sequential.fit(X_train_final_df, y_train, epochs=25, validation_data=(X_val_final_df, y_val))"
      ]
    },
    {
      "cell_type": "code",
      "execution_count": 84,
      "metadata": {},
      "outputs": [
        {
          "data": {
            "image/png": "[encoded data removed]",
            "text/plain": [
              "<Figure size 1440x432 with 2 Axes>"
            ]
          },
          "metadata": {
            "needs_background": "light"
          },
          "output_type": "display_data"
        }
      ],
      "source": [
        "# Plot Sequential API result\n",
        "\n",
        "fig,ax=plt.subplots(ncols=2,figsize=(20,6))\n",
        "epochs=len(hist_sequential.history['accuracy'])\n",
        "\n",
        "ax[0].plot(range(1,epochs+1),hist_sequential.history['accuracy'], label='Training')\n",
        "ax[0].plot(range(1,epochs+1),hist_sequential.history['val_accuracy'], label='Validation')\n",
        "ax[0].set_title('\\nAccuracy\\n', fontsize=17)\n",
        "ax[0].set_xlabel('Epoch')\n",
        "ax[0].legend(loc = 'lower right')\n",
        "\n",
        "ax[1].plot(range(1,epochs+1),hist_sequential.history['loss'],label='Training')\n",
        "ax[1].plot(range(1,epochs+1),hist_sequential.history['val_loss'],label='Validation')\n",
        "ax[1].set_title('\\nLoss\\n', fontsize=17)\n",
        "ax[1].set_xlabel('Epoch')\n",
        "ax[1].legend(loc = 'upper right')\n",
        "plt.show()"
      ]
    },
    {
      "cell_type": "markdown",
      "metadata": {},
      "source": [
        "- Functional API"
      ]
    },
    {
      "cell_type": "code",
      "execution_count": 85,
      "metadata": {},
      "outputs": [],
      "source": [
        "# Functional API Base Model Architecture\n",
        "data_in = Input(shape = (21,))\n",
        "hidden_1 = Dense(100, activation='relu')(data_in)\n",
        "hidden_2 = Dense(50, activation='relu')(hidden_1)\n",
        "hidden_3 = Dense(25, activation='relu')(hidden_2)\n",
        "hidden_4 = Dense(5, activation='relu')(hidden_3)\n",
        "out = Dense(1, activation = 'sigmoid')(hidden_4)\n",
        "\n",
        "model_functional = Model(inputs=data_in, outputs=out)\n",
        "\n",
        "# Compile\n",
        "model_functional.compile(loss = 'binary_crossentropy',\n",
        "              optimizer = 'adam', # Paling modern\n",
        "              metrics=['accuracy'])"
      ]
    },
    {
      "cell_type": "code",
      "execution_count": 86,
      "metadata": {},
      "outputs": [
        {
          "name": "stdout",
          "output_type": "stream",
          "text": [
            "Model: \"model\"\n",
            "_________________________________________________________________\n",
            " Layer (type)                Output Shape              Param #   \n",
            "=================================================================\n",
            " input_1 (InputLayer)        [(None, 21)]              0         \n",
            "                                                                 \n",
            " dense_5 (Dense)             (None, 100)               2200      \n",
            "                                                                 \n",
            " dense_6 (Dense)             (None, 50)                5050      \n",
            "                                                                 \n",
            " dense_7 (Dense)             (None, 25)                1275      \n",
            "                                                                 \n",
            " dense_8 (Dense)             (None, 5)                 130       \n",
            "                                                                 \n",
            " dense_9 (Dense)             (None, 1)                 6         \n",
            "                                                                 \n",
            "=================================================================\n",
            "Total params: 8,661\n",
            "Trainable params: 8,661\n",
            "Non-trainable params: 0\n",
            "_________________________________________________________________\n"
          ]
        }
      ],
      "source": [
        "model_functional.summary()"
      ]
    },
    {
      "cell_type": "code",
      "execution_count": 87,
      "metadata": {},
      "outputs": [
        {
          "name": "stdout",
          "output_type": "stream",
          "text": [
            "Epoch 1/25\n",
            "231/231 [==============================] - 2s 4ms/step - loss: 0.4869 - accuracy: 0.7689 - val_loss: 0.4423 - val_accuracy: 0.7782\n",
            "Epoch 2/25\n",
            "231/231 [==============================] - 1s 3ms/step - loss: 0.4563 - accuracy: 0.7851 - val_loss: 0.5189 - val_accuracy: 0.7424\n",
            "Epoch 3/25\n",
            "231/231 [==============================] - 1s 3ms/step - loss: 0.4433 - accuracy: 0.7939 - val_loss: 0.4686 - val_accuracy: 0.7424\n",
            "Epoch 4/25\n",
            "231/231 [==============================] - 1s 3ms/step - loss: 0.4373 - accuracy: 0.7932 - val_loss: 0.4677 - val_accuracy: 0.7639\n",
            "Epoch 5/25\n",
            "231/231 [==============================] - 1s 3ms/step - loss: 0.4286 - accuracy: 0.8001 - val_loss: 0.4894 - val_accuracy: 0.7639\n",
            "Epoch 6/25\n",
            "231/231 [==============================] - 1s 3ms/step - loss: 0.4268 - accuracy: 0.7989 - val_loss: 0.4670 - val_accuracy: 0.7621\n",
            "Epoch 7/25\n",
            "231/231 [==============================] - 1s 3ms/step - loss: 0.4203 - accuracy: 0.8095 - val_loss: 0.4815 - val_accuracy: 0.7692\n",
            "Epoch 8/25\n",
            "231/231 [==============================] - 1s 3ms/step - loss: 0.4107 - accuracy: 0.8134 - val_loss: 0.4929 - val_accuracy: 0.7478\n",
            "Epoch 9/25\n",
            "231/231 [==============================] - 1s 3ms/step - loss: 0.4102 - accuracy: 0.8147 - val_loss: 0.4530 - val_accuracy: 0.7943\n",
            "Epoch 10/25\n",
            "231/231 [==============================] - 1s 3ms/step - loss: 0.4018 - accuracy: 0.8188 - val_loss: 0.5453 - val_accuracy: 0.6923\n",
            "Epoch 11/25\n",
            "231/231 [==============================] - 1s 3ms/step - loss: 0.3990 - accuracy: 0.8207 - val_loss: 0.5105 - val_accuracy: 0.7496\n",
            "Epoch 12/25\n",
            "231/231 [==============================] - 1s 3ms/step - loss: 0.3913 - accuracy: 0.8264 - val_loss: 0.5270 - val_accuracy: 0.7156\n",
            "Epoch 13/25\n",
            "231/231 [==============================] - 1s 3ms/step - loss: 0.3881 - accuracy: 0.8273 - val_loss: 0.5100 - val_accuracy: 0.7388\n",
            "Epoch 14/25\n",
            "231/231 [==============================] - 1s 3ms/step - loss: 0.3829 - accuracy: 0.8303 - val_loss: 0.5219 - val_accuracy: 0.7352\n",
            "Epoch 15/25\n",
            "231/231 [==============================] - 1s 3ms/step - loss: 0.3819 - accuracy: 0.8306 - val_loss: 0.5017 - val_accuracy: 0.7478\n",
            "Epoch 16/25\n",
            "231/231 [==============================] - 1s 3ms/step - loss: 0.3772 - accuracy: 0.8369 - val_loss: 0.5577 - val_accuracy: 0.7084\n",
            "Epoch 17/25\n",
            "231/231 [==============================] - 1s 3ms/step - loss: 0.3721 - accuracy: 0.8355 - val_loss: 0.4941 - val_accuracy: 0.7639\n",
            "Epoch 18/25\n",
            "231/231 [==============================] - 1s 3ms/step - loss: 0.3702 - accuracy: 0.8361 - val_loss: 0.5010 - val_accuracy: 0.7692\n",
            "Epoch 19/25\n",
            "231/231 [==============================] - 1s 2ms/step - loss: 0.3662 - accuracy: 0.8387 - val_loss: 0.5133 - val_accuracy: 0.7657\n",
            "Epoch 20/25\n",
            "231/231 [==============================] - 1s 3ms/step - loss: 0.3640 - accuracy: 0.8403 - val_loss: 0.5480 - val_accuracy: 0.7406\n",
            "Epoch 21/25\n",
            "231/231 [==============================] - 1s 3ms/step - loss: 0.3570 - accuracy: 0.8430 - val_loss: 0.5307 - val_accuracy: 0.7800\n",
            "Epoch 22/25\n",
            "231/231 [==============================] - 1s 3ms/step - loss: 0.3549 - accuracy: 0.8415 - val_loss: 0.5616 - val_accuracy: 0.7317\n",
            "Epoch 23/25\n",
            "231/231 [==============================] - 1s 3ms/step - loss: 0.3554 - accuracy: 0.8436 - val_loss: 0.5522 - val_accuracy: 0.7281\n",
            "Epoch 24/25\n",
            "231/231 [==============================] - 1s 2ms/step - loss: 0.3508 - accuracy: 0.8449 - val_loss: 0.5720 - val_accuracy: 0.7496\n",
            "Epoch 25/25\n",
            "231/231 [==============================] - 1s 3ms/step - loss: 0.3482 - accuracy: 0.8479 - val_loss: 0.5345 - val_accuracy: 0.7549\n"
          ]
        }
      ],
      "source": [
        "# Train\n",
        "\n",
        "hist_functional = model_functional.fit(X_train_final_df, y_train, epochs=25, validation_data=(X_val_final_df, y_val))"
      ]
    },
    {
      "cell_type": "code",
      "execution_count": 88,
      "metadata": {},
      "outputs": [
        {
          "data": {
            "image/png": "[encoded data removed]",
            "text/plain": [
              "<Figure size 1440x432 with 2 Axes>"
            ]
          },
          "metadata": {
            "needs_background": "light"
          },
          "output_type": "display_data"
        }
      ],
      "source": [
        "# Plot functional API result \n",
        "\n",
        "fig,ax=plt.subplots(ncols=2,figsize=(20,6))\n",
        "epochs=len(hist_functional.history['accuracy'])\n",
        "\n",
        "ax[0].plot(range(1,epochs+1),hist_functional.history['accuracy'], label='Training')\n",
        "ax[0].plot(range(1,epochs+1),hist_functional.history['val_accuracy'], label='Validation')\n",
        "ax[0].set_title('\\nAccuracy\\n', fontsize=17)\n",
        "ax[0].set_xlabel('Epoch')\n",
        "ax[0].legend(loc = 'lower right')\n",
        "\n",
        "ax[1].plot(range(1,epochs+1),hist_functional.history['loss'],label='Training')\n",
        "ax[1].plot(range(1,epochs+1),hist_functional.history['val_loss'],label='Validation')\n",
        "ax[1].set_title('\\nLoss\\n', fontsize=17)\n",
        "ax[1].set_xlabel('Epoch')\n",
        "ax[1].legend(loc = 'upper right')\n",
        "plt.show()"
      ]
    },
    {
      "cell_type": "markdown",
      "metadata": {},
      "source": [
        "### 2. Optimazed Model"
      ]
    },
    {
      "cell_type": "markdown",
      "metadata": {},
      "source": [
        "From the Base Model using Sequential API and Functional API we can see that both methods show similar result. So, actually we can choose one of the two. Since in this case our base model result is overfitting, we can handle this problem by using :\n",
        "\n",
        "* Batch Normalization\n",
        "* Weight Regularization\n",
        "\n",
        "In this case, to handling overfitting, i choose one of the weight regularization methods which is called Dropout. The reason for this is because it is easy to use."
      ]
    },
    {
      "cell_type": "code",
      "execution_count": 89,
      "metadata": {},
      "outputs": [],
      "source": [
        "# Sequential API with optimization with Dropout method\n",
        "\n",
        "model = Sequential()\n",
        "model.add(Dense(100, activation='relu', input_shape=(21,))) # HIDDEN LAYER 1\n",
        "model.add(Dropout(0.50))\n",
        "model.add(Dense(50, activation='relu')) # HIDDEN LAYER 3\n",
        "model.add(Dropout(0.50))\n",
        "model.add(Dense(25, activation='relu')) # HIDDEN LAYER 4\n",
        "model.add(Dropout(0.50))\n",
        "model.add(Dense(5, activation='relu')) # HIDDEN LAYER 5\n",
        "model.add(Dropout(0.50))\n",
        "model.add(Dense(1, activation='sigmoid')) # OUTPUT LAYER"
      ]
    },
    {
      "cell_type": "code",
      "execution_count": 90,
      "metadata": {},
      "outputs": [],
      "source": [
        "# Compile\n",
        "model.compile(loss = 'binary_crossentropy',\n",
        "              optimizer = 'adam', # Paling modern\n",
        "              metrics=['accuracy'])\n"
      ]
    },
    {
      "cell_type": "markdown",
      "metadata": {
        "id": "_ljzK9oWfe_H"
      },
      "source": [
        "## 7 - Model Training : ANN"
      ]
    },
    {
      "cell_type": "code",
      "execution_count": 91,
      "metadata": {},
      "outputs": [
        {
          "name": "stdout",
          "output_type": "stream",
          "text": [
            "Epoch 1/25\n",
            "231/231 [==============================] - 2s 4ms/step - loss: 0.6779 - accuracy: 0.5660 - val_loss: 0.6013 - val_accuracy: 0.7728\n",
            "Epoch 2/25\n",
            "231/231 [==============================] - 1s 3ms/step - loss: 0.5983 - accuracy: 0.6654 - val_loss: 0.4929 - val_accuracy: 0.7209\n",
            "Epoch 3/25\n",
            "231/231 [==============================] - 1s 4ms/step - loss: 0.5695 - accuracy: 0.7060 - val_loss: 0.4947 - val_accuracy: 0.7245\n",
            "Epoch 4/25\n",
            "231/231 [==============================] - 1s 3ms/step - loss: 0.5643 - accuracy: 0.7162 - val_loss: 0.4968 - val_accuracy: 0.7227\n",
            "Epoch 5/25\n",
            "231/231 [==============================] - 1s 4ms/step - loss: 0.5574 - accuracy: 0.7237 - val_loss: 0.4702 - val_accuracy: 0.7549\n",
            "Epoch 6/25\n",
            "231/231 [==============================] - 1s 3ms/step - loss: 0.5478 - accuracy: 0.7311 - val_loss: 0.4753 - val_accuracy: 0.7549\n",
            "Epoch 7/25\n",
            "231/231 [==============================] - 1s 5ms/step - loss: 0.5490 - accuracy: 0.7294 - val_loss: 0.4505 - val_accuracy: 0.7674\n",
            "Epoch 8/25\n",
            "231/231 [==============================] - 1s 4ms/step - loss: 0.5457 - accuracy: 0.7346 - val_loss: 0.4820 - val_accuracy: 0.7281\n",
            "Epoch 9/25\n",
            "231/231 [==============================] - 1s 4ms/step - loss: 0.5335 - accuracy: 0.7476 - val_loss: 0.4740 - val_accuracy: 0.7567\n",
            "Epoch 10/25\n",
            "231/231 [==============================] - 1s 4ms/step - loss: 0.5407 - accuracy: 0.7360 - val_loss: 0.4643 - val_accuracy: 0.7639\n",
            "Epoch 11/25\n",
            "231/231 [==============================] - 1s 4ms/step - loss: 0.5322 - accuracy: 0.7442 - val_loss: 0.4935 - val_accuracy: 0.7281\n",
            "Epoch 12/25\n",
            "231/231 [==============================] - 1s 4ms/step - loss: 0.5208 - accuracy: 0.7468 - val_loss: 0.4715 - val_accuracy: 0.7603\n",
            "Epoch 13/25\n",
            "231/231 [==============================] - 1s 5ms/step - loss: 0.5203 - accuracy: 0.7444 - val_loss: 0.4707 - val_accuracy: 0.7639\n",
            "Epoch 14/25\n",
            "231/231 [==============================] - 1s 3ms/step - loss: 0.5217 - accuracy: 0.7406 - val_loss: 0.4620 - val_accuracy: 0.7674\n",
            "Epoch 15/25\n",
            "231/231 [==============================] - 1s 4ms/step - loss: 0.5289 - accuracy: 0.7478 - val_loss: 0.4641 - val_accuracy: 0.7621\n",
            "Epoch 16/25\n",
            "231/231 [==============================] - 1s 3ms/step - loss: 0.5219 - accuracy: 0.7484 - val_loss: 0.4673 - val_accuracy: 0.7692\n",
            "Epoch 17/25\n",
            "231/231 [==============================] - 1s 3ms/step - loss: 0.5248 - accuracy: 0.7360 - val_loss: 0.4600 - val_accuracy: 0.7764\n",
            "Epoch 18/25\n",
            "231/231 [==============================] - 1s 3ms/step - loss: 0.5183 - accuracy: 0.7471 - val_loss: 0.4749 - val_accuracy: 0.7657\n",
            "Epoch 19/25\n",
            "231/231 [==============================] - 1s 3ms/step - loss: 0.5159 - accuracy: 0.7445 - val_loss: 0.4820 - val_accuracy: 0.7424\n",
            "Epoch 20/25\n",
            "231/231 [==============================] - 1s 3ms/step - loss: 0.5228 - accuracy: 0.7547 - val_loss: 0.4817 - val_accuracy: 0.7317\n",
            "Epoch 21/25\n",
            "231/231 [==============================] - 1s 3ms/step - loss: 0.5139 - accuracy: 0.7509 - val_loss: 0.4792 - val_accuracy: 0.7352\n",
            "Epoch 22/25\n",
            "231/231 [==============================] - 1s 3ms/step - loss: 0.5074 - accuracy: 0.7528 - val_loss: 0.4688 - val_accuracy: 0.7674\n",
            "Epoch 23/25\n",
            "231/231 [==============================] - 1s 3ms/step - loss: 0.5114 - accuracy: 0.7537 - val_loss: 0.4585 - val_accuracy: 0.7692\n",
            "Epoch 24/25\n",
            "231/231 [==============================] - 1s 3ms/step - loss: 0.5129 - accuracy: 0.7512 - val_loss: 0.4857 - val_accuracy: 0.7388\n",
            "Epoch 25/25\n",
            "231/231 [==============================] - 1s 3ms/step - loss: 0.5112 - accuracy: 0.7491 - val_loss: 0.4724 - val_accuracy: 0.7567\n"
          ]
        }
      ],
      "source": [
        "# Train\n",
        "\n",
        "history = model.fit(X_train_final_df, y_train, epochs=25, validation_data=(X_val_final_df, y_val))"
      ]
    },
    {
      "cell_type": "code",
      "execution_count": 92,
      "metadata": {},
      "outputs": [
        {
          "data": {
            "image/png": "[encoded data removed]",
            "text/plain": [
              "<Figure size 1440x432 with 2 Axes>"
            ]
          },
          "metadata": {
            "needs_background": "light"
          },
          "output_type": "display_data"
        }
      ],
      "source": [
        "fig,ax=plt.subplots(ncols=2,figsize=(20,6))\n",
        "epochs=len(history.history['accuracy'])\n",
        "ax[0].plot(range(1,epochs+1),history.history['accuracy'], label='Training')\n",
        "ax[0].plot(range(1,epochs+1),history.history['val_accuracy'], label='Validation')\n",
        "ax[0].set_title('\\nAccuracy\\n', fontsize=17)\n",
        "ax[0].set_xlabel('Epoch')\n",
        "ax[0].legend(loc = 'lower right')\n",
        "\n",
        "ax[1].plot(range(1,epochs+1),history.history['loss'],label='Training')\n",
        "ax[1].plot(range(1,epochs+1),history.history['val_loss'],label='Validation')\n",
        "ax[1].set_title('\\nLoss\\n', fontsize=17)\n",
        "ax[1].set_xlabel('Epoch')\n",
        "ax[1].legend(loc = 'upper right')\n",
        "plt.show()"
      ]
    },
    {
      "cell_type": "markdown",
      "metadata": {},
      "source": [
        "Now, after using Dropout, the model can be considered as good fit since the accuracy score between Training set and validation set show similar performance."
      ]
    },
    {
      "cell_type": "markdown",
      "metadata": {
        "id": "HlyAVit0fzJC"
      },
      "source": [
        "## 8 - Model Evaluation : ANN"
      ]
    },
    {
      "cell_type": "markdown",
      "metadata": {},
      "source": [
        "Now, we can test the performance of the optimized model using Test set we prepared before hand. "
      ]
    },
    {
      "cell_type": "code",
      "execution_count": 93,
      "metadata": {},
      "outputs": [
        {
          "name": "stdout",
          "output_type": "stream",
          "text": [
            "44/44 [==============================] - 0s 3ms/step\n",
            "              precision    recall  f1-score   support\n",
            "\n",
            "           0       0.88      0.76      0.82      1028\n",
            "           1       0.52      0.72      0.60       371\n",
            "\n",
            "    accuracy                           0.75      1399\n",
            "   macro avg       0.70      0.74      0.71      1399\n",
            "weighted avg       0.79      0.75      0.76      1399\n",
            "\n"
          ]
        }
      ],
      "source": [
        "from sklearn.metrics import classification_report, confusion_matrix, ConfusionMatrixDisplay, precision_score\n",
        "\n",
        "y_pred=model.predict(X_test_final_df)\n",
        "y_pred = np.where(y_pred >= 0.5, 1, 0)\n",
        "\n",
        "print(classification_report(y_test,y_pred))"
      ]
    },
    {
      "cell_type": "code",
      "execution_count": 94,
      "metadata": {},
      "outputs": [
        {
          "data": {
            "image/png": "[encoded data removed]",
            "text/plain": [
              "<Figure size 432x288 with 2 Axes>"
            ]
          },
          "metadata": {
            "needs_background": "light"
          },
          "output_type": "display_data"
        }
      ],
      "source": [
        "# Confusion Matrix\n",
        "conf_matrix = confusion_matrix(y_test,y_pred)\n",
        "disp = ConfusionMatrixDisplay(confusion_matrix=conf_matrix)\n",
        "disp.plot(cmap='Greens')\n",
        "plt.show()\n"
      ]
    },
    {
      "cell_type": "code",
      "execution_count": 105,
      "metadata": {},
      "outputs": [
        {
          "name": "stdout",
          "output_type": "stream",
          "text": [
            "----------------Precision---------------------\n",
            "How often the model correcct in predicting Customer Churn [1] :  0.52\n",
            "How often the model correcct in predicting Customer Retain [0] :  0.88\n",
            "\n",
            "----------------Recall---------------------\n",
            " When it's actually Churn , how often does it predict Churn [1] :  0.72\n",
            " When it's actually Retain , how often does it predict Retain [0] :  0.76\n",
            "\n",
            "----------------Accuracy---------------------\n",
            "Overall, how often is the classifier correct ?  0.75\n",
            "\n",
            "----------------Error---------------------\n",
            "Overall, how often is it wrong?  0.25\n"
          ]
        }
      ],
      "source": [
        "print ('----------------Precision---------------------')\n",
        "print ('How often the model correcct in predicting Customer Churn [1] : ', round(conf_matrix[1,1]/(conf_matrix[1,1] + conf_matrix[0,1]),2))\n",
        "print ('How often the model correcct in predicting Customer Retain [0] : ', round(conf_matrix[0,0]/(conf_matrix[0,0] + conf_matrix[1,0]),2))\n",
        "print ('\\n----------------Recall---------------------')\n",
        "print (\" When it's actually Churn , how often does it predict Churn [1] : \", round(conf_matrix[1,1]/(conf_matrix[1,1] + conf_matrix[1,0]),2))\n",
        "print (\" When it's actually Retain , how often does it predict Retain [0] : \", round(conf_matrix[0,0]/(conf_matrix[0,0] + conf_matrix[0,1]),2))\n",
        "print ('\\n----------------Accuracy---------------------')\n",
        "print ('Overall, how often is the classifier correct ? ', round((conf_matrix[0,0]+conf_matrix[1,1])/(1028+371),2))\n",
        "print ('\\n----------------Error---------------------')\n",
        "print ('Overall, how often is it wrong? ', round((conf_matrix[1,0]+conf_matrix[0,1])/(1028+371),2))"
      ]
    },
    {
      "cell_type": "markdown",
      "metadata": {},
      "source": [
        "From the both classification report and confusion matrix, we can see that :\n",
        "\n",
        "* the model actually performed well at an accuracy of 75% \n",
        "* the model error at 25%"
      ]
    },
    {
      "cell_type": "markdown",
      "metadata": {},
      "source": [
        "However, since the test set is imbalanced (from support: 1028 [0] occurence vs 371 [1] occurence), then we should view the model performance based on its recall score.\n",
        "\n",
        "* When it's actually Churn, model accuracy is 72%\n",
        "* when it's actually Retain, model accuracy is 76%\n",
        "\n",
        "From recall score, the model performed well since the recall score is both close to 100 %."
      ]
    },
    {
      "cell_type": "markdown",
      "metadata": {},
      "source": [
        "`the result can change sometimes due to the notebook being restart`"
      ]
    },
    {
      "cell_type": "markdown",
      "metadata": {},
      "source": [
        "Source : https://www.dataschool.io/simple-guide-to-confusion-matrix-terminology/"
      ]
    },
    {
      "cell_type": "markdown",
      "metadata": {},
      "source": [
        "---"
      ]
    },
    {
      "cell_type": "markdown",
      "metadata": {
        "id": "HlyAVit0fzJC"
      },
      "source": [
        "## 9 - Model Saving"
      ]
    },
    {
      "cell_type": "code",
      "execution_count": 106,
      "metadata": {},
      "outputs": [],
      "source": [
        "import pickle\n",
        "from sklearn.pipeline import make_pipeline\n",
        "from sklearn.compose import ColumnTransformer\n",
        "# from imblearn.pipeline import Pipeline, make_pipeline"
      ]
    },
    {
      "cell_type": "markdown",
      "metadata": {},
      "source": [
        "### 1. Make the pipeline"
      ]
    },
    {
      "cell_type": "code",
      "execution_count": 107,
      "metadata": {},
      "outputs": [],
      "source": [
        "num_pipeline = make_pipeline(StandardScaler())\n",
        "\n",
        "cat_pipeline = make_pipeline(OneHotEncoder())\n",
        "\n",
        "data_pipeline = ColumnTransformer([\n",
        "    ('pipe_num', num_pipeline, num_columns),\n",
        "    ('pipe_cat', cat_pipeline, cat_columns)\n",
        "])\n",
        "\n",
        "prep_pipeline = make_pipeline(data_pipeline)"
      ]
    },
    {
      "cell_type": "code",
      "execution_count": 108,
      "metadata": {},
      "outputs": [
        {
          "data": {
            "text/html": [
              "<style>#sk-container-id-1 {color: black;background-color: white;}#sk-container-id-1 pre{padding: 0;}#sk-container-id-1 div.sk-toggleable {background-color: white;}#sk-container-id-1 label.sk-toggleable__label {cursor: pointer;display: block;width: 100%;margin-bottom: 0;padding: 0.3em;box-sizing: border-box;text-align: center;}#sk-container-id-1 label.sk-toggleable__label-arrow:before {content: \"▸\";float: left;margin-right: 0.25em;color: #696969;}#sk-container-id-1 label.sk-toggleable__label-arrow:hover:before {color: black;}#sk-container-id-1 div.sk-estimator:hover label.sk-toggleable__label-arrow:before {color: black;}#sk-container-id-1 div.sk-toggleable__content {max-height: 0;max-width: 0;overflow: hidden;text-align: left;background-color: #f0f8ff;}#sk-container-id-1 div.sk-toggleable__content pre {margin: 0.2em;color: black;border-radius: 0.25em;background-color: #f0f8ff;}#sk-container-id-1 input.sk-toggleable__control:checked~div.sk-toggleable__content {max-height: 200px;max-width: 100%;overflow: auto;}#sk-container-id-1 input.sk-toggleable__control:checked~label.sk-toggleable__label-arrow:before {content: \"▾\";}#sk-container-id-1 div.sk-estimator input.sk-toggleable__control:checked~label.sk-toggleable__label {background-color: #d4ebff;}#sk-container-id-1 div.sk-label input.sk-toggleable__control:checked~label.sk-toggleable__label {background-color: #d4ebff;}#sk-container-id-1 input.sk-hidden--visually {border: 0;clip: rect(1px 1px 1px 1px);clip: rect(1px, 1px, 1px, 1px);height: 1px;margin: -1px;overflow: hidden;padding: 0;position: absolute;width: 1px;}#sk-container-id-1 div.sk-estimator {font-family: monospace;background-color: #f0f8ff;border: 1px dotted black;border-radius: 0.25em;box-sizing: border-box;margin-bottom: 0.5em;}#sk-container-id-1 div.sk-estimator:hover {background-color: #d4ebff;}#sk-container-id-1 div.sk-parallel-item::after {content: \"\";width: 100%;border-bottom: 1px solid gray;flex-grow: 1;}#sk-container-id-1 div.sk-label:hover label.sk-toggleable__label {background-color: #d4ebff;}#sk-container-id-1 div.sk-serial::before {content: \"\";position: absolute;border-left: 1px solid gray;box-sizing: border-box;top: 0;bottom: 0;left: 50%;z-index: 0;}#sk-container-id-1 div.sk-serial {display: flex;flex-direction: column;align-items: center;background-color: white;padding-right: 0.2em;padding-left: 0.2em;position: relative;}#sk-container-id-1 div.sk-item {position: relative;z-index: 1;}#sk-container-id-1 div.sk-parallel {display: flex;align-items: stretch;justify-content: center;background-color: white;position: relative;}#sk-container-id-1 div.sk-item::before, #sk-container-id-1 div.sk-parallel-item::before {content: \"\";position: absolute;border-left: 1px solid gray;box-sizing: border-box;top: 0;bottom: 0;left: 50%;z-index: -1;}#sk-container-id-1 div.sk-parallel-item {display: flex;flex-direction: column;z-index: 1;position: relative;background-color: white;}#sk-container-id-1 div.sk-parallel-item:first-child::after {align-self: flex-end;width: 50%;}#sk-container-id-1 div.sk-parallel-item:last-child::after {align-self: flex-start;width: 50%;}#sk-container-id-1 div.sk-parallel-item:only-child::after {width: 0;}#sk-container-id-1 div.sk-dashed-wrapped {border: 1px dashed gray;margin: 0 0.4em 0.5em 0.4em;box-sizing: border-box;padding-bottom: 0.4em;background-color: white;}#sk-container-id-1 div.sk-label label {font-family: monospace;font-weight: bold;display: inline-block;line-height: 1.2em;}#sk-container-id-1 div.sk-label-container {text-align: center;}#sk-container-id-1 div.sk-container {/* jupyter's `normalize.less` sets `[hidden] { display: none; }` but bootstrap.min.css set `[hidden] { display: none !important; }` so we also need the `!important` here to be able to override the default hidden behavior on the sphinx rendered scikit-learn.org. See: https://github.com/scikit-learn/scikit-learn/issues/21755 */display: inline-block !important;position: relative;}#sk-container-id-1 div.sk-text-repr-fallback {display: none;}</style><div id=\"sk-container-id-1\" class=\"sk-top-container\"><div class=\"sk-text-repr-fallback\"><pre>Pipeline(steps=[(&#x27;columntransformer&#x27;,\n",
              "                 ColumnTransformer(transformers=[(&#x27;pipe_num&#x27;,\n",
              "                                                  Pipeline(steps=[(&#x27;standardscaler&#x27;,\n",
              "                                                                   StandardScaler())]),\n",
              "                                                  [&#x27;SeniorCitizen&#x27;, &#x27;tenure&#x27;,\n",
              "                                                   &#x27;MonthlyCharges&#x27;,\n",
              "                                                   &#x27;TotalCharges&#x27;]),\n",
              "                                                 (&#x27;pipe_cat&#x27;,\n",
              "                                                  Pipeline(steps=[(&#x27;onehotencoder&#x27;,\n",
              "                                                                   OneHotEncoder())]),\n",
              "                                                  [&#x27;Partner&#x27;, &#x27;Dependents&#x27;,\n",
              "                                                   &#x27;OnlineSecurity&#x27;,\n",
              "                                                   &#x27;TechSupport&#x27;, &#x27;Contract&#x27;,\n",
              "                                                   &#x27;PaperlessBilling&#x27;,\n",
              "                                                   &#x27;PaymentMethod&#x27;])]))])</pre><b>In a Jupyter environment, please rerun this cell to show the HTML representation or trust the notebook. <br />On GitHub, the HTML representation is unable to render, please try loading this page with nbviewer.org.</b></div><div class=\"sk-container\" hidden><div class=\"sk-item sk-dashed-wrapped\"><div class=\"sk-label-container\"><div class=\"sk-label sk-toggleable\"><input class=\"sk-toggleable__control sk-hidden--visually\" id=\"sk-estimator-id-1\" type=\"checkbox\" ><label for=\"sk-estimator-id-1\" class=\"sk-toggleable__label sk-toggleable__label-arrow\">Pipeline</label><div class=\"sk-toggleable__content\"><pre>Pipeline(steps=[(&#x27;columntransformer&#x27;,\n",
              "                 ColumnTransformer(transformers=[(&#x27;pipe_num&#x27;,\n",
              "                                                  Pipeline(steps=[(&#x27;standardscaler&#x27;,\n",
              "                                                                   StandardScaler())]),\n",
              "                                                  [&#x27;SeniorCitizen&#x27;, &#x27;tenure&#x27;,\n",
              "                                                   &#x27;MonthlyCharges&#x27;,\n",
              "                                                   &#x27;TotalCharges&#x27;]),\n",
              "                                                 (&#x27;pipe_cat&#x27;,\n",
              "                                                  Pipeline(steps=[(&#x27;onehotencoder&#x27;,\n",
              "                                                                   OneHotEncoder())]),\n",
              "                                                  [&#x27;Partner&#x27;, &#x27;Dependents&#x27;,\n",
              "                                                   &#x27;OnlineSecurity&#x27;,\n",
              "                                                   &#x27;TechSupport&#x27;, &#x27;Contract&#x27;,\n",
              "                                                   &#x27;PaperlessBilling&#x27;,\n",
              "                                                   &#x27;PaymentMethod&#x27;])]))])</pre></div></div></div><div class=\"sk-serial\"><div class=\"sk-item sk-dashed-wrapped\"><div class=\"sk-label-container\"><div class=\"sk-label sk-toggleable\"><input class=\"sk-toggleable__control sk-hidden--visually\" id=\"sk-estimator-id-2\" type=\"checkbox\" ><label for=\"sk-estimator-id-2\" class=\"sk-toggleable__label sk-toggleable__label-arrow\">columntransformer: ColumnTransformer</label><div class=\"sk-toggleable__content\"><pre>ColumnTransformer(transformers=[(&#x27;pipe_num&#x27;,\n",
              "                                 Pipeline(steps=[(&#x27;standardscaler&#x27;,\n",
              "                                                  StandardScaler())]),\n",
              "                                 [&#x27;SeniorCitizen&#x27;, &#x27;tenure&#x27;, &#x27;MonthlyCharges&#x27;,\n",
              "                                  &#x27;TotalCharges&#x27;]),\n",
              "                                (&#x27;pipe_cat&#x27;,\n",
              "                                 Pipeline(steps=[(&#x27;onehotencoder&#x27;,\n",
              "                                                  OneHotEncoder())]),\n",
              "                                 [&#x27;Partner&#x27;, &#x27;Dependents&#x27;, &#x27;OnlineSecurity&#x27;,\n",
              "                                  &#x27;TechSupport&#x27;, &#x27;Contract&#x27;, &#x27;PaperlessBilling&#x27;,\n",
              "                                  &#x27;PaymentMethod&#x27;])])</pre></div></div></div><div class=\"sk-parallel\"><div class=\"sk-parallel-item\"><div class=\"sk-item\"><div class=\"sk-label-container\"><div class=\"sk-label sk-toggleable\"><input class=\"sk-toggleable__control sk-hidden--visually\" id=\"sk-estimator-id-3\" type=\"checkbox\" ><label for=\"sk-estimator-id-3\" class=\"sk-toggleable__label sk-toggleable__label-arrow\">pipe_num</label><div class=\"sk-toggleable__content\"><pre>[&#x27;SeniorCitizen&#x27;, &#x27;tenure&#x27;, &#x27;MonthlyCharges&#x27;, &#x27;TotalCharges&#x27;]</pre></div></div></div><div class=\"sk-serial\"><div class=\"sk-item\"><div class=\"sk-serial\"><div class=\"sk-item\"><div class=\"sk-estimator sk-toggleable\"><input class=\"sk-toggleable__control sk-hidden--visually\" id=\"sk-estimator-id-4\" type=\"checkbox\" ><label for=\"sk-estimator-id-4\" class=\"sk-toggleable__label sk-toggleable__label-arrow\">StandardScaler</label><div class=\"sk-toggleable__content\"><pre>StandardScaler()</pre></div></div></div></div></div></div></div></div><div class=\"sk-parallel-item\"><div class=\"sk-item\"><div class=\"sk-label-container\"><div class=\"sk-label sk-toggleable\"><input class=\"sk-toggleable__control sk-hidden--visually\" id=\"sk-estimator-id-5\" type=\"checkbox\" ><label for=\"sk-estimator-id-5\" class=\"sk-toggleable__label sk-toggleable__label-arrow\">pipe_cat</label><div class=\"sk-toggleable__content\"><pre>[&#x27;Partner&#x27;, &#x27;Dependents&#x27;, &#x27;OnlineSecurity&#x27;, &#x27;TechSupport&#x27;, &#x27;Contract&#x27;, &#x27;PaperlessBilling&#x27;, &#x27;PaymentMethod&#x27;]</pre></div></div></div><div class=\"sk-serial\"><div class=\"sk-item\"><div class=\"sk-serial\"><div class=\"sk-item\"><div class=\"sk-estimator sk-toggleable\"><input class=\"sk-toggleable__control sk-hidden--visually\" id=\"sk-estimator-id-6\" type=\"checkbox\" ><label for=\"sk-estimator-id-6\" class=\"sk-toggleable__label sk-toggleable__label-arrow\">OneHotEncoder</label><div class=\"sk-toggleable__content\"><pre>OneHotEncoder()</pre></div></div></div></div></div></div></div></div></div></div></div></div></div></div>"
            ],
            "text/plain": [
              "Pipeline(steps=[('columntransformer',\n",
              "                 ColumnTransformer(transformers=[('pipe_num',\n",
              "                                                  Pipeline(steps=[('standardscaler',\n",
              "                                                                   StandardScaler())]),\n",
              "                                                  ['SeniorCitizen', 'tenure',\n",
              "                                                   'MonthlyCharges',\n",
              "                                                   'TotalCharges']),\n",
              "                                                 ('pipe_cat',\n",
              "                                                  Pipeline(steps=[('onehotencoder',\n",
              "                                                                   OneHotEncoder())]),\n",
              "                                                  ['Partner', 'Dependents',\n",
              "                                                   'OnlineSecurity',\n",
              "                                                   'TechSupport', 'Contract',\n",
              "                                                   'PaperlessBilling',\n",
              "                                                   'PaymentMethod'])]))])"
            ]
          },
          "execution_count": 108,
          "metadata": {},
          "output_type": "execute_result"
        }
      ],
      "source": [
        "prep_pipeline.fit(X_train,y_train_ori)"
      ]
    },
    {
      "cell_type": "markdown",
      "metadata": {},
      "source": [
        "- Using pipeline for Preprocessing"
      ]
    },
    {
      "cell_type": "markdown",
      "metadata": {},
      "source": [
        "Feature scalling and encoding"
      ]
    },
    {
      "cell_type": "code",
      "execution_count": 110,
      "metadata": {},
      "outputs": [
        {
          "data": {
            "text/plain": [
              "(5031, 11)"
            ]
          },
          "execution_count": 110,
          "metadata": {},
          "output_type": "execute_result"
        }
      ],
      "source": [
        "X_train.shape"
      ]
    },
    {
      "cell_type": "code",
      "execution_count": 111,
      "metadata": {},
      "outputs": [
        {
          "data": {
            "text/plain": [
              "(5031,)"
            ]
          },
          "execution_count": 111,
          "metadata": {},
          "output_type": "execute_result"
        }
      ],
      "source": [
        "y_train_ori.shape"
      ]
    },
    {
      "cell_type": "code",
      "execution_count": 112,
      "metadata": {},
      "outputs": [],
      "source": [
        "X_train_after_prep = prep_pipeline.transform(X_train)\n",
        "X_test_after_prep = prep_pipeline.transform(X_test)\n",
        "X_val_after_prep = prep_pipeline.transform(X_val)"
      ]
    },
    {
      "cell_type": "markdown",
      "metadata": {},
      "source": [
        "Handling imbalance"
      ]
    },
    {
      "cell_type": "code",
      "execution_count": 113,
      "metadata": {},
      "outputs": [],
      "source": [
        "smotenc = SMOTENC([4, 5, 6, 7, 8, 9, 10, 11, 12, 13, 14, 15, 16, 17, 18, 19, 20], random_state = 42)\n",
        "X_train_after_prep, y_train_ori = smotenc.fit_resample(X_train_after_prep, y_train_ori)"
      ]
    },
    {
      "cell_type": "code",
      "execution_count": 114,
      "metadata": {},
      "outputs": [
        {
          "name": "stdout",
          "output_type": "stream",
          "text": [
            "SMOTENC Oversampling method\n",
            "-----------------------------\n",
            "Yes value : 3695\n",
            "No value : 3695\n"
          ]
        }
      ],
      "source": [
        "print('SMOTENC Oversampling method')\n",
        "print('-----------------------------')\n",
        "print('Yes value :', (y_train_ori == 1).sum())\n",
        "print('No value :', (y_train_ori == 0).sum())\n"
      ]
    },
    {
      "cell_type": "markdown",
      "metadata": {},
      "source": [
        "Final dataset after preprocessing"
      ]
    },
    {
      "cell_type": "code",
      "execution_count": 115,
      "metadata": {},
      "outputs": [],
      "source": [
        "X_train_prep_final = pd.DataFrame(X_train_after_prep)\n",
        "X_test_prep_final = pd.DataFrame(X_test_after_prep)\n",
        "X_val_prep_final = pd.DataFrame(X_val_after_prep)"
      ]
    },
    {
      "cell_type": "code",
      "execution_count": 116,
      "metadata": {},
      "outputs": [],
      "source": [
        "train_dataset = tf.data.Dataset.from_tensor_slices((X_train_after_prep, y_train_ori)).shuffle(buffer_size=X_train.shape[0]).batch(32)\n",
        "val_dataset = tf.data.Dataset.from_tensor_slices((X_val_after_prep, y_val_ori)).shuffle(buffer_size=X_val.shape[0]).batch(32)"
      ]
    },
    {
      "cell_type": "code",
      "execution_count": 117,
      "metadata": {},
      "outputs": [],
      "source": [
        "# Buat arsiteknya\n",
        "\n",
        "my_model = Sequential()\n",
        "my_model.add(Dense(100, activation='relu', input_shape=(21,))) # HIDDEN LAYER 1\n",
        "my_model.add(Dropout(0.50))\n",
        "my_model.add(Dense(50, activation='relu')) # HIDDEN LAYER 3\n",
        "my_model.add(Dropout(0.50))\n",
        "my_model.add(Dense(25, activation='relu')) # HIDDEN LAYER 4\n",
        "my_model.add(Dropout(0.50))\n",
        "my_model.add(Dense(5, activation='relu')) # HIDDEN LAYER 5\n",
        "my_model.add(Dropout(0.50))\n",
        "my_model.add(Dense(1, activation='sigmoid')) # OUTPUT LAYER"
      ]
    },
    {
      "cell_type": "code",
      "execution_count": 118,
      "metadata": {},
      "outputs": [],
      "source": [
        "# Compile\n",
        "my_model.compile(loss = 'binary_crossentropy',\n",
        "              optimizer = 'adam', # Paling modern\n",
        "              metrics=['accuracy'])"
      ]
    },
    {
      "cell_type": "code",
      "execution_count": 119,
      "metadata": {},
      "outputs": [
        {
          "name": "stdout",
          "output_type": "stream",
          "text": [
            "Epoch 1/20\n",
            "231/231 [==============================] - 2s 4ms/step - loss: 0.6834 - accuracy: 0.5679 - val_loss: 0.6032 - val_accuracy: 0.7048\n",
            "Epoch 2/20\n",
            "231/231 [==============================] - 1s 4ms/step - loss: 0.6205 - accuracy: 0.6671 - val_loss: 0.5275 - val_accuracy: 0.6440\n",
            "Epoch 3/20\n",
            "231/231 [==============================] - 1s 4ms/step - loss: 0.5775 - accuracy: 0.6970 - val_loss: 0.5020 - val_accuracy: 0.6673\n",
            "Epoch 4/20\n",
            "231/231 [==============================] - 1s 4ms/step - loss: 0.5692 - accuracy: 0.7127 - val_loss: 0.4977 - val_accuracy: 0.6762\n",
            "Epoch 5/20\n",
            "231/231 [==============================] - 1s 4ms/step - loss: 0.5578 - accuracy: 0.7177 - val_loss: 0.5272 - val_accuracy: 0.6530\n",
            "Epoch 6/20\n",
            "231/231 [==============================] - 1s 4ms/step - loss: 0.5594 - accuracy: 0.7284 - val_loss: 0.5038 - val_accuracy: 0.6816\n",
            "Epoch 7/20\n",
            "231/231 [==============================] - 1s 3ms/step - loss: 0.5475 - accuracy: 0.7286 - val_loss: 0.4929 - val_accuracy: 0.7013\n",
            "Epoch 8/20\n",
            "231/231 [==============================] - 1s 3ms/step - loss: 0.5376 - accuracy: 0.7363 - val_loss: 0.4978 - val_accuracy: 0.7120\n",
            "Epoch 9/20\n",
            "231/231 [==============================] - 1s 4ms/step - loss: 0.5387 - accuracy: 0.7402 - val_loss: 0.4920 - val_accuracy: 0.7102\n",
            "Epoch 10/20\n",
            "231/231 [==============================] - 1s 4ms/step - loss: 0.5328 - accuracy: 0.7330 - val_loss: 0.4701 - val_accuracy: 0.7496\n",
            "Epoch 11/20\n",
            "231/231 [==============================] - 1s 4ms/step - loss: 0.5296 - accuracy: 0.7383 - val_loss: 0.4966 - val_accuracy: 0.7066\n",
            "Epoch 12/20\n",
            "231/231 [==============================] - 1s 3ms/step - loss: 0.5327 - accuracy: 0.7405 - val_loss: 0.5019 - val_accuracy: 0.7030\n",
            "Epoch 13/20\n",
            "231/231 [==============================] - 1s 3ms/step - loss: 0.5298 - accuracy: 0.7361 - val_loss: 0.4928 - val_accuracy: 0.7281\n",
            "Epoch 14/20\n",
            "231/231 [==============================] - 1s 4ms/step - loss: 0.5284 - accuracy: 0.7392 - val_loss: 0.4867 - val_accuracy: 0.7209\n",
            "Epoch 15/20\n",
            "231/231 [==============================] - 1s 3ms/step - loss: 0.5191 - accuracy: 0.7453 - val_loss: 0.4738 - val_accuracy: 0.7567\n",
            "Epoch 16/20\n",
            "231/231 [==============================] - 1s 4ms/step - loss: 0.5190 - accuracy: 0.7428 - val_loss: 0.4935 - val_accuracy: 0.7460\n",
            "Epoch 17/20\n",
            "231/231 [==============================] - 1s 4ms/step - loss: 0.5151 - accuracy: 0.7495 - val_loss: 0.4889 - val_accuracy: 0.7388\n",
            "Epoch 18/20\n",
            "231/231 [==============================] - 1s 5ms/step - loss: 0.5119 - accuracy: 0.7570 - val_loss: 0.4987 - val_accuracy: 0.7156\n",
            "Epoch 19/20\n",
            "231/231 [==============================] - 1s 4ms/step - loss: 0.5152 - accuracy: 0.7475 - val_loss: 0.4960 - val_accuracy: 0.7174\n",
            "Epoch 20/20\n",
            "231/231 [==============================] - 1s 4ms/step - loss: 0.5168 - accuracy: 0.7476 - val_loss: 0.4959 - val_accuracy: 0.7513\n"
          ]
        }
      ],
      "source": [
        "# Train\n",
        "\n",
        "history_test = my_model.fit(train_dataset, epochs=20, validation_data=(val_dataset))"
      ]
    },
    {
      "cell_type": "code",
      "execution_count": 120,
      "metadata": {},
      "outputs": [
        {
          "data": {
            "image/png": "[encoded data removed]",
            "text/plain": [
              "<Figure size 1440x432 with 2 Axes>"
            ]
          },
          "metadata": {
            "needs_background": "light"
          },
          "output_type": "display_data"
        }
      ],
      "source": [
        "fig,ax=plt.subplots(ncols=2,figsize=(20,6))\n",
        "epochs=len(history_test.history['accuracy'])\n",
        "ax[0].plot(range(1,epochs+1),history_test.history['accuracy'], label='Training')\n",
        "ax[0].plot(range(1,epochs+1),history_test.history['val_accuracy'], label='Validation')\n",
        "ax[0].set_title('\\nAccuracy\\n', fontsize=17)\n",
        "ax[0].set_xlabel('Epoch')\n",
        "ax[0].legend(loc = 'lower right')\n",
        "\n",
        "ax[1].plot(range(1,epochs+1),history_test.history['loss'],label='Training')\n",
        "ax[1].plot(range(1,epochs+1),history_test.history['val_loss'],label='Validation')\n",
        "ax[1].set_title('\\nLoss\\n', fontsize=17)\n",
        "ax[1].set_xlabel('Epoch')\n",
        "ax[1].legend(loc = 'upper right')\n",
        "plt.show()"
      ]
    },
    {
      "cell_type": "code",
      "execution_count": 121,
      "metadata": {},
      "outputs": [
        {
          "name": "stdout",
          "output_type": "stream",
          "text": [
            "44/44 [==============================] - 0s 2ms/step\n",
            "              precision    recall  f1-score   support\n",
            "\n",
            "           0       0.88      0.76      0.82      1028\n",
            "           1       0.52      0.72      0.60       371\n",
            "\n",
            "    accuracy                           0.75      1399\n",
            "   macro avg       0.70      0.74      0.71      1399\n",
            "weighted avg       0.79      0.75      0.76      1399\n",
            "\n"
          ]
        }
      ],
      "source": [
        "from sklearn.metrics import classification_report\n",
        "\n",
        "y_pred_pipe=my_model.predict(X_test_after_prep)\n",
        "y_pred_pipe = np.where(y_pred >= 0.5, 1, 0)\n",
        "\n",
        "print(classification_report(y_test,y_pred_pipe))"
      ]
    },
    {
      "cell_type": "code",
      "execution_count": 122,
      "metadata": {},
      "outputs": [],
      "source": [
        "import pickle"
      ]
    },
    {
      "cell_type": "code",
      "execution_count": 123,
      "metadata": {},
      "outputs": [],
      "source": [
        "# simpan  pipeline\n",
        "\n",
        "with open(\"E:/ftds/learning_journal/phase_2/week 1/preprocessing.pkl\", \"wb\") as f:\n",
        "  pickle.dump(prep_pipeline, f)"
      ]
    },
    {
      "cell_type": "code",
      "execution_count": 124,
      "metadata": {},
      "outputs": [],
      "source": [
        "my_model.save('my_model.h5')"
      ]
    },
    {
      "cell_type": "code",
      "execution_count": 125,
      "metadata": {},
      "outputs": [],
      "source": [
        "X_test.to_csv('m1_churn_test.csv',index=None)"
      ]
    },
    {
      "cell_type": "markdown",
      "metadata": {
        "id": "RWJ6uKfPhH8B"
      },
      "source": [
        "---\n",
        "## 10 - Model Inference"
      ]
    },
    {
      "cell_type": "markdown",
      "metadata": {},
      "source": [
        "1. Load the data"
      ]
    },
    {
      "cell_type": "code",
      "execution_count": 139,
      "metadata": {},
      "outputs": [
        {
          "data": {
            "text/html": [
              "<div>\n",
              "<style scoped>\n",
              "    .dataframe tbody tr th:only-of-type {\n",
              "        vertical-align: middle;\n",
              "    }\n",
              "\n",
              "    .dataframe tbody tr th {\n",
              "        vertical-align: top;\n",
              "    }\n",
              "\n",
              "    .dataframe thead th {\n",
              "        text-align: right;\n",
              "    }\n",
              "</style>\n",
              "<table border=\"1\" class=\"dataframe\">\n",
              "  <thead>\n",
              "    <tr style=\"text-align: right;\">\n",
              "      <th></th>\n",
              "      <th>SeniorCitizen</th>\n",
              "      <th>Partner</th>\n",
              "      <th>Dependents</th>\n",
              "      <th>tenure</th>\n",
              "      <th>OnlineSecurity</th>\n",
              "      <th>TechSupport</th>\n",
              "      <th>Contract</th>\n",
              "      <th>PaperlessBilling</th>\n",
              "      <th>PaymentMethod</th>\n",
              "      <th>MonthlyCharges</th>\n",
              "      <th>TotalCharges</th>\n",
              "      <th>Churn</th>\n",
              "    </tr>\n",
              "  </thead>\n",
              "  <tbody>\n",
              "    <tr>\n",
              "      <th>0</th>\n",
              "      <td>1</td>\n",
              "      <td>Yes</td>\n",
              "      <td>No</td>\n",
              "      <td>69</td>\n",
              "      <td>Yes</td>\n",
              "      <td>No</td>\n",
              "      <td>One year</td>\n",
              "      <td>No</td>\n",
              "      <td>Credit card (automatic)</td>\n",
              "      <td>87.30</td>\n",
              "      <td>6055.55</td>\n",
              "      <td>No</td>\n",
              "    </tr>\n",
              "    <tr>\n",
              "      <th>1</th>\n",
              "      <td>0</td>\n",
              "      <td>No</td>\n",
              "      <td>No</td>\n",
              "      <td>45</td>\n",
              "      <td>Yes</td>\n",
              "      <td>Yes</td>\n",
              "      <td>Month-to-month</td>\n",
              "      <td>Yes</td>\n",
              "      <td>Credit card (automatic)</td>\n",
              "      <td>108.45</td>\n",
              "      <td>4964.70</td>\n",
              "      <td>No</td>\n",
              "    </tr>\n",
              "    <tr>\n",
              "      <th>2</th>\n",
              "      <td>0</td>\n",
              "      <td>Yes</td>\n",
              "      <td>No</td>\n",
              "      <td>48</td>\n",
              "      <td>No</td>\n",
              "      <td>Yes</td>\n",
              "      <td>Month-to-month</td>\n",
              "      <td>Yes</td>\n",
              "      <td>Credit card (automatic)</td>\n",
              "      <td>105.10</td>\n",
              "      <td>5083.55</td>\n",
              "      <td>No</td>\n",
              "    </tr>\n",
              "    <tr>\n",
              "      <th>3</th>\n",
              "      <td>0</td>\n",
              "      <td>Yes</td>\n",
              "      <td>Yes</td>\n",
              "      <td>32</td>\n",
              "      <td>Yes</td>\n",
              "      <td>No</td>\n",
              "      <td>Month-to-month</td>\n",
              "      <td>No</td>\n",
              "      <td>Electronic check</td>\n",
              "      <td>89.60</td>\n",
              "      <td>2901.80</td>\n",
              "      <td>No</td>\n",
              "    </tr>\n",
              "    <tr>\n",
              "      <th>4</th>\n",
              "      <td>1</td>\n",
              "      <td>No</td>\n",
              "      <td>No</td>\n",
              "      <td>16</td>\n",
              "      <td>No</td>\n",
              "      <td>No</td>\n",
              "      <td>Month-to-month</td>\n",
              "      <td>Yes</td>\n",
              "      <td>Electronic check</td>\n",
              "      <td>96.40</td>\n",
              "      <td>1581.20</td>\n",
              "      <td>Yes</td>\n",
              "    </tr>\n",
              "  </tbody>\n",
              "</table>\n",
              "</div>"
            ],
            "text/plain": [
              "   SeniorCitizen Partner Dependents  tenure OnlineSecurity TechSupport  \\\n",
              "0              1     Yes         No      69            Yes          No   \n",
              "1              0      No         No      45            Yes         Yes   \n",
              "2              0     Yes         No      48             No         Yes   \n",
              "3              0     Yes        Yes      32            Yes          No   \n",
              "4              1      No         No      16             No          No   \n",
              "\n",
              "         Contract PaperlessBilling            PaymentMethod  MonthlyCharges  \\\n",
              "0        One year               No  Credit card (automatic)           87.30   \n",
              "1  Month-to-month              Yes  Credit card (automatic)          108.45   \n",
              "2  Month-to-month              Yes  Credit card (automatic)          105.10   \n",
              "3  Month-to-month               No         Electronic check           89.60   \n",
              "4  Month-to-month              Yes         Electronic check           96.40   \n",
              "\n",
              "   TotalCharges Churn  \n",
              "0       6055.55    No  \n",
              "1       4964.70    No  \n",
              "2       5083.55    No  \n",
              "3       2901.80    No  \n",
              "4       1581.20   Yes  "
            ]
          },
          "execution_count": 139,
          "metadata": {},
          "output_type": "execute_result"
        }
      ],
      "source": [
        "# Load the data\n",
        "\n",
        "data_inf.head()"
      ]
    },
    {
      "cell_type": "code",
      "execution_count": 132,
      "metadata": {},
      "outputs": [],
      "source": [
        "data_inf = data_inf.replace('No phone service', 'No')\n",
        "data_inf = data_inf.replace('No internet service', 'No')"
      ]
    },
    {
      "cell_type": "code",
      "execution_count": 129,
      "metadata": {},
      "outputs": [],
      "source": [
        "data_inf = data_inf.drop(['gender','PhoneService','MultipleLines', 'OnlineBackup','DeviceProtection','InternetService','StreamingTV','StreamingMovies'], axis=1)"
      ]
    },
    {
      "cell_type": "code",
      "execution_count": 133,
      "metadata": {},
      "outputs": [
        {
          "data": {
            "text/html": [
              "<div>\n",
              "<style scoped>\n",
              "    .dataframe tbody tr th:only-of-type {\n",
              "        vertical-align: middle;\n",
              "    }\n",
              "\n",
              "    .dataframe tbody tr th {\n",
              "        vertical-align: top;\n",
              "    }\n",
              "\n",
              "    .dataframe thead th {\n",
              "        text-align: right;\n",
              "    }\n",
              "</style>\n",
              "<table border=\"1\" class=\"dataframe\">\n",
              "  <thead>\n",
              "    <tr style=\"text-align: right;\">\n",
              "      <th></th>\n",
              "      <th>SeniorCitizen</th>\n",
              "      <th>Partner</th>\n",
              "      <th>Dependents</th>\n",
              "      <th>tenure</th>\n",
              "      <th>OnlineSecurity</th>\n",
              "      <th>TechSupport</th>\n",
              "      <th>Contract</th>\n",
              "      <th>PaperlessBilling</th>\n",
              "      <th>PaymentMethod</th>\n",
              "      <th>MonthlyCharges</th>\n",
              "      <th>TotalCharges</th>\n",
              "      <th>Churn</th>\n",
              "    </tr>\n",
              "  </thead>\n",
              "  <tbody>\n",
              "    <tr>\n",
              "      <th>0</th>\n",
              "      <td>1</td>\n",
              "      <td>Yes</td>\n",
              "      <td>No</td>\n",
              "      <td>69</td>\n",
              "      <td>Yes</td>\n",
              "      <td>No</td>\n",
              "      <td>One year</td>\n",
              "      <td>No</td>\n",
              "      <td>Credit card (automatic)</td>\n",
              "      <td>87.30</td>\n",
              "      <td>6055.55</td>\n",
              "      <td>No</td>\n",
              "    </tr>\n",
              "    <tr>\n",
              "      <th>1</th>\n",
              "      <td>0</td>\n",
              "      <td>No</td>\n",
              "      <td>No</td>\n",
              "      <td>45</td>\n",
              "      <td>Yes</td>\n",
              "      <td>Yes</td>\n",
              "      <td>Month-to-month</td>\n",
              "      <td>Yes</td>\n",
              "      <td>Credit card (automatic)</td>\n",
              "      <td>108.45</td>\n",
              "      <td>4964.70</td>\n",
              "      <td>No</td>\n",
              "    </tr>\n",
              "    <tr>\n",
              "      <th>2</th>\n",
              "      <td>0</td>\n",
              "      <td>Yes</td>\n",
              "      <td>No</td>\n",
              "      <td>48</td>\n",
              "      <td>No</td>\n",
              "      <td>Yes</td>\n",
              "      <td>Month-to-month</td>\n",
              "      <td>Yes</td>\n",
              "      <td>Credit card (automatic)</td>\n",
              "      <td>105.10</td>\n",
              "      <td>5083.55</td>\n",
              "      <td>No</td>\n",
              "    </tr>\n",
              "    <tr>\n",
              "      <th>3</th>\n",
              "      <td>0</td>\n",
              "      <td>Yes</td>\n",
              "      <td>Yes</td>\n",
              "      <td>32</td>\n",
              "      <td>Yes</td>\n",
              "      <td>No</td>\n",
              "      <td>Month-to-month</td>\n",
              "      <td>No</td>\n",
              "      <td>Electronic check</td>\n",
              "      <td>89.60</td>\n",
              "      <td>2901.80</td>\n",
              "      <td>No</td>\n",
              "    </tr>\n",
              "    <tr>\n",
              "      <th>4</th>\n",
              "      <td>1</td>\n",
              "      <td>No</td>\n",
              "      <td>No</td>\n",
              "      <td>16</td>\n",
              "      <td>No</td>\n",
              "      <td>No</td>\n",
              "      <td>Month-to-month</td>\n",
              "      <td>Yes</td>\n",
              "      <td>Electronic check</td>\n",
              "      <td>96.40</td>\n",
              "      <td>1581.20</td>\n",
              "      <td>Yes</td>\n",
              "    </tr>\n",
              "  </tbody>\n",
              "</table>\n",
              "</div>"
            ],
            "text/plain": [
              "   SeniorCitizen Partner Dependents  tenure OnlineSecurity TechSupport  \\\n",
              "0              1     Yes         No      69            Yes          No   \n",
              "1              0      No         No      45            Yes         Yes   \n",
              "2              0     Yes         No      48             No         Yes   \n",
              "3              0     Yes        Yes      32            Yes          No   \n",
              "4              1      No         No      16             No          No   \n",
              "\n",
              "         Contract PaperlessBilling            PaymentMethod  MonthlyCharges  \\\n",
              "0        One year               No  Credit card (automatic)           87.30   \n",
              "1  Month-to-month              Yes  Credit card (automatic)          108.45   \n",
              "2  Month-to-month              Yes  Credit card (automatic)          105.10   \n",
              "3  Month-to-month               No         Electronic check           89.60   \n",
              "4  Month-to-month              Yes         Electronic check           96.40   \n",
              "\n",
              "   TotalCharges Churn  \n",
              "0       6055.55    No  \n",
              "1       4964.70    No  \n",
              "2       5083.55    No  \n",
              "3       2901.80    No  \n",
              "4       1581.20   Yes  "
            ]
          },
          "execution_count": 133,
          "metadata": {},
          "output_type": "execute_result"
        }
      ],
      "source": [
        "data_inf.head()"
      ]
    },
    {
      "cell_type": "markdown",
      "metadata": {},
      "source": [
        "2. Predict the data using the pipeline "
      ]
    },
    {
      "cell_type": "code",
      "execution_count": 140,
      "metadata": {},
      "outputs": [],
      "source": [
        "data_inf_new = data_inf.iloc[:,:-1]"
      ]
    },
    {
      "cell_type": "code",
      "execution_count": 141,
      "metadata": {},
      "outputs": [],
      "source": [
        "data_inf_pred = prep_pipeline.transform(data_inf_new)"
      ]
    },
    {
      "cell_type": "code",
      "execution_count": 142,
      "metadata": {},
      "outputs": [
        {
          "data": {
            "text/plain": [
              "array([[ 2.23367091,  1.49549172,  0.73788642,  1.6665253 ,  0.        ,\n",
              "         1.        ,  1.        ,  0.        ,  0.        ,  1.        ,\n",
              "         1.        ,  0.        ,  0.        ,  1.        ,  0.        ,\n",
              "         1.        ,  0.        ,  0.        ,  1.        ,  0.        ,\n",
              "         0.        ],\n",
              "       [-0.44769352,  0.51484354,  1.44586691,  1.18370978,  1.        ,\n",
              "         0.        ,  1.        ,  0.        ,  0.        ,  1.        ,\n",
              "         0.        ,  1.        ,  1.        ,  0.        ,  0.        ,\n",
              "         0.        ,  1.        ,  0.        ,  1.        ,  0.        ,\n",
              "         0.        ],\n",
              "       [-0.44769352,  0.63742456,  1.33372815,  1.23631337,  0.        ,\n",
              "         1.        ,  1.        ,  0.        ,  1.        ,  0.        ,\n",
              "         0.        ,  1.        ,  1.        ,  0.        ,  0.        ,\n",
              "         0.        ,  1.        ,  0.        ,  1.        ,  0.        ,\n",
              "         0.        ],\n",
              "       [-0.44769352, -0.01634089,  0.8148772 ,  0.27066019,  0.        ,\n",
              "         1.        ,  0.        ,  1.        ,  0.        ,  1.        ,\n",
              "         1.        ,  0.        ,  1.        ,  0.        ,  0.        ,\n",
              "         1.        ,  0.        ,  0.        ,  0.        ,  1.        ,\n",
              "         0.        ],\n",
              "       [ 2.23367091, -0.67010634,  1.04250214, -0.31384381,  1.        ,\n",
              "         0.        ,  1.        ,  0.        ,  1.        ,  0.        ,\n",
              "         1.        ,  0.        ,  1.        ,  0.        ,  0.        ,\n",
              "         0.        ,  1.        ,  0.        ,  0.        ,  1.        ,\n",
              "         0.        ],\n",
              "       [ 2.23367091, -1.24215111,  0.96216392, -0.93326933,  1.        ,\n",
              "         0.        ,  1.        ,  0.        ,  1.        ,  0.        ,\n",
              "         1.        ,  0.        ,  1.        ,  0.        ,  0.        ,\n",
              "         0.        ,  1.        ,  0.        ,  0.        ,  1.        ,\n",
              "         0.        ],\n",
              "       [-0.44769352, -1.28301145, -1.05968106, -0.99881911,  1.        ,\n",
              "         0.        ,  0.        ,  1.        ,  1.        ,  0.        ,\n",
              "         0.        ,  1.        ,  1.        ,  0.        ,  0.        ,\n",
              "         1.        ,  0.        ,  0.        ,  0.        ,  0.        ,\n",
              "         1.        ],\n",
              "       [-0.44769352,  1.61807274,  1.35046528,  2.34191821,  0.        ,\n",
              "         1.        ,  1.        ,  0.        ,  0.        ,  1.        ,\n",
              "         0.        ,  1.        ,  0.        ,  0.        ,  1.        ,\n",
              "         1.        ,  0.        ,  1.        ,  0.        ,  0.        ,\n",
              "         0.        ],\n",
              "       [-0.44769352, -1.03784941, -1.39777104, -0.93711999,  1.        ,\n",
              "         0.        ,  1.        ,  0.        ,  1.        ,  0.        ,\n",
              "         1.        ,  0.        ,  1.        ,  0.        ,  0.        ,\n",
              "         1.        ,  0.        ,  0.        ,  0.        ,  0.        ,\n",
              "         1.        ],\n",
              "       [-0.44769352, -0.67010634,  0.12865498, -0.53403973,  1.        ,\n",
              "         0.        ,  0.        ,  1.        ,  0.        ,  1.        ,\n",
              "         1.        ,  0.        ,  1.        ,  0.        ,  0.        ,\n",
              "         0.        ,  1.        ,  0.        ,  0.        ,  1.        ,\n",
              "         0.        ],\n",
              "       [-0.44769352, -0.67010634,  0.49185065, -0.45248979,  0.        ,\n",
              "         1.        ,  0.        ,  1.        ,  1.        ,  0.        ,\n",
              "         1.        ,  0.        ,  1.        ,  0.        ,  0.        ,\n",
              "         0.        ,  1.        ,  0.        ,  1.        ,  0.        ,\n",
              "         0.        ],\n",
              "       [-0.44769352,  1.25032967,  1.49273086,  2.08584916,  1.        ,\n",
              "         0.        ,  1.        ,  0.        ,  1.        ,  0.        ,\n",
              "         0.        ,  1.        ,  1.        ,  0.        ,  0.        ,\n",
              "         0.        ,  1.        ,  0.        ,  1.        ,  0.        ,\n",
              "         0.        ],\n",
              "       [-0.44769352,  0.43312286, -0.54250383, -0.0947544 ,  1.        ,\n",
              "         0.        ,  1.        ,  0.        ,  1.        ,  0.        ,\n",
              "         1.        ,  0.        ,  1.        ,  0.        ,  0.        ,\n",
              "         0.        ,  1.        ,  1.        ,  0.        ,  0.        ,\n",
              "         0.        ],\n",
              "       [-0.44769352, -1.24215111,  0.14873953, -0.95385046,  1.        ,\n",
              "         0.        ,  1.        ,  0.        ,  1.        ,  0.        ,\n",
              "         1.        ,  0.        ,  1.        ,  0.        ,  0.        ,\n",
              "         0.        ,  1.        ,  0.        ,  0.        ,  1.        ,\n",
              "         0.        ],\n",
              "       [-0.44769352, -0.91526838,  0.29769997, -0.654384  ,  1.        ,\n",
              "         0.        ,  1.        ,  0.        ,  1.        ,  0.        ,\n",
              "         1.        ,  0.        ,  1.        ,  0.        ,  0.        ,\n",
              "         0.        ,  1.        ,  0.        ,  0.        ,  0.        ,\n",
              "         1.        ],\n",
              "       [ 2.23367091,  0.18796082, -1.52832063, -0.69156281,  0.        ,\n",
              "         1.        ,  1.        ,  0.        ,  1.        ,  0.        ,\n",
              "         1.        ,  0.        ,  0.        ,  1.        ,  0.        ,\n",
              "         1.        ,  0.        ,  0.        ,  0.        ,  0.        ,\n",
              "         1.        ],\n",
              "       [-0.44769352, -1.07870975,  0.81152978, -0.75994526,  1.        ,\n",
              "         0.        ,  1.        ,  0.        ,  1.        ,  0.        ,\n",
              "         1.        ,  0.        ,  1.        ,  0.        ,  0.        ,\n",
              "         0.        ,  1.        ,  0.        ,  0.        ,  1.        ,\n",
              "         0.        ],\n",
              "       [-0.44769352, -1.28301145,  0.10857043, -0.9833722 ,  0.        ,\n",
              "         1.        ,  0.        ,  1.        ,  1.        ,  0.        ,\n",
              "         1.        ,  0.        ,  1.        ,  0.        ,  0.        ,\n",
              "         0.        ,  1.        ,  0.        ,  0.        ,  1.        ,\n",
              "         0.        ],\n",
              "       [-0.44769352,  0.76000559,  0.52699861,  0.79468223,  1.        ,\n",
              "         0.        ,  1.        ,  0.        ,  1.        ,  0.        ,\n",
              "         1.        ,  0.        ,  1.        ,  0.        ,  0.        ,\n",
              "         1.        ,  0.        ,  1.        ,  0.        ,  0.        ,\n",
              "         0.        ],\n",
              "       [ 2.23367091,  1.29119001,  1.55131081,  2.12836136,  0.        ,\n",
              "         1.        ,  0.        ,  1.        ,  0.        ,  1.        ,\n",
              "         0.        ,  1.        ,  0.        ,  0.        ,  1.        ,\n",
              "         0.        ,  1.        ,  1.        ,  0.        ,  0.        ,\n",
              "         0.        ],\n",
              "       [-0.44769352, -0.8335477 , -0.71824366, -0.77426353,  1.        ,\n",
              "         0.        ,  1.        ,  0.        ,  1.        ,  0.        ,\n",
              "         1.        ,  0.        ,  1.        ,  0.        ,  0.        ,\n",
              "         1.        ,  0.        ,  1.        ,  0.        ,  0.        ,\n",
              "         0.        ],\n",
              "       [-0.44769352,  1.33205036,  0.29937368,  1.11331347,  1.        ,\n",
              "         0.        ,  1.        ,  0.        ,  1.        ,  0.        ,\n",
              "         0.        ,  1.        ,  0.        ,  0.        ,  1.        ,\n",
              "         0.        ,  1.        ,  0.        ,  1.        ,  0.        ,\n",
              "         0.        ],\n",
              "       [ 2.23367091, -0.26150293,  0.95714279,  0.040395  ,  0.        ,\n",
              "         1.        ,  1.        ,  0.        ,  1.        ,  0.        ,\n",
              "         1.        ,  0.        ,  1.        ,  0.        ,  0.        ,\n",
              "         0.        ,  1.        ,  0.        ,  0.        ,  1.        ,\n",
              "         0.        ],\n",
              "       [-0.44769352, -1.11957009, -1.50990979, -0.96148539,  1.        ,\n",
              "         0.        ,  1.        ,  0.        ,  1.        ,  0.        ,\n",
              "         1.        ,  0.        ,  1.        ,  0.        ,  0.        ,\n",
              "         1.        ,  0.        ,  0.        ,  0.        ,  0.        ,\n",
              "         1.        ],\n",
              "       [ 2.23367091,  1.3729107 ,  1.3270333 ,  2.03649872,  0.        ,\n",
              "         1.        ,  0.        ,  1.        ,  1.        ,  0.        ,\n",
              "         1.        ,  0.        ,  0.        ,  1.        ,  0.        ,\n",
              "         0.        ,  1.        ,  0.        ,  0.        ,  1.        ,\n",
              "         0.        ],\n",
              "       [ 2.23367091, -0.46580464, -0.17428702, -0.46656462,  1.        ,\n",
              "         0.        ,  1.        ,  0.        ,  1.        ,  0.        ,\n",
              "         1.        ,  0.        ,  1.        ,  0.        ,  0.        ,\n",
              "         0.        ,  1.        ,  1.        ,  0.        ,  0.        ,\n",
              "         0.        ],\n",
              "       [-0.44769352,  1.25032967,  1.15966203,  1.70257547,  1.        ,\n",
              "         0.        ,  1.        ,  0.        ,  1.        ,  0.        ,\n",
              "         1.        ,  0.        ,  0.        ,  1.        ,  0.        ,\n",
              "         1.        ,  0.        ,  1.        ,  0.        ,  0.        ,\n",
              "         0.        ],\n",
              "       [-0.44769352, -0.17978225,  0.51360891, -0.02006482,  1.        ,\n",
              "         0.        ,  1.        ,  0.        ,  1.        ,  0.        ,\n",
              "         1.        ,  0.        ,  1.        ,  0.        ,  0.        ,\n",
              "         0.        ,  1.        ,  0.        ,  0.        ,  1.        ,\n",
              "         0.        ],\n",
              "       [-0.44769352, -1.28301145, -1.50656236, -1.00472789,  1.        ,\n",
              "         0.        ,  1.        ,  0.        ,  1.        ,  0.        ,\n",
              "         1.        ,  0.        ,  1.        ,  0.        ,  0.        ,\n",
              "         1.        ,  0.        ,  0.        ,  0.        ,  0.        ,\n",
              "         1.        ],\n",
              "       [-0.44769352, -1.28301145, -1.51493093, -1.00483854,  1.        ,\n",
              "         0.        ,  1.        ,  0.        ,  1.        ,  0.        ,\n",
              "         1.        ,  0.        ,  1.        ,  0.        ,  0.        ,\n",
              "         1.        ,  0.        ,  0.        ,  0.        ,  0.        ,\n",
              "         1.        ],\n",
              "       [-0.44769352,  1.04602797, -1.50488865, -0.49993703,  0.        ,\n",
              "         1.        ,  0.        ,  1.        ,  1.        ,  0.        ,\n",
              "         1.        ,  0.        ,  0.        ,  0.        ,  1.        ,\n",
              "         1.        ,  0.        ,  0.        ,  1.        ,  0.        ,\n",
              "         0.        ],\n",
              "       [-0.44769352, -1.24215111,  0.17217151, -0.9451754 ,  0.        ,\n",
              "         1.        ,  1.        ,  0.        ,  1.        ,  0.        ,\n",
              "         1.        ,  0.        ,  1.        ,  0.        ,  0.        ,\n",
              "         0.        ,  1.        ,  0.        ,  1.        ,  0.        ,\n",
              "         0.        ],\n",
              "       [-0.44769352,  1.49549172, -0.71322253,  0.29646405,  0.        ,\n",
              "         1.        ,  0.        ,  1.        ,  0.        ,  1.        ,\n",
              "         1.        ,  0.        ,  0.        ,  0.        ,  1.        ,\n",
              "         0.        ,  1.        ,  0.        ,  1.        ,  0.        ,\n",
              "         0.        ],\n",
              "       [-0.44769352, -0.71096668, -0.02030545, -0.57349796,  1.        ,\n",
              "         0.        ,  1.        ,  0.        ,  0.        ,  1.        ,\n",
              "         1.        ,  0.        ,  1.        ,  0.        ,  0.        ,\n",
              "         0.        ,  1.        ,  1.        ,  0.        ,  0.        ,\n",
              "         0.        ],\n",
              "       [-0.44769352, -0.87440804,  0.32447937, -0.64823179,  0.        ,\n",
              "         1.        ,  1.        ,  0.        ,  1.        ,  0.        ,\n",
              "         1.        ,  0.        ,  1.        ,  0.        ,  0.        ,\n",
              "         0.        ,  1.        ,  0.        ,  0.        ,  1.        ,\n",
              "         0.        ],\n",
              "       [-0.44769352,  0.71914524,  0.18556121,  0.5257555 ,  1.        ,\n",
              "         0.        ,  0.        ,  1.        ,  0.        ,  1.        ,\n",
              "         0.        ,  1.        ,  0.        ,  1.        ,  0.        ,\n",
              "         0.        ,  1.        ,  0.        ,  1.        ,  0.        ,\n",
              "         0.        ],\n",
              "       [-0.44769352, -1.28301145, -1.50990979, -1.00477215,  1.        ,\n",
              "         0.        ,  1.        ,  0.        ,  1.        ,  0.        ,\n",
              "         1.        ,  0.        ,  1.        ,  0.        ,  0.        ,\n",
              "         1.        ,  0.        ,  0.        ,  0.        ,  0.        ,\n",
              "         1.        ],\n",
              "       [-0.44769352,  0.10624013, -0.14248648, -0.07074308,  0.        ,\n",
              "         1.        ,  1.        ,  0.        ,  0.        ,  1.        ,\n",
              "         1.        ,  0.        ,  1.        ,  0.        ,  0.        ,\n",
              "         1.        ,  0.        ,  0.        ,  0.        ,  0.        ,\n",
              "         1.        ],\n",
              "       [-0.44769352, -0.91526838, -1.19692551, -0.90071574,  1.        ,\n",
              "         0.        ,  1.        ,  0.        ,  1.        ,  0.        ,\n",
              "         1.        ,  0.        ,  1.        ,  0.        ,  0.        ,\n",
              "         1.        ,  0.        ,  0.        ,  0.        ,  0.        ,\n",
              "         1.        ],\n",
              "       [-0.44769352,  1.00516763,  1.59650105,  1.84774987,  1.        ,\n",
              "         0.        ,  1.        ,  0.        ,  0.        ,  1.        ,\n",
              "         1.        ,  0.        ,  0.        ,  0.        ,  1.        ,\n",
              "         0.        ,  1.        ,  1.        ,  0.        ,  0.        ,\n",
              "         0.        ],\n",
              "       [-0.44769352,  0.22882116, -1.50656236, -0.65307831,  0.        ,\n",
              "         1.        ,  1.        ,  0.        ,  1.        ,  0.        ,\n",
              "         1.        ,  0.        ,  0.        ,  1.        ,  0.        ,\n",
              "         0.        ,  1.        ,  0.        ,  1.        ,  0.        ,\n",
              "         0.        ],\n",
              "       [-0.44769352,  0.39226252,  0.08179102,  0.26200726,  1.        ,\n",
              "         0.        ,  1.        ,  0.        ,  0.        ,  1.        ,\n",
              "         0.        ,  1.        ,  0.        ,  1.        ,  0.        ,\n",
              "         0.        ,  1.        ,  0.        ,  0.        ,  0.        ,\n",
              "         1.        ],\n",
              "       [-0.44769352,  0.2696815 , -1.33249624, -0.58947599,  1.        ,\n",
              "         0.        ,  0.        ,  1.        ,  1.        ,  0.        ,\n",
              "         1.        ,  0.        ,  0.        ,  1.        ,  0.        ,\n",
              "         1.        ,  0.        ,  1.        ,  0.        ,  0.        ,\n",
              "         0.        ]])"
            ]
          },
          "execution_count": 142,
          "metadata": {},
          "output_type": "execute_result"
        }
      ],
      "source": [
        "data_inf_pred"
      ]
    },
    {
      "cell_type": "code",
      "execution_count": 143,
      "metadata": {},
      "outputs": [
        {
          "name": "stdout",
          "output_type": "stream",
          "text": [
            "2/2 [==============================] - 0s 4ms/step\n"
          ]
        }
      ],
      "source": [
        "data_inf_pred = my_model.predict(data_inf_pred)\n"
      ]
    },
    {
      "cell_type": "code",
      "execution_count": 145,
      "metadata": {},
      "outputs": [
        {
          "data": {
            "text/plain": [
              "array([[0],\n",
              "       [1],\n",
              "       [1],\n",
              "       [1],\n",
              "       [1],\n",
              "       [1],\n",
              "       [0],\n",
              "       [0],\n",
              "       [0],\n",
              "       [1],\n",
              "       [1],\n",
              "       [1],\n",
              "       [1],\n",
              "       [1],\n",
              "       [1],\n",
              "       [0],\n",
              "       [1],\n",
              "       [1],\n",
              "       [0],\n",
              "       [0],\n",
              "       [1],\n",
              "       [0],\n",
              "       [1],\n",
              "       [0],\n",
              "       [0],\n",
              "       [1],\n",
              "       [0],\n",
              "       [1],\n",
              "       [0],\n",
              "       [0],\n",
              "       [0],\n",
              "       [1],\n",
              "       [0],\n",
              "       [1],\n",
              "       [1],\n",
              "       [0],\n",
              "       [0],\n",
              "       [0],\n",
              "       [0],\n",
              "       [0],\n",
              "       [0],\n",
              "       [0],\n",
              "       [0]])"
            ]
          },
          "execution_count": 145,
          "metadata": {},
          "output_type": "execute_result"
        }
      ],
      "source": [
        "data_inf_pred = np.where(data_inf_pred >= 0.5, 1, 0)\n",
        "data_inf_pred"
      ]
    },
    {
      "cell_type": "markdown",
      "metadata": {},
      "source": [
        "The model can predict well using data Inference."
      ]
    },
    {
      "cell_type": "markdown",
      "metadata": {
        "id": "K4tqPWDJjU3S"
      },
      "source": [
        "## 10 - Pengambilan Kesimpulan"
      ]
    },
    {
      "cell_type": "markdown",
      "metadata": {
        "id": "rW3bHhP3zdMS"
      },
      "source": [
        "Kesimpulan dari Project ini adalah :\n",
        "\n",
        "1. Dari dataset awal memiliki ukuran 7043 baris dan 21 kolom selanjutnya dibagi menjadi :\n",
        "\n",
        "                            1. X_train, y_train\n",
        "                            2. X_test, y_test\n",
        "                            3. x_val, y_val\n",
        "                            4. Data inference\n",
        "\n",
        "2. Dari hasil loading data info dapat dilihat bahwa dapat diketahui dataset memiliki 11 missing value.\n",
        "\n",
        "3. Dari hasil Preprocessing, diketahui bahwa outlier yang terdapat dapat dihiraukan karena merupakan outliers yang natural. Untuk missing value bisa di-drop karena jumlahnya yang sangat sedikit sehingga tidak akan mempengaruhi model training.\n",
        "\n",
        "6. Model dibuat dan ditraining dengan metode ANN sequential API dan Functional API. Metode optimalization yang digunakan adalah  metode Dropout untuk menghandle model baseline yang overfit. Hasil yang diperoleh cukup baik yaitu model memilki accuracy sekitar 75%.\n",
        "\n",
        "7. Selanjutnya, Model di uji dengan data inference dan berhasil memprediksi dengan baik.\n",
        "\n",
        "\n",
        "\n"
      ]
    },
    {
      "cell_type": "markdown",
      "metadata": {
        "id": "R1WsTrOMzdMT"
      },
      "source": [
        "---"
      ]
    }
  ],
  "metadata": {
    "colab": {
      "collapsed_sections": [],
      "name": "Assignment_Templates.ipynb",
      "provenance": []
    },
    "interpreter": {
      "hash": "7679c2132d3f6ce38c9df14d554b39c06862b36a4e6689c81f9ae15bd0911d7d"
    },
    "kernelspec": {
      "display_name": "Python 3.9.7 ('base')",
      "language": "python",
      "name": "python3"
    },
    "language_info": {
      "codemirror_mode": {
        "name": "ipython",
        "version": 3
      },
      "file_extension": ".py",
      "mimetype": "text/x-python",
      "name": "python",
      "nbconvert_exporter": "python",
      "pygments_lexer": "ipython3",
      "version": "3.9.7"
    }
  },
  "nbformat": 4,
  "nbformat_minor": 0
}
